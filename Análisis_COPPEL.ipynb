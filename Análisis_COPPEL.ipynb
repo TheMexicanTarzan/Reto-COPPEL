{
 "cells": [
  {
   "metadata": {},
   "cell_type": "markdown",
   "source": "# Reto Coppel\n",
   "id": "492edb0b3322d582"
  },
  {
   "metadata": {},
   "cell_type": "markdown",
   "source": "## Importación de librerías",
   "id": "2aa4734f37fbc135"
  },
  {
   "metadata": {
    "collapsed": true,
    "ExecuteTime": {
     "end_time": "2025-03-14T18:34:04.682275Z",
     "start_time": "2025-03-14T18:34:04.676091Z"
    }
   },
   "cell_type": "code",
   "source": [
    "from pyspark.sql import SparkSession\n",
    "from pyspark.sql.functions import col,isnan, when, count"
   ],
   "id": "initial_id",
   "outputs": [],
   "execution_count": 17
  },
  {
   "metadata": {},
   "cell_type": "markdown",
   "source": "## Conexión al servidor",
   "id": "babed1c6b5fc940e"
  },
  {
   "metadata": {
    "ExecuteTime": {
     "end_time": "2025-03-14T18:15:56.202727Z",
     "start_time": "2025-03-14T18:15:55.932407Z"
    }
   },
   "cell_type": "code",
   "source": "spark = SparkSession.builder.master(\"local[*]\").getOrCreate()",
   "id": "6989b015c73ff8f4",
   "outputs": [],
   "execution_count": 4
  },
  {
   "metadata": {},
   "cell_type": "markdown",
   "source": "## Carga de datos",
   "id": "faf0c8c5a77b1dd"
  },
  {
   "metadata": {
    "ExecuteTime": {
     "end_time": "2025-03-14T18:22:19.512822Z",
     "start_time": "2025-03-14T18:21:51.039076Z"
    }
   },
   "cell_type": "code",
   "source": "df = spark.read.csv(\"../dataset.csv\", header=True, inferSchema=True)",
   "id": "9cc70be7fe924906",
   "outputs": [],
   "execution_count": 7
  },
  {
   "metadata": {},
   "cell_type": "markdown",
   "source": "## Inspección",
   "id": "c45283892b736ae9"
  },
  {
   "metadata": {
    "ExecuteTime": {
     "end_time": "2025-03-14T18:30:14.637825Z",
     "start_time": "2025-03-14T18:30:14.494463Z"
    }
   },
   "cell_type": "code",
   "source": "df.show(5)",
   "id": "ae58f1cac9a00797",
   "outputs": [
    {
     "name": "stdout",
     "output_type": "stream",
     "text": [
      "+------+----------+--------+------------------+------------------+------------------+------+--------+--------+----------------+\n",
      "|   _c0|     Fecha|Segmento|      hora_llegada|      hora_llamado|       hora_salida|  caja|  tienda|  status|          estado|\n",
      "+------+----------+--------+------------------+------------------+------------------+------+--------+--------+----------------+\n",
      "|821243|2023-01-01|  retail|0.5034652777777778|0.5034768518518519|0.5035810185185186|caja_a|Tienda_A|Atendido|Ciudad de México|\n",
      "|821244|2023-01-01|  retail|0.5035810185185186|0.5036157407407408|0.5111736111111111|caja_a|Tienda_A|Atendido|Ciudad de México|\n",
      "|821245|2023-01-01|  retail|0.5037893518518518| 0.503800925925926|0.5051203703703704|caja_b|Tienda_A|Atendido|Ciudad de México|\n",
      "|821246|2023-01-01|  retail|0.5038472222222222|0.5051319444444444|0.5093333333333333|caja_b|Tienda_A|Atendido|Ciudad de México|\n",
      "|821247|2023-01-01|  retail|0.5038935185185185|0.5080717592592593|0.5099814814814815|caja_c|Tienda_A|Atendido|Ciudad de México|\n",
      "+------+----------+--------+------------------+------------------+------------------+------+--------+--------+----------------+\n",
      "only showing top 5 rows\n",
      "\n"
     ]
    }
   ],
   "execution_count": 13
  },
  {
   "metadata": {
    "ExecuteTime": {
     "end_time": "2025-03-14T18:30:21.134215Z",
     "start_time": "2025-03-14T18:30:15.416575Z"
    }
   },
   "cell_type": "code",
   "source": "print((df.count(), len(df.columns)))",
   "id": "bd308fe254c6943a",
   "outputs": [
    {
     "name": "stdout",
     "output_type": "stream",
     "text": [
      "(18510772, 10)\n"
     ]
    }
   ],
   "execution_count": 14
  },
  {
   "metadata": {
    "ExecuteTime": {
     "end_time": "2025-03-14T18:32:57.709787Z",
     "start_time": "2025-03-14T18:32:57.701303Z"
    }
   },
   "cell_type": "code",
   "source": "df.printSchema()",
   "id": "f29f0bd9c4581521",
   "outputs": [
    {
     "name": "stdout",
     "output_type": "stream",
     "text": [
      "root\n",
      " |-- _c0: integer (nullable = true)\n",
      " |-- Fecha: date (nullable = true)\n",
      " |-- Segmento: string (nullable = true)\n",
      " |-- hora_llegada: double (nullable = true)\n",
      " |-- hora_llamado: double (nullable = true)\n",
      " |-- hora_salida: double (nullable = true)\n",
      " |-- caja: string (nullable = true)\n",
      " |-- tienda: string (nullable = true)\n",
      " |-- status: string (nullable = true)\n",
      " |-- estado: string (nullable = true)\n",
      "\n"
     ]
    }
   ],
   "execution_count": 15
  },
  {
   "metadata": {
    "ExecuteTime": {
     "end_time": "2025-03-14T18:34:09.429600Z",
     "start_time": "2025-03-14T18:34:07.538651Z"
    }
   },
   "cell_type": "code",
   "source": [
    "df.select([count(when(isnan(c) | col(c).isNull(), c)).alias(c) for c in df.columns]\n",
    "   ).show()"
   ],
   "id": "74b0212d6209e1e2",
   "outputs": [
    {
     "ename": "AnalysisException",
     "evalue": "[DATATYPE_MISMATCH.UNEXPECTED_INPUT_TYPE] Cannot resolve \"isnan(Fecha)\" due to data type mismatch: Parameter 1 requires the (\"DOUBLE\" or \"FLOAT\") type, however \"Fecha\" has the type \"DATE\".;\n'Aggregate [count(CASE WHEN (isnan(cast(_c0#54 as double)) OR isnull(_c0#54)) THEN _c0 END) AS _c0#264L, count(CASE WHEN (isnan(Fecha#55) OR isnull(Fecha#55)) THEN Fecha END) AS Fecha#266, count(CASE WHEN (isnan(cast(Segmento#56 as double)) OR isnull(Segmento#56)) THEN Segmento END) AS Segmento#268L, count(CASE WHEN (isnan(hora_llegada#57) OR isnull(hora_llegada#57)) THEN hora_llegada END) AS hora_llegada#270L, count(CASE WHEN (isnan(hora_llamado#58) OR isnull(hora_llamado#58)) THEN hora_llamado END) AS hora_llamado#272L, count(CASE WHEN (isnan(hora_salida#59) OR isnull(hora_salida#59)) THEN hora_salida END) AS hora_salida#274L, count(CASE WHEN (isnan(cast(caja#60 as double)) OR isnull(caja#60)) THEN caja END) AS caja#276L, count(CASE WHEN (isnan(cast(tienda#61 as double)) OR isnull(tienda#61)) THEN tienda END) AS tienda#278L, count(CASE WHEN (isnan(cast(status#62 as double)) OR isnull(status#62)) THEN status END) AS status#280L, count(CASE WHEN (isnan(cast(estado#63 as double)) OR isnull(estado#63)) THEN estado END) AS estado#282L]\n+- Relation [_c0#54,Fecha#55,Segmento#56,hora_llegada#57,hora_llamado#58,hora_salida#59,caja#60,tienda#61,status#62,estado#63] csv\n",
     "output_type": "error",
     "traceback": [
      "\u001B[1;31m---------------------------------------------------------------------------\u001B[0m",
      "\u001B[1;31mAnalysisException\u001B[0m                         Traceback (most recent call last)",
      "Cell \u001B[1;32mIn[18], line 1\u001B[0m\n\u001B[1;32m----> 1\u001B[0m df\u001B[38;5;241m.\u001B[39mselect([count(when(isnan(c) \u001B[38;5;241m|\u001B[39m col(c)\u001B[38;5;241m.\u001B[39misNull(), c))\u001B[38;5;241m.\u001B[39malias(c) \u001B[38;5;28;01mfor\u001B[39;00m c \u001B[38;5;129;01min\u001B[39;00m df\u001B[38;5;241m.\u001B[39mcolumns]\n\u001B[0;32m      2\u001B[0m    )\u001B[38;5;241m.\u001B[39mshow()\n",
      "File \u001B[1;32m~\\anaconda3\\Lib\\site-packages\\pyspark\\sql\\dataframe.py:3229\u001B[0m, in \u001B[0;36mDataFrame.select\u001B[1;34m(self, *cols)\u001B[0m\n\u001B[0;32m   3184\u001B[0m \u001B[38;5;28;01mdef\u001B[39;00m \u001B[38;5;21mselect\u001B[39m(\u001B[38;5;28mself\u001B[39m, \u001B[38;5;241m*\u001B[39mcols: \u001B[38;5;124m\"\u001B[39m\u001B[38;5;124mColumnOrName\u001B[39m\u001B[38;5;124m\"\u001B[39m) \u001B[38;5;241m-\u001B[39m\u001B[38;5;241m>\u001B[39m \u001B[38;5;124m\"\u001B[39m\u001B[38;5;124mDataFrame\u001B[39m\u001B[38;5;124m\"\u001B[39m:  \u001B[38;5;66;03m# type: ignore[misc]\u001B[39;00m\n\u001B[0;32m   3185\u001B[0m \u001B[38;5;250m    \u001B[39m\u001B[38;5;124;03m\"\"\"Projects a set of expressions and returns a new :class:`DataFrame`.\u001B[39;00m\n\u001B[0;32m   3186\u001B[0m \n\u001B[0;32m   3187\u001B[0m \u001B[38;5;124;03m    .. versionadded:: 1.3.0\u001B[39;00m\n\u001B[1;32m   (...)\u001B[0m\n\u001B[0;32m   3227\u001B[0m \u001B[38;5;124;03m    +-----+---+\u001B[39;00m\n\u001B[0;32m   3228\u001B[0m \u001B[38;5;124;03m    \"\"\"\u001B[39;00m\n\u001B[1;32m-> 3229\u001B[0m     jdf \u001B[38;5;241m=\u001B[39m \u001B[38;5;28mself\u001B[39m\u001B[38;5;241m.\u001B[39m_jdf\u001B[38;5;241m.\u001B[39mselect(\u001B[38;5;28mself\u001B[39m\u001B[38;5;241m.\u001B[39m_jcols(\u001B[38;5;241m*\u001B[39mcols))\n\u001B[0;32m   3230\u001B[0m     \u001B[38;5;28;01mreturn\u001B[39;00m DataFrame(jdf, \u001B[38;5;28mself\u001B[39m\u001B[38;5;241m.\u001B[39msparkSession)\n",
      "File \u001B[1;32m~\\anaconda3\\Lib\\site-packages\\py4j\\java_gateway.py:1322\u001B[0m, in \u001B[0;36mJavaMember.__call__\u001B[1;34m(self, *args)\u001B[0m\n\u001B[0;32m   1316\u001B[0m command \u001B[38;5;241m=\u001B[39m proto\u001B[38;5;241m.\u001B[39mCALL_COMMAND_NAME \u001B[38;5;241m+\u001B[39m\\\n\u001B[0;32m   1317\u001B[0m     \u001B[38;5;28mself\u001B[39m\u001B[38;5;241m.\u001B[39mcommand_header \u001B[38;5;241m+\u001B[39m\\\n\u001B[0;32m   1318\u001B[0m     args_command \u001B[38;5;241m+\u001B[39m\\\n\u001B[0;32m   1319\u001B[0m     proto\u001B[38;5;241m.\u001B[39mEND_COMMAND_PART\n\u001B[0;32m   1321\u001B[0m answer \u001B[38;5;241m=\u001B[39m \u001B[38;5;28mself\u001B[39m\u001B[38;5;241m.\u001B[39mgateway_client\u001B[38;5;241m.\u001B[39msend_command(command)\n\u001B[1;32m-> 1322\u001B[0m return_value \u001B[38;5;241m=\u001B[39m get_return_value(\n\u001B[0;32m   1323\u001B[0m     answer, \u001B[38;5;28mself\u001B[39m\u001B[38;5;241m.\u001B[39mgateway_client, \u001B[38;5;28mself\u001B[39m\u001B[38;5;241m.\u001B[39mtarget_id, \u001B[38;5;28mself\u001B[39m\u001B[38;5;241m.\u001B[39mname)\n\u001B[0;32m   1325\u001B[0m \u001B[38;5;28;01mfor\u001B[39;00m temp_arg \u001B[38;5;129;01min\u001B[39;00m temp_args:\n\u001B[0;32m   1326\u001B[0m     \u001B[38;5;28;01mif\u001B[39;00m \u001B[38;5;28mhasattr\u001B[39m(temp_arg, \u001B[38;5;124m\"\u001B[39m\u001B[38;5;124m_detach\u001B[39m\u001B[38;5;124m\"\u001B[39m):\n",
      "File \u001B[1;32m~\\anaconda3\\Lib\\site-packages\\pyspark\\errors\\exceptions\\captured.py:185\u001B[0m, in \u001B[0;36mcapture_sql_exception.<locals>.deco\u001B[1;34m(*a, **kw)\u001B[0m\n\u001B[0;32m    181\u001B[0m converted \u001B[38;5;241m=\u001B[39m convert_exception(e\u001B[38;5;241m.\u001B[39mjava_exception)\n\u001B[0;32m    182\u001B[0m \u001B[38;5;28;01mif\u001B[39;00m \u001B[38;5;129;01mnot\u001B[39;00m \u001B[38;5;28misinstance\u001B[39m(converted, UnknownException):\n\u001B[0;32m    183\u001B[0m     \u001B[38;5;66;03m# Hide where the exception came from that shows a non-Pythonic\u001B[39;00m\n\u001B[0;32m    184\u001B[0m     \u001B[38;5;66;03m# JVM exception message.\u001B[39;00m\n\u001B[1;32m--> 185\u001B[0m     \u001B[38;5;28;01mraise\u001B[39;00m converted \u001B[38;5;28;01mfrom\u001B[39;00m \u001B[38;5;28;01mNone\u001B[39;00m\n\u001B[0;32m    186\u001B[0m \u001B[38;5;28;01melse\u001B[39;00m:\n\u001B[0;32m    187\u001B[0m     \u001B[38;5;28;01mraise\u001B[39;00m\n",
      "\u001B[1;31mAnalysisException\u001B[0m: [DATATYPE_MISMATCH.UNEXPECTED_INPUT_TYPE] Cannot resolve \"isnan(Fecha)\" due to data type mismatch: Parameter 1 requires the (\"DOUBLE\" or \"FLOAT\") type, however \"Fecha\" has the type \"DATE\".;\n'Aggregate [count(CASE WHEN (isnan(cast(_c0#54 as double)) OR isnull(_c0#54)) THEN _c0 END) AS _c0#264L, count(CASE WHEN (isnan(Fecha#55) OR isnull(Fecha#55)) THEN Fecha END) AS Fecha#266, count(CASE WHEN (isnan(cast(Segmento#56 as double)) OR isnull(Segmento#56)) THEN Segmento END) AS Segmento#268L, count(CASE WHEN (isnan(hora_llegada#57) OR isnull(hora_llegada#57)) THEN hora_llegada END) AS hora_llegada#270L, count(CASE WHEN (isnan(hora_llamado#58) OR isnull(hora_llamado#58)) THEN hora_llamado END) AS hora_llamado#272L, count(CASE WHEN (isnan(hora_salida#59) OR isnull(hora_salida#59)) THEN hora_salida END) AS hora_salida#274L, count(CASE WHEN (isnan(cast(caja#60 as double)) OR isnull(caja#60)) THEN caja END) AS caja#276L, count(CASE WHEN (isnan(cast(tienda#61 as double)) OR isnull(tienda#61)) THEN tienda END) AS tienda#278L, count(CASE WHEN (isnan(cast(status#62 as double)) OR isnull(status#62)) THEN status END) AS status#280L, count(CASE WHEN (isnan(cast(estado#63 as double)) OR isnull(estado#63)) THEN estado END) AS estado#282L]\n+- Relation [_c0#54,Fecha#55,Segmento#56,hora_llegada#57,hora_llamado#58,hora_salida#59,caja#60,tienda#61,status#62,estado#63] csv\n"
     ]
    }
   ],
   "execution_count": 18
  },
  {
   "metadata": {},
   "cell_type": "code",
   "outputs": [],
   "execution_count": null,
   "source": "",
   "id": "351683f0929b5901"
  }
 ],
 "metadata": {
  "kernelspec": {
   "display_name": "Python 3",
   "language": "python",
   "name": "python3"
  },
  "language_info": {
   "codemirror_mode": {
    "name": "ipython",
    "version": 2
   },
   "file_extension": ".py",
   "mimetype": "text/x-python",
   "name": "python",
   "nbconvert_exporter": "python",
   "pygments_lexer": "ipython2",
   "version": "2.7.6"
  }
 },
 "nbformat": 4,
 "nbformat_minor": 5
}
