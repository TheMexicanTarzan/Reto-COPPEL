{
 "cells": [
  {
   "metadata": {},
   "cell_type": "markdown",
   "source": "# Reto Coppel\n",
   "id": "492edb0b3322d582"
  },
  {
   "metadata": {},
   "cell_type": "markdown",
   "source": "## Importación de librerías",
   "id": "2aa4734f37fbc135"
  },
  {
   "metadata": {
    "collapsed": true,
    "ExecuteTime": {
     "end_time": "2025-03-21T23:48:11.912646Z",
     "start_time": "2025-03-21T23:48:11.254678Z"
    }
   },
   "cell_type": "code",
   "source": [
    "from pyspark.sql import SparkSession\n",
    "\n",
    "import pandas as pd\n",
    "import numpy as np\n",
    "import matplotlib.pyplot as plt\n",
    "from scipy import stats\n",
    "import multiprocessing as mp"
   ],
   "id": "initial_id",
   "outputs": [],
   "execution_count": 169
  },
  {
   "metadata": {},
   "cell_type": "markdown",
   "source": "## Carga de datos",
   "id": "faf0c8c5a77b1dd"
  },
  {
   "metadata": {
    "ExecuteTime": {
     "end_time": "2025-03-21T21:56:36.251943Z",
     "start_time": "2025-03-21T21:56:07.698983Z"
    }
   },
   "cell_type": "code",
   "source": "df = pd.read_csv(\"../dataset.csv\")",
   "id": "9cc70be7fe924906",
   "outputs": [],
   "execution_count": 125
  },
  {
   "metadata": {
    "ExecuteTime": {
     "end_time": "2025-03-21T21:56:36.302607Z",
     "start_time": "2025-03-21T21:56:36.297356Z"
    }
   },
   "cell_type": "code",
   "source": "df.columns = df.columns.str.capitalize()",
   "id": "7927e0d5e415be55",
   "outputs": [],
   "execution_count": 126
  },
  {
   "metadata": {},
   "cell_type": "markdown",
   "source": "## Inspección",
   "id": "c45283892b736ae9"
  },
  {
   "metadata": {
    "ExecuteTime": {
     "end_time": "2025-03-21T21:56:36.439836Z",
     "start_time": "2025-03-21T21:56:36.367804Z"
    }
   },
   "cell_type": "code",
   "source": "df.head(5)",
   "id": "ae58f1cac9a00797",
   "outputs": [
    {
     "data": {
      "text/plain": [
       "   Unnamed: 0       Fecha Segmento  Hora_llegada  Hora_llamado  Hora_salida  \\\n",
       "0      821243  2023-01-01   retail      0.503465      0.503477     0.503581   \n",
       "1      821244  2023-01-01   retail      0.503581      0.503616     0.511174   \n",
       "2      821245  2023-01-01   retail      0.503789      0.503801     0.505120   \n",
       "3      821246  2023-01-01   retail      0.503847      0.505132     0.509333   \n",
       "4      821247  2023-01-01   retail      0.503894      0.508072     0.509981   \n",
       "\n",
       "     Caja    Tienda    Status            Estado  \n",
       "0  caja_a  Tienda_A  Atendido  Ciudad de México  \n",
       "1  caja_a  Tienda_A  Atendido  Ciudad de México  \n",
       "2  caja_b  Tienda_A  Atendido  Ciudad de México  \n",
       "3  caja_b  Tienda_A  Atendido  Ciudad de México  \n",
       "4  caja_c  Tienda_A  Atendido  Ciudad de México  "
      ],
      "text/html": [
       "<div>\n",
       "<style scoped>\n",
       "    .dataframe tbody tr th:only-of-type {\n",
       "        vertical-align: middle;\n",
       "    }\n",
       "\n",
       "    .dataframe tbody tr th {\n",
       "        vertical-align: top;\n",
       "    }\n",
       "\n",
       "    .dataframe thead th {\n",
       "        text-align: right;\n",
       "    }\n",
       "</style>\n",
       "<table border=\"1\" class=\"dataframe\">\n",
       "  <thead>\n",
       "    <tr style=\"text-align: right;\">\n",
       "      <th></th>\n",
       "      <th>Unnamed: 0</th>\n",
       "      <th>Fecha</th>\n",
       "      <th>Segmento</th>\n",
       "      <th>Hora_llegada</th>\n",
       "      <th>Hora_llamado</th>\n",
       "      <th>Hora_salida</th>\n",
       "      <th>Caja</th>\n",
       "      <th>Tienda</th>\n",
       "      <th>Status</th>\n",
       "      <th>Estado</th>\n",
       "    </tr>\n",
       "  </thead>\n",
       "  <tbody>\n",
       "    <tr>\n",
       "      <th>0</th>\n",
       "      <td>821243</td>\n",
       "      <td>2023-01-01</td>\n",
       "      <td>retail</td>\n",
       "      <td>0.503465</td>\n",
       "      <td>0.503477</td>\n",
       "      <td>0.503581</td>\n",
       "      <td>caja_a</td>\n",
       "      <td>Tienda_A</td>\n",
       "      <td>Atendido</td>\n",
       "      <td>Ciudad de México</td>\n",
       "    </tr>\n",
       "    <tr>\n",
       "      <th>1</th>\n",
       "      <td>821244</td>\n",
       "      <td>2023-01-01</td>\n",
       "      <td>retail</td>\n",
       "      <td>0.503581</td>\n",
       "      <td>0.503616</td>\n",
       "      <td>0.511174</td>\n",
       "      <td>caja_a</td>\n",
       "      <td>Tienda_A</td>\n",
       "      <td>Atendido</td>\n",
       "      <td>Ciudad de México</td>\n",
       "    </tr>\n",
       "    <tr>\n",
       "      <th>2</th>\n",
       "      <td>821245</td>\n",
       "      <td>2023-01-01</td>\n",
       "      <td>retail</td>\n",
       "      <td>0.503789</td>\n",
       "      <td>0.503801</td>\n",
       "      <td>0.505120</td>\n",
       "      <td>caja_b</td>\n",
       "      <td>Tienda_A</td>\n",
       "      <td>Atendido</td>\n",
       "      <td>Ciudad de México</td>\n",
       "    </tr>\n",
       "    <tr>\n",
       "      <th>3</th>\n",
       "      <td>821246</td>\n",
       "      <td>2023-01-01</td>\n",
       "      <td>retail</td>\n",
       "      <td>0.503847</td>\n",
       "      <td>0.505132</td>\n",
       "      <td>0.509333</td>\n",
       "      <td>caja_b</td>\n",
       "      <td>Tienda_A</td>\n",
       "      <td>Atendido</td>\n",
       "      <td>Ciudad de México</td>\n",
       "    </tr>\n",
       "    <tr>\n",
       "      <th>4</th>\n",
       "      <td>821247</td>\n",
       "      <td>2023-01-01</td>\n",
       "      <td>retail</td>\n",
       "      <td>0.503894</td>\n",
       "      <td>0.508072</td>\n",
       "      <td>0.509981</td>\n",
       "      <td>caja_c</td>\n",
       "      <td>Tienda_A</td>\n",
       "      <td>Atendido</td>\n",
       "      <td>Ciudad de México</td>\n",
       "    </tr>\n",
       "  </tbody>\n",
       "</table>\n",
       "</div>"
      ]
     },
     "execution_count": 127,
     "metadata": {},
     "output_type": "execute_result"
    }
   ],
   "execution_count": 127
  },
  {
   "metadata": {
    "ExecuteTime": {
     "end_time": "2025-03-21T21:56:40.739762Z",
     "start_time": "2025-03-21T21:56:36.679042Z"
    }
   },
   "cell_type": "code",
   "source": "df.count(), len(df.columns)",
   "id": "bd308fe254c6943a",
   "outputs": [
    {
     "data": {
      "text/plain": [
       "(Unnamed: 0      18510772\n",
       " Fecha           18510772\n",
       " Segmento        18510772\n",
       " Hora_llegada    18510772\n",
       " Hora_llamado    18510772\n",
       " Hora_salida     18510772\n",
       " Caja            18510772\n",
       " Tienda          18510772\n",
       " Status          18510772\n",
       " Estado          18510772\n",
       " dtype: int64,\n",
       " 10)"
      ]
     },
     "execution_count": 128,
     "metadata": {},
     "output_type": "execute_result"
    }
   ],
   "execution_count": 128
  },
  {
   "metadata": {},
   "cell_type": "markdown",
   "source": "### Tipos de datos",
   "id": "19d2fe860762a780"
  },
  {
   "metadata": {
    "ExecuteTime": {
     "end_time": "2025-03-21T21:56:40.799380Z",
     "start_time": "2025-03-21T21:56:40.788228Z"
    }
   },
   "cell_type": "code",
   "source": "print(df.info())",
   "id": "f29f0bd9c4581521",
   "outputs": [
    {
     "name": "stdout",
     "output_type": "stream",
     "text": [
      "<class 'pandas.core.frame.DataFrame'>\n",
      "RangeIndex: 18510772 entries, 0 to 18510771\n",
      "Data columns (total 10 columns):\n",
      " #   Column        Dtype  \n",
      "---  ------        -----  \n",
      " 0   Unnamed: 0    int64  \n",
      " 1   Fecha         object \n",
      " 2   Segmento      object \n",
      " 3   Hora_llegada  float64\n",
      " 4   Hora_llamado  float64\n",
      " 5   Hora_salida   float64\n",
      " 6   Caja          object \n",
      " 7   Tienda        object \n",
      " 8   Status        object \n",
      " 9   Estado        object \n",
      "dtypes: float64(3), int64(1), object(6)\n",
      "memory usage: 1.4+ GB\n",
      "None\n"
     ]
    }
   ],
   "execution_count": 129
  },
  {
   "metadata": {},
   "cell_type": "markdown",
   "source": "El tipo de dato de cada atributo corresponde a la naturaleza del atributo.",
   "id": "6cfecebba57f96f8"
  },
  {
   "metadata": {},
   "cell_type": "markdown",
   "source": "### Valores nulos",
   "id": "d6b2a4ecdf882234"
  },
  {
   "metadata": {
    "ExecuteTime": {
     "end_time": "2025-03-21T21:56:44.454402Z",
     "start_time": "2025-03-21T21:56:40.846683Z"
    }
   },
   "cell_type": "code",
   "source": "null_counts = df.isnull().sum()",
   "id": "74b0212d6209e1e2",
   "outputs": [],
   "execution_count": 130
  },
  {
   "metadata": {},
   "cell_type": "markdown",
   "source": "No hay valores nulos.",
   "id": "43fab0601a33cdf1"
  },
  {
   "metadata": {},
   "cell_type": "markdown",
   "source": "### Valores únicos",
   "id": "fe40d281d73d304d"
  },
  {
   "metadata": {
    "ExecuteTime": {
     "end_time": "2025-03-21T21:56:45.339552Z",
     "start_time": "2025-03-21T21:56:44.507333Z"
    }
   },
   "cell_type": "code",
   "source": [
    "unique_values_list = df[\"Segmento\"].drop_duplicates().tolist()\n",
    "print(unique_values_list)"
   ],
   "id": "351683f0929b5901",
   "outputs": [
    {
     "name": "stdout",
     "output_type": "stream",
     "text": [
      "['retail', 'banco', 'afiliacion']\n"
     ]
    }
   ],
   "execution_count": 131
  },
  {
   "metadata": {},
   "cell_type": "markdown",
   "source": [
    "Hay tres tipos de segmento que corresponden a los siguientes tipos: \\\n",
    "Banco: Bancoppel \\\n",
    "Retail: Coppel \\\n",
    "Afiliación: Promotoría"
   ],
   "id": "f888559d390eb08"
  },
  {
   "metadata": {
    "ExecuteTime": {
     "end_time": "2025-03-21T21:56:46.378352Z",
     "start_time": "2025-03-21T21:56:45.377967Z"
    }
   },
   "cell_type": "code",
   "source": "print(df[\"Caja\"].unique())",
   "id": "e07879d086ec79ac",
   "outputs": [
    {
     "name": "stdout",
     "output_type": "stream",
     "text": [
      "['caja_a' 'caja_b' 'caja_c' 'caja_d' 'caja_e' 'caja_f' 'caja_j' 'caja_h'\n",
      " 'caja_i' 'caja_k' 'ventanilla_a' 'ventanilla_b' 'caja_l' 'ventanilla_c'\n",
      " 'ventanilla_d' 'caja_m' 'p_a' 'ventanilla_e' 'ventanilla_f' 'caja_n'\n",
      " 'p_b' 'p_c' 'caja_o' 'p_d' 'p_e' 'caja_p' 'caja_q' 'p_f' 'p_g' 'p_h'\n",
      " 'p_i' 'p_j' 'p_k' 'p_l' 'p_m' 'p_n' 'ventanilla_g' 'p_o' 'p_p' 'a_a'\n",
      " 'a_b' 'p_q' 'p_r' 'p_s' 'caja_r' 'caja_s' 'caja_t' 'caja_u' 'caja_v'\n",
      " 'Caja_a' 'ventanilla_h' 'p_t' 'Caja_b' 'p_u' 'ventanilla_i' 'Caja_c'\n",
      " 'Caja_d' 'Caja_e' 'p_v' 'p_y' 'ventanilla_j' 'Caja_f' 'ventanilla_k'\n",
      " 'ventanilla_l' 'ventanilla_m' 'ventanilla_n' 'ventanilla_o'\n",
      " 'ventanilla_p' 'ventanilla_q' 'p_z' 'P_a' 'P_b' 'ventanilla_r'\n",
      " 'ventanilla_s' 'P_c' 'caja_x' 'P_d']\n"
     ]
    }
   ],
   "execution_count": 132
  },
  {
   "metadata": {},
   "cell_type": "markdown",
   "source": "Se tienen 77 cajas distintas que se dividen en tres tipos: caja, ventanilla, p. Hay errores de etiquetado.",
   "id": "3af3d0b0ed8d1082"
  },
  {
   "metadata": {
    "ExecuteTime": {
     "end_time": "2025-03-21T21:56:50.280813Z",
     "start_time": "2025-03-21T21:56:46.419056Z"
    }
   },
   "cell_type": "code",
   "source": [
    "result = df.groupby([\"Segmento\", \"Caja\"]).agg(Cajas_distintas=(\"Caja\", \"nunique\"))\n",
    "result"
   ],
   "id": "d8d96a89d249738d",
   "outputs": [
    {
     "data": {
      "text/plain": [
       "                         Cajas_distintas\n",
       "Segmento   Caja                         \n",
       "afiliacion P_a                         1\n",
       "           P_b                         1\n",
       "           P_c                         1\n",
       "           P_d                         1\n",
       "           caja_a                      1\n",
       "...                                  ...\n",
       "retail     ventanilla_n                1\n",
       "           ventanilla_o                1\n",
       "           ventanilla_p                1\n",
       "           ventanilla_r                1\n",
       "           ventanilla_s                1\n",
       "\n",
       "[211 rows x 1 columns]"
      ],
      "text/html": [
       "<div>\n",
       "<style scoped>\n",
       "    .dataframe tbody tr th:only-of-type {\n",
       "        vertical-align: middle;\n",
       "    }\n",
       "\n",
       "    .dataframe tbody tr th {\n",
       "        vertical-align: top;\n",
       "    }\n",
       "\n",
       "    .dataframe thead th {\n",
       "        text-align: right;\n",
       "    }\n",
       "</style>\n",
       "<table border=\"1\" class=\"dataframe\">\n",
       "  <thead>\n",
       "    <tr style=\"text-align: right;\">\n",
       "      <th></th>\n",
       "      <th></th>\n",
       "      <th>Cajas_distintas</th>\n",
       "    </tr>\n",
       "    <tr>\n",
       "      <th>Segmento</th>\n",
       "      <th>Caja</th>\n",
       "      <th></th>\n",
       "    </tr>\n",
       "  </thead>\n",
       "  <tbody>\n",
       "    <tr>\n",
       "      <th rowspan=\"5\" valign=\"top\">afiliacion</th>\n",
       "      <th>P_a</th>\n",
       "      <td>1</td>\n",
       "    </tr>\n",
       "    <tr>\n",
       "      <th>P_b</th>\n",
       "      <td>1</td>\n",
       "    </tr>\n",
       "    <tr>\n",
       "      <th>P_c</th>\n",
       "      <td>1</td>\n",
       "    </tr>\n",
       "    <tr>\n",
       "      <th>P_d</th>\n",
       "      <td>1</td>\n",
       "    </tr>\n",
       "    <tr>\n",
       "      <th>caja_a</th>\n",
       "      <td>1</td>\n",
       "    </tr>\n",
       "    <tr>\n",
       "      <th>...</th>\n",
       "      <th>...</th>\n",
       "      <td>...</td>\n",
       "    </tr>\n",
       "    <tr>\n",
       "      <th rowspan=\"5\" valign=\"top\">retail</th>\n",
       "      <th>ventanilla_n</th>\n",
       "      <td>1</td>\n",
       "    </tr>\n",
       "    <tr>\n",
       "      <th>ventanilla_o</th>\n",
       "      <td>1</td>\n",
       "    </tr>\n",
       "    <tr>\n",
       "      <th>ventanilla_p</th>\n",
       "      <td>1</td>\n",
       "    </tr>\n",
       "    <tr>\n",
       "      <th>ventanilla_r</th>\n",
       "      <td>1</td>\n",
       "    </tr>\n",
       "    <tr>\n",
       "      <th>ventanilla_s</th>\n",
       "      <td>1</td>\n",
       "    </tr>\n",
       "  </tbody>\n",
       "</table>\n",
       "<p>211 rows × 1 columns</p>\n",
       "</div>"
      ]
     },
     "execution_count": 133,
     "metadata": {},
     "output_type": "execute_result"
    }
   ],
   "execution_count": 133
  },
  {
   "metadata": {},
   "cell_type": "markdown",
   "source": "Cada segmento tiene diferentes cajas.",
   "id": "c54fc5548433e491"
  },
  {
   "metadata": {
    "ExecuteTime": {
     "end_time": "2025-03-21T21:56:52.783447Z",
     "start_time": "2025-03-21T21:56:50.384918Z"
    }
   },
   "cell_type": "code",
   "source": "df.groupby(\"Segmento\").agg(Cajas_distintas=(\"Caja\", \"nunique\"))",
   "id": "1d91e49917aec73d",
   "outputs": [
    {
     "data": {
      "text/plain": [
       "            Cajas_distintas\n",
       "Segmento                   \n",
       "afiliacion               62\n",
       "banco                    75\n",
       "retail                   74"
      ],
      "text/html": [
       "<div>\n",
       "<style scoped>\n",
       "    .dataframe tbody tr th:only-of-type {\n",
       "        vertical-align: middle;\n",
       "    }\n",
       "\n",
       "    .dataframe tbody tr th {\n",
       "        vertical-align: top;\n",
       "    }\n",
       "\n",
       "    .dataframe thead th {\n",
       "        text-align: right;\n",
       "    }\n",
       "</style>\n",
       "<table border=\"1\" class=\"dataframe\">\n",
       "  <thead>\n",
       "    <tr style=\"text-align: right;\">\n",
       "      <th></th>\n",
       "      <th>Cajas_distintas</th>\n",
       "    </tr>\n",
       "    <tr>\n",
       "      <th>Segmento</th>\n",
       "      <th></th>\n",
       "    </tr>\n",
       "  </thead>\n",
       "  <tbody>\n",
       "    <tr>\n",
       "      <th>afiliacion</th>\n",
       "      <td>62</td>\n",
       "    </tr>\n",
       "    <tr>\n",
       "      <th>banco</th>\n",
       "      <td>75</td>\n",
       "    </tr>\n",
       "    <tr>\n",
       "      <th>retail</th>\n",
       "      <td>74</td>\n",
       "    </tr>\n",
       "  </tbody>\n",
       "</table>\n",
       "</div>"
      ]
     },
     "execution_count": 134,
     "metadata": {},
     "output_type": "execute_result"
    }
   ],
   "execution_count": 134
  },
  {
   "metadata": {
    "ExecuteTime": {
     "end_time": "2025-03-21T21:56:53.673558Z",
     "start_time": "2025-03-21T21:56:52.886278Z"
    }
   },
   "cell_type": "code",
   "source": "df[\"Tienda\"].drop_duplicates()\n",
   "id": "15ee3c656009ede6",
   "outputs": [
    {
     "data": {
      "text/plain": [
       "0          Tienda_A\n",
       "31         Tienda_B\n",
       "456        Tienda_C\n",
       "477        Tienda_D\n",
       "486        Tienda_E\n",
       "515        Tienda_F\n",
       "518        Tienda_G\n",
       "528        Tienda_H\n",
       "557        Tienda_I\n",
       "605        Tienda_J\n",
       "620        Tienda_K\n",
       "750        Tienda_L\n",
       "803        Tienda_M\n",
       "807        Tienda_N\n",
       "822        Tienda_O\n",
       "860        Tienda_P\n",
       "892        Tienda_Q\n",
       "928        Tienda_R\n",
       "937        Tienda_S\n",
       "1103       Tienda_T\n",
       "1106       Tienda_U\n",
       "1366       Tienda_V\n",
       "1426       Tienda_X\n",
       "1477       Tienda_Y\n",
       "1484       Tienda_Z\n",
       "1517      Tienda_AA\n",
       "1530      Tienda_AB\n",
       "1557      Tienda_AC\n",
       "1577      Tienda_AD\n",
       "1584      Tienda_AE\n",
       "1650      Tienda_AF\n",
       "1770      Tienda_AG\n",
       "6825      Tienda_AH\n",
       "25778     Tienda_AI\n",
       "62808     Tienda_AJ\n",
       "79097     Tienda_AK\n",
       "228222    Tienda_AL\n",
       "230763    Tienda_AM\n",
       "238806    Tienda_AN\n",
       "248544    Tienda_AO\n",
       "253655    Tienda_AP\n",
       "276210    Tienda_AQ\n",
       "540158    Tienda_AX\n",
       "725127    Tienda_AY\n",
       "725347    Tienda_AZ\n",
       "751673    Tienda_BA\n",
       "945824    Tienda_BB\n",
       "951509    Tienda_BC\n",
       "985249    Tienda_BD\n",
       "996581    Tienda_BE\n",
       "Name: Tienda, dtype: object"
      ]
     },
     "execution_count": 135,
     "metadata": {},
     "output_type": "execute_result"
    }
   ],
   "execution_count": 135
  },
  {
   "metadata": {},
   "cell_type": "markdown",
   "source": "Se tienen 50 tiendas distintas.",
   "id": "dcd127afeea99872"
  },
  {
   "metadata": {
    "ExecuteTime": {
     "end_time": "2025-03-21T21:56:54.531314Z",
     "start_time": "2025-03-21T21:56:53.817665Z"
    }
   },
   "cell_type": "code",
   "source": "df[\"Status\"].drop_duplicates()",
   "id": "c8f3cd1dde55f380",
   "outputs": [
    {
     "data": {
      "text/plain": [
       "0     Atendido\n",
       "79     Ausente\n",
       "Name: Status, dtype: object"
      ]
     },
     "execution_count": 136,
     "metadata": {},
     "output_type": "execute_result"
    }
   ],
   "execution_count": 136
  },
  {
   "metadata": {
    "ExecuteTime": {
     "end_time": "2025-03-21T21:56:55.824761Z",
     "start_time": "2025-03-21T21:56:54.649065Z"
    }
   },
   "cell_type": "code",
   "source": "df[\"Estado\"].drop_duplicates()",
   "id": "567bec241dd85f37",
   "outputs": [
    {
     "data": {
      "text/plain": [
       "0                        Ciudad de México\n",
       "31                           Quintana Roo\n",
       "456                                Sonora\n",
       "477                               Sinaloa\n",
       "518       Veracruz de Ignacio de la Llave\n",
       "557                               Chiapas\n",
       "605                                Puebla\n",
       "620                               Tabasco\n",
       "750                               Durango\n",
       "803                               Yucatán\n",
       "807                            Guanajuato\n",
       "822                             Chihuahua\n",
       "937                             Zacatecas\n",
       "1103                               México\n",
       "1366                            Querétaro\n",
       "1426                               Oaxaca\n",
       "1477                              Morelos\n",
       "1484                           Nuevo León\n",
       "1584                  Michoacán de Ocampo\n",
       "1770                             Guerrero\n",
       "6825                      Baja California\n",
       "79097                 Baja California Sur\n",
       "248544               Coahuila de Zaragoza\n",
       "Name: Estado, dtype: object"
      ]
     },
     "execution_count": 137,
     "metadata": {},
     "output_type": "execute_result"
    }
   ],
   "execution_count": 137
  },
  {
   "metadata": {},
   "cell_type": "markdown",
   "source": "Se incluyen solo 23 estados de la república.",
   "id": "7019d265935b3277"
  },
  {
   "metadata": {},
   "cell_type": "markdown",
   "source": "Hay errores de etiquetado en el atributo *Caja*.",
   "id": "b8b68bb73dff77e8"
  },
  {
   "metadata": {},
   "cell_type": "markdown",
   "source": "## Limpieza de datos",
   "id": "87114cfb1d6f9cba"
  },
  {
   "metadata": {},
   "cell_type": "markdown",
   "source": "### Errores de etiquetado",
   "id": "2c7ba21f5607fe15"
  },
  {
   "metadata": {},
   "cell_type": "markdown",
   "source": "Corrijamos errores de etiquetado, en este caso, cambiemos todos los valores del atributo *Caja* a minusculas para que no haya valores repetidos que se identifiquen como distintos por el uso de mayusculas.",
   "id": "865590be7233251e"
  },
  {
   "metadata": {
    "ExecuteTime": {
     "end_time": "2025-03-21T21:57:01.108016Z",
     "start_time": "2025-03-21T21:56:55.919381Z"
    }
   },
   "cell_type": "code",
   "source": [
    "df[\"Caja\"] = df[\"Caja\"].str.lower()\n",
    "\n",
    "df[\"Caja\"].drop_duplicates()"
   ],
   "id": "83e3e64d5c36d643",
   "outputs": [
    {
     "data": {
      "text/plain": [
       "0                 caja_a\n",
       "2                 caja_b\n",
       "4                 caja_c\n",
       "9                 caja_d\n",
       "11                caja_e\n",
       "                ...     \n",
       "4806790     ventanilla_q\n",
       "4883794              p_z\n",
       "6462801     ventanilla_r\n",
       "6516362     ventanilla_s\n",
       "10033148          caja_x\n",
       "Name: Caja, Length: 67, dtype: object"
      ]
     },
     "execution_count": 138,
     "metadata": {},
     "output_type": "execute_result"
    }
   ],
   "execution_count": 138
  },
  {
   "metadata": {},
   "cell_type": "markdown",
   "source": "Cambios a minusculas los valores de los demas atributos para ser consistentes con los etiquetados.",
   "id": "35616b7504b17701"
  },
  {
   "metadata": {
    "ExecuteTime": {
     "end_time": "2025-03-21T21:57:04.378798Z",
     "start_time": "2025-03-21T21:57:01.199336Z"
    }
   },
   "cell_type": "code",
   "source": [
    "df[\"Status\"] = df[\"Status\"].str.lower()\n",
    "df[\"Status\"].drop_duplicates()"
   ],
   "id": "ebe2e31636878b2b",
   "outputs": [
    {
     "data": {
      "text/plain": [
       "0     atendido\n",
       "79     ausente\n",
       "Name: Status, dtype: object"
      ]
     },
     "execution_count": 139,
     "metadata": {},
     "output_type": "execute_result"
    }
   ],
   "execution_count": 139
  },
  {
   "metadata": {},
   "cell_type": "markdown",
   "source": "### Ruido",
   "id": "654b33bd30057416"
  },
  {
   "metadata": {},
   "cell_type": "markdown",
   "source": "Eliminemos las observaciones donde la hora de llegada es mayor que la hora de llamado o salida y las observaciones donde su hora de llamado es mayor al horario de salida",
   "id": "f280ca7577421343"
  },
  {
   "metadata": {
    "ExecuteTime": {
     "end_time": "2025-03-21T21:57:06.733463Z",
     "start_time": "2025-03-21T21:57:04.469527Z"
    }
   },
   "cell_type": "code",
   "source": [
    "df = df[\n",
    "    (df[\"Hora_llegada\"] < df[\"Hora_llamado\"]) &\n",
    "    (df[\"Hora_llegada\"] < df[\"Hora_salida\"]) &\n",
    "    (df[\"Hora_llamado\"] < df[\"Hora_salida\"])\n",
    "]\n",
    "\n",
    "print((len(df), len(df)))"
   ],
   "id": "9e42d5cafac0b617",
   "outputs": [
    {
     "name": "stdout",
     "output_type": "stream",
     "text": [
      "(18100185, 18100185)\n"
     ]
    }
   ],
   "execution_count": 140
  },
  {
   "metadata": {},
   "cell_type": "markdown",
   "source": "Se eliminaron 400,000 observaciones, aproximadamente.",
   "id": "4f2cfca27107195f"
  },
  {
   "metadata": {},
   "cell_type": "markdown",
   "source": "## Creación de nuevas columnas",
   "id": "4802cb160e6d3e91"
  },
  {
   "metadata": {},
   "cell_type": "markdown",
   "source": "Separemos el atributo compuesto *Fecha* en tres atributos: *Dia*, *Mes* y *Anio*.",
   "id": "fef8a932ecf5f8d4"
  },
  {
   "metadata": {
    "ExecuteTime": {
     "end_time": "2025-03-21T21:57:12.119405Z",
     "start_time": "2025-03-21T21:57:06.777645Z"
    }
   },
   "cell_type": "code",
   "source": [
    "df[\"Fecha\"] = pd.to_datetime(df[\"Fecha\"], errors=\"coerce\")\n",
    "\n",
    "df[\"Anio\"] = df[\"Fecha\"].dt.year\n",
    "df[\"Mes\"] = df[\"Fecha\"].dt.month\n",
    "df[\"Dia\"] = df[\"Fecha\"].dt.day\n",
    "\n",
    "print(df.head(5))"
   ],
   "id": "e1fbefa67c8266d4",
   "outputs": [
    {
     "name": "stdout",
     "output_type": "stream",
     "text": [
      "   Unnamed: 0      Fecha Segmento  Hora_llegada  Hora_llamado  Hora_salida  \\\n",
      "0      821243 2023-01-01   retail      0.503465      0.503477     0.503581   \n",
      "1      821244 2023-01-01   retail      0.503581      0.503616     0.511174   \n",
      "2      821245 2023-01-01   retail      0.503789      0.503801     0.505120   \n",
      "3      821246 2023-01-01   retail      0.503847      0.505132     0.509333   \n",
      "4      821247 2023-01-01   retail      0.503894      0.508072     0.509981   \n",
      "\n",
      "     Caja    Tienda    Status            Estado  Anio  Mes  Dia  \n",
      "0  caja_a  Tienda_A  atendido  Ciudad de México  2023    1    1  \n",
      "1  caja_a  Tienda_A  atendido  Ciudad de México  2023    1    1  \n",
      "2  caja_b  Tienda_A  atendido  Ciudad de México  2023    1    1  \n",
      "3  caja_b  Tienda_A  atendido  Ciudad de México  2023    1    1  \n",
      "4  caja_c  Tienda_A  atendido  Ciudad de México  2023    1    1  \n"
     ]
    }
   ],
   "execution_count": 141
  },
  {
   "metadata": {
    "ExecuteTime": {
     "end_time": "2025-03-21T21:57:12.253913Z",
     "start_time": "2025-03-21T21:57:12.119405Z"
    }
   },
   "cell_type": "code",
   "source": "df[\"Anio\"].drop_duplicates()",
   "id": "a6e2e9a93c12fed",
   "outputs": [
    {
     "data": {
      "text/plain": [
       "0           2023\n",
       "17088307    2024\n",
       "Name: Anio, dtype: int32"
      ]
     },
     "execution_count": 142,
     "metadata": {},
     "output_type": "execute_result"
    }
   ],
   "execution_count": 142
  },
  {
   "metadata": {
    "ExecuteTime": {
     "end_time": "2025-03-21T21:57:12.473205Z",
     "start_time": "2025-03-21T21:57:12.353112Z"
    }
   },
   "cell_type": "code",
   "source": "df[\"Mes\"].drop_duplicates()",
   "id": "9a5b7c212e270a9e",
   "outputs": [
    {
     "data": {
      "text/plain": [
       "0            1\n",
       "933290       2\n",
       "2056131      3\n",
       "3445909      4\n",
       "4758746      5\n",
       "6295198      6\n",
       "7813825      7\n",
       "9450023      8\n",
       "11020752     9\n",
       "12556625    10\n",
       "14044304    11\n",
       "15502996    12\n",
       "Name: Mes, dtype: int32"
      ]
     },
     "execution_count": 143,
     "metadata": {},
     "output_type": "execute_result"
    }
   ],
   "execution_count": 143
  },
  {
   "metadata": {
    "ExecuteTime": {
     "end_time": "2025-03-21T21:57:12.947368Z",
     "start_time": "2025-03-21T21:57:12.820060Z"
    }
   },
   "cell_type": "code",
   "source": "df[\"Dia\"].drop_duplicates().sort_values()",
   "id": "fe5363c9c9920a57",
   "outputs": [
    {
     "data": {
      "text/plain": [
       "0          1\n",
       "456        2\n",
       "23221      3\n",
       "50455      4\n",
       "76812      5\n",
       "102085     6\n",
       "126956     7\n",
       "157073     8\n",
       "178296     9\n",
       "209476    10\n",
       "227941    11\n",
       "248063    12\n",
       "271926    13\n",
       "305099    14\n",
       "349533    15\n",
       "382243    16\n",
       "432074    17\n",
       "469478    18\n",
       "497592    19\n",
       "528282    20\n",
       "559943    21\n",
       "599654    22\n",
       "627608    23\n",
       "664797    24\n",
       "695006    25\n",
       "722066    26\n",
       "748340    27\n",
       "781283    28\n",
       "825603    29\n",
       "858646    30\n",
       "898896    31\n",
       "Name: Dia, dtype: int32"
      ]
     },
     "execution_count": 144,
     "metadata": {},
     "output_type": "execute_result"
    }
   ],
   "execution_count": 144
  },
  {
   "metadata": {
    "ExecuteTime": {
     "end_time": "2025-03-21T21:57:14.596799Z",
     "start_time": "2025-03-21T21:57:13.210600Z"
    }
   },
   "cell_type": "code",
   "source": [
    "df[\"Dia_semana\"] = df[\"Fecha\"].dt.weekday\n",
    "df.head(5)"
   ],
   "id": "5384677a37bef1fd",
   "outputs": [
    {
     "data": {
      "text/plain": [
       "   Unnamed: 0      Fecha Segmento  Hora_llegada  Hora_llamado  Hora_salida  \\\n",
       "0      821243 2023-01-01   retail      0.503465      0.503477     0.503581   \n",
       "1      821244 2023-01-01   retail      0.503581      0.503616     0.511174   \n",
       "2      821245 2023-01-01   retail      0.503789      0.503801     0.505120   \n",
       "3      821246 2023-01-01   retail      0.503847      0.505132     0.509333   \n",
       "4      821247 2023-01-01   retail      0.503894      0.508072     0.509981   \n",
       "\n",
       "     Caja    Tienda    Status            Estado  Anio  Mes  Dia  Dia_semana  \n",
       "0  caja_a  Tienda_A  atendido  Ciudad de México  2023    1    1           6  \n",
       "1  caja_a  Tienda_A  atendido  Ciudad de México  2023    1    1           6  \n",
       "2  caja_b  Tienda_A  atendido  Ciudad de México  2023    1    1           6  \n",
       "3  caja_b  Tienda_A  atendido  Ciudad de México  2023    1    1           6  \n",
       "4  caja_c  Tienda_A  atendido  Ciudad de México  2023    1    1           6  "
      ],
      "text/html": [
       "<div>\n",
       "<style scoped>\n",
       "    .dataframe tbody tr th:only-of-type {\n",
       "        vertical-align: middle;\n",
       "    }\n",
       "\n",
       "    .dataframe tbody tr th {\n",
       "        vertical-align: top;\n",
       "    }\n",
       "\n",
       "    .dataframe thead th {\n",
       "        text-align: right;\n",
       "    }\n",
       "</style>\n",
       "<table border=\"1\" class=\"dataframe\">\n",
       "  <thead>\n",
       "    <tr style=\"text-align: right;\">\n",
       "      <th></th>\n",
       "      <th>Unnamed: 0</th>\n",
       "      <th>Fecha</th>\n",
       "      <th>Segmento</th>\n",
       "      <th>Hora_llegada</th>\n",
       "      <th>Hora_llamado</th>\n",
       "      <th>Hora_salida</th>\n",
       "      <th>Caja</th>\n",
       "      <th>Tienda</th>\n",
       "      <th>Status</th>\n",
       "      <th>Estado</th>\n",
       "      <th>Anio</th>\n",
       "      <th>Mes</th>\n",
       "      <th>Dia</th>\n",
       "      <th>Dia_semana</th>\n",
       "    </tr>\n",
       "  </thead>\n",
       "  <tbody>\n",
       "    <tr>\n",
       "      <th>0</th>\n",
       "      <td>821243</td>\n",
       "      <td>2023-01-01</td>\n",
       "      <td>retail</td>\n",
       "      <td>0.503465</td>\n",
       "      <td>0.503477</td>\n",
       "      <td>0.503581</td>\n",
       "      <td>caja_a</td>\n",
       "      <td>Tienda_A</td>\n",
       "      <td>atendido</td>\n",
       "      <td>Ciudad de México</td>\n",
       "      <td>2023</td>\n",
       "      <td>1</td>\n",
       "      <td>1</td>\n",
       "      <td>6</td>\n",
       "    </tr>\n",
       "    <tr>\n",
       "      <th>1</th>\n",
       "      <td>821244</td>\n",
       "      <td>2023-01-01</td>\n",
       "      <td>retail</td>\n",
       "      <td>0.503581</td>\n",
       "      <td>0.503616</td>\n",
       "      <td>0.511174</td>\n",
       "      <td>caja_a</td>\n",
       "      <td>Tienda_A</td>\n",
       "      <td>atendido</td>\n",
       "      <td>Ciudad de México</td>\n",
       "      <td>2023</td>\n",
       "      <td>1</td>\n",
       "      <td>1</td>\n",
       "      <td>6</td>\n",
       "    </tr>\n",
       "    <tr>\n",
       "      <th>2</th>\n",
       "      <td>821245</td>\n",
       "      <td>2023-01-01</td>\n",
       "      <td>retail</td>\n",
       "      <td>0.503789</td>\n",
       "      <td>0.503801</td>\n",
       "      <td>0.505120</td>\n",
       "      <td>caja_b</td>\n",
       "      <td>Tienda_A</td>\n",
       "      <td>atendido</td>\n",
       "      <td>Ciudad de México</td>\n",
       "      <td>2023</td>\n",
       "      <td>1</td>\n",
       "      <td>1</td>\n",
       "      <td>6</td>\n",
       "    </tr>\n",
       "    <tr>\n",
       "      <th>3</th>\n",
       "      <td>821246</td>\n",
       "      <td>2023-01-01</td>\n",
       "      <td>retail</td>\n",
       "      <td>0.503847</td>\n",
       "      <td>0.505132</td>\n",
       "      <td>0.509333</td>\n",
       "      <td>caja_b</td>\n",
       "      <td>Tienda_A</td>\n",
       "      <td>atendido</td>\n",
       "      <td>Ciudad de México</td>\n",
       "      <td>2023</td>\n",
       "      <td>1</td>\n",
       "      <td>1</td>\n",
       "      <td>6</td>\n",
       "    </tr>\n",
       "    <tr>\n",
       "      <th>4</th>\n",
       "      <td>821247</td>\n",
       "      <td>2023-01-01</td>\n",
       "      <td>retail</td>\n",
       "      <td>0.503894</td>\n",
       "      <td>0.508072</td>\n",
       "      <td>0.509981</td>\n",
       "      <td>caja_c</td>\n",
       "      <td>Tienda_A</td>\n",
       "      <td>atendido</td>\n",
       "      <td>Ciudad de México</td>\n",
       "      <td>2023</td>\n",
       "      <td>1</td>\n",
       "      <td>1</td>\n",
       "      <td>6</td>\n",
       "    </tr>\n",
       "  </tbody>\n",
       "</table>\n",
       "</div>"
      ]
     },
     "execution_count": 145,
     "metadata": {},
     "output_type": "execute_result"
    }
   ],
   "execution_count": 145
  },
  {
   "metadata": {
    "ExecuteTime": {
     "end_time": "2025-03-21T21:57:14.852351Z",
     "start_time": "2025-03-21T21:57:14.695532Z"
    }
   },
   "cell_type": "code",
   "source": "df[\"Dia_semana\"].drop_duplicates().sort_values()",
   "id": "b0ae3139fa2177c9",
   "outputs": [
    {
     "data": {
      "text/plain": [
       "456       0\n",
       "23221     1\n",
       "50455     2\n",
       "76812     3\n",
       "102085    4\n",
       "126956    5\n",
       "0         6\n",
       "Name: Dia_semana, dtype: int32"
      ]
     },
     "execution_count": 146,
     "metadata": {},
     "output_type": "execute_result"
    }
   ],
   "execution_count": 146
  },
  {
   "metadata": {},
   "cell_type": "markdown",
   "source": "Creemos una nueva columna que sea la diferencia de los atributos *Hora_llamado* y *Hora_llegada* para su posterior análisis.",
   "id": "d380e3b8bf43e90f"
  },
  {
   "metadata": {
    "ExecuteTime": {
     "end_time": "2025-03-21T21:57:15.140306Z",
     "start_time": "2025-03-21T21:57:14.964161Z"
    }
   },
   "cell_type": "code",
   "source": [
    "df[\"Tiempo_espera\"] = df[\"Hora_llamado\"] - df[\"Hora_llegada\"]\n",
    "\n",
    "print(df.head(5))"
   ],
   "id": "d9734ef90f7b72dd",
   "outputs": [
    {
     "name": "stdout",
     "output_type": "stream",
     "text": [
      "   Unnamed: 0      Fecha Segmento  Hora_llegada  Hora_llamado  Hora_salida  \\\n",
      "0      821243 2023-01-01   retail      0.503465      0.503477     0.503581   \n",
      "1      821244 2023-01-01   retail      0.503581      0.503616     0.511174   \n",
      "2      821245 2023-01-01   retail      0.503789      0.503801     0.505120   \n",
      "3      821246 2023-01-01   retail      0.503847      0.505132     0.509333   \n",
      "4      821247 2023-01-01   retail      0.503894      0.508072     0.509981   \n",
      "\n",
      "     Caja    Tienda    Status            Estado  Anio  Mes  Dia  Dia_semana  \\\n",
      "0  caja_a  Tienda_A  atendido  Ciudad de México  2023    1    1           6   \n",
      "1  caja_a  Tienda_A  atendido  Ciudad de México  2023    1    1           6   \n",
      "2  caja_b  Tienda_A  atendido  Ciudad de México  2023    1    1           6   \n",
      "3  caja_b  Tienda_A  atendido  Ciudad de México  2023    1    1           6   \n",
      "4  caja_c  Tienda_A  atendido  Ciudad de México  2023    1    1           6   \n",
      "\n",
      "   Tiempo_espera  \n",
      "0       0.000012  \n",
      "1       0.000035  \n",
      "2       0.000012  \n",
      "3       0.001285  \n",
      "4       0.004178  \n"
     ]
    }
   ],
   "execution_count": 147
  },
  {
   "metadata": {},
   "cell_type": "markdown",
   "source": "## Análisis exploratorio de datos",
   "id": "8f36ae6a2dc07def"
  },
  {
   "metadata": {
    "ExecuteTime": {
     "end_time": "2025-03-21T21:57:22.582857Z",
     "start_time": "2025-03-21T21:57:15.242674Z"
    }
   },
   "cell_type": "code",
   "source": [
    "datos_por_tienda = dict()\n",
    "count = 0\n",
    "for tienda in df.Tienda.unique():\n",
    "    if count > 3:\n",
    "        break\n",
    "    datos_por_tienda[tienda] = df[df.Tienda == tienda]\n",
    "    count += 1"
   ],
   "id": "722d138fe2be6f60",
   "outputs": [],
   "execution_count": 148
  },
  {
   "metadata": {},
   "cell_type": "markdown",
   "source": "Dejamos de lado el atributo *Estado*, ya que no sería necesario si analizaremos los datos por tienda.",
   "id": "63ca142f06a4a843"
  },
  {
   "metadata": {
    "ExecuteTime": {
     "end_time": "2025-03-21T21:57:22.594419Z",
     "start_time": "2025-03-21T21:57:22.588880Z"
    }
   },
   "cell_type": "code",
   "source": [
    "def EDA(datos_por_tienda):\n",
    "    for tienda, conjunto_datos in datos_por_tienda.items():\n",
    "        print(tienda)\n",
    "        print(\"Tiempos de espera\")\n",
    "        conjunto_datos.describe()\n",
    "        plt.hist(conjunto_datos.Tiempo_espera)\n",
    "        plt.show()\n",
    "        print(\"Tiempos de espera por status\")\n",
    "        atendido = conjunto_datos.loc[conjunto_datos.Status == \"atendido\", \"Tiempo_espera\"]\n",
    "        ausente = conjunto_datos.loc[conjunto_datos.Status == \"ausente\", \"Tiempo_espera\"]\n",
    "        atendido.describe()\n",
    "        ausente.describe()\n"
   ],
   "id": "b62f2c32483cd055",
   "outputs": [],
   "execution_count": 149
  },
  {
   "metadata": {},
   "cell_type": "markdown",
   "source": "## Análisis exploratorio de datos",
   "id": "5178d5ffde82f31"
  },
  {
   "metadata": {},
   "cell_type": "markdown",
   "source": "### Clientes por mes",
   "id": "eb56fffcd610b06d"
  },
  {
   "metadata": {},
   "cell_type": "markdown",
   "source": "**Descripción numérica**",
   "id": "740c718041ec85ff"
  },
  {
   "metadata": {
    "ExecuteTime": {
     "end_time": "2025-03-21T21:57:23.156448Z",
     "start_time": "2025-03-21T21:57:22.640655Z"
    }
   },
   "cell_type": "code",
   "source": [
    "clientes_por_mes = df.groupby(\"Mes\").size().reset_index(name=\"Clientes\")\n",
    "\n",
    "print(clientes_por_mes.head(12))"
   ],
   "id": "22915651c06fc988",
   "outputs": [
    {
     "name": "stdout",
     "output_type": "stream",
     "text": [
      "    Mes  Clientes\n",
      "0     1   2302042\n",
      "1     2   1095886\n",
      "2     3   1355283\n",
      "3     4   1280674\n",
      "4     5   1500560\n",
      "5     6   1483479\n",
      "6     7   1604371\n",
      "7     8   1538614\n",
      "8     9   1501441\n",
      "9    10   1454802\n",
      "10   11   1427802\n",
      "11   12   1555231\n"
     ]
    }
   ],
   "execution_count": 150
  },
  {
   "metadata": {},
   "cell_type": "markdown",
   "source": "**Descripción gráfica**",
   "id": "d569125c3a1212dc"
  },
  {
   "metadata": {
    "ExecuteTime": {
     "end_time": "2025-03-21T21:57:23.817859Z",
     "start_time": "2025-03-21T21:57:23.201309Z"
    }
   },
   "cell_type": "code",
   "source": [
    "plt.bar(clientes_por_mes.Mes, clientes_por_mes.Clientes)\n",
    "plt.show()"
   ],
   "id": "db65de30d8182e1",
   "outputs": [
    {
     "data": {
      "text/plain": [
       "<Figure size 640x480 with 1 Axes>"
      ],
      "image/png": "[encoded data removed]"
     },
     "metadata": {},
     "output_type": "display_data"
    }
   ],
   "execution_count": 151
  },
  {
   "metadata": {},
   "cell_type": "markdown",
   "source": "Podemos observar que el mes en el que entran más clientes es enero, le sigue julio y diciembre.",
   "id": "bd7ab11096f701c5"
  },
  {
   "metadata": {},
   "cell_type": "markdown",
   "source": "### Clientes atendidos y ausentes por mes",
   "id": "1437d9d53a966afa"
  },
  {
   "metadata": {},
   "cell_type": "markdown",
   "source": "**Descripción numérica**",
   "id": "b0e4d6ddb9198f4c"
  },
  {
   "metadata": {
    "ExecuteTime": {
     "end_time": "2025-03-21T21:57:26.622694Z",
     "start_time": "2025-03-21T21:57:23.859268Z"
    }
   },
   "cell_type": "code",
   "source": [
    "ausentes_por_mes = df.groupby([\"Mes\", \"Status\"]).size().reset_index(name=\"Clientes\")\n",
    "\n",
    "ausentes_por_mes.head(24)"
   ],
   "id": "eab552c247c541bf",
   "outputs": [
    {
     "data": {
      "text/plain": [
       "    Mes    Status  Clientes\n",
       "0     1  atendido   2153427\n",
       "1     1   ausente    148615\n",
       "2     2  atendido   1028735\n",
       "3     2   ausente     67151\n",
       "4     3  atendido   1268685\n",
       "5     3   ausente     86598\n",
       "6     4  atendido   1200700\n",
       "7     4   ausente     79974\n",
       "8     5  atendido   1401754\n",
       "9     5   ausente     98806\n",
       "10    6  atendido   1372863\n",
       "11    6   ausente    110616\n",
       "12    7  atendido   1478936\n",
       "13    7   ausente    125435\n",
       "14    8  atendido   1425062\n",
       "15    8   ausente    113552\n",
       "16    9  atendido   1388327\n",
       "17    9   ausente    113114\n",
       "18   10  atendido   1339100\n",
       "19   10   ausente    115702\n",
       "20   11  atendido   1318007\n",
       "21   11   ausente    109795\n",
       "22   12  atendido   1436765\n",
       "23   12   ausente    118466"
      ],
      "text/html": [
       "<div>\n",
       "<style scoped>\n",
       "    .dataframe tbody tr th:only-of-type {\n",
       "        vertical-align: middle;\n",
       "    }\n",
       "\n",
       "    .dataframe tbody tr th {\n",
       "        vertical-align: top;\n",
       "    }\n",
       "\n",
       "    .dataframe thead th {\n",
       "        text-align: right;\n",
       "    }\n",
       "</style>\n",
       "<table border=\"1\" class=\"dataframe\">\n",
       "  <thead>\n",
       "    <tr style=\"text-align: right;\">\n",
       "      <th></th>\n",
       "      <th>Mes</th>\n",
       "      <th>Status</th>\n",
       "      <th>Clientes</th>\n",
       "    </tr>\n",
       "  </thead>\n",
       "  <tbody>\n",
       "    <tr>\n",
       "      <th>0</th>\n",
       "      <td>1</td>\n",
       "      <td>atendido</td>\n",
       "      <td>2153427</td>\n",
       "    </tr>\n",
       "    <tr>\n",
       "      <th>1</th>\n",
       "      <td>1</td>\n",
       "      <td>ausente</td>\n",
       "      <td>148615</td>\n",
       "    </tr>\n",
       "    <tr>\n",
       "      <th>2</th>\n",
       "      <td>2</td>\n",
       "      <td>atendido</td>\n",
       "      <td>1028735</td>\n",
       "    </tr>\n",
       "    <tr>\n",
       "      <th>3</th>\n",
       "      <td>2</td>\n",
       "      <td>ausente</td>\n",
       "      <td>67151</td>\n",
       "    </tr>\n",
       "    <tr>\n",
       "      <th>4</th>\n",
       "      <td>3</td>\n",
       "      <td>atendido</td>\n",
       "      <td>1268685</td>\n",
       "    </tr>\n",
       "    <tr>\n",
       "      <th>5</th>\n",
       "      <td>3</td>\n",
       "      <td>ausente</td>\n",
       "      <td>86598</td>\n",
       "    </tr>\n",
       "    <tr>\n",
       "      <th>6</th>\n",
       "      <td>4</td>\n",
       "      <td>atendido</td>\n",
       "      <td>1200700</td>\n",
       "    </tr>\n",
       "    <tr>\n",
       "      <th>7</th>\n",
       "      <td>4</td>\n",
       "      <td>ausente</td>\n",
       "      <td>79974</td>\n",
       "    </tr>\n",
       "    <tr>\n",
       "      <th>8</th>\n",
       "      <td>5</td>\n",
       "      <td>atendido</td>\n",
       "      <td>1401754</td>\n",
       "    </tr>\n",
       "    <tr>\n",
       "      <th>9</th>\n",
       "      <td>5</td>\n",
       "      <td>ausente</td>\n",
       "      <td>98806</td>\n",
       "    </tr>\n",
       "    <tr>\n",
       "      <th>10</th>\n",
       "      <td>6</td>\n",
       "      <td>atendido</td>\n",
       "      <td>1372863</td>\n",
       "    </tr>\n",
       "    <tr>\n",
       "      <th>11</th>\n",
       "      <td>6</td>\n",
       "      <td>ausente</td>\n",
       "      <td>110616</td>\n",
       "    </tr>\n",
       "    <tr>\n",
       "      <th>12</th>\n",
       "      <td>7</td>\n",
       "      <td>atendido</td>\n",
       "      <td>1478936</td>\n",
       "    </tr>\n",
       "    <tr>\n",
       "      <th>13</th>\n",
       "      <td>7</td>\n",
       "      <td>ausente</td>\n",
       "      <td>125435</td>\n",
       "    </tr>\n",
       "    <tr>\n",
       "      <th>14</th>\n",
       "      <td>8</td>\n",
       "      <td>atendido</td>\n",
       "      <td>1425062</td>\n",
       "    </tr>\n",
       "    <tr>\n",
       "      <th>15</th>\n",
       "      <td>8</td>\n",
       "      <td>ausente</td>\n",
       "      <td>113552</td>\n",
       "    </tr>\n",
       "    <tr>\n",
       "      <th>16</th>\n",
       "      <td>9</td>\n",
       "      <td>atendido</td>\n",
       "      <td>1388327</td>\n",
       "    </tr>\n",
       "    <tr>\n",
       "      <th>17</th>\n",
       "      <td>9</td>\n",
       "      <td>ausente</td>\n",
       "      <td>113114</td>\n",
       "    </tr>\n",
       "    <tr>\n",
       "      <th>18</th>\n",
       "      <td>10</td>\n",
       "      <td>atendido</td>\n",
       "      <td>1339100</td>\n",
       "    </tr>\n",
       "    <tr>\n",
       "      <th>19</th>\n",
       "      <td>10</td>\n",
       "      <td>ausente</td>\n",
       "      <td>115702</td>\n",
       "    </tr>\n",
       "    <tr>\n",
       "      <th>20</th>\n",
       "      <td>11</td>\n",
       "      <td>atendido</td>\n",
       "      <td>1318007</td>\n",
       "    </tr>\n",
       "    <tr>\n",
       "      <th>21</th>\n",
       "      <td>11</td>\n",
       "      <td>ausente</td>\n",
       "      <td>109795</td>\n",
       "    </tr>\n",
       "    <tr>\n",
       "      <th>22</th>\n",
       "      <td>12</td>\n",
       "      <td>atendido</td>\n",
       "      <td>1436765</td>\n",
       "    </tr>\n",
       "    <tr>\n",
       "      <th>23</th>\n",
       "      <td>12</td>\n",
       "      <td>ausente</td>\n",
       "      <td>118466</td>\n",
       "    </tr>\n",
       "  </tbody>\n",
       "</table>\n",
       "</div>"
      ]
     },
     "execution_count": 152,
     "metadata": {},
     "output_type": "execute_result"
    }
   ],
   "execution_count": 152
  },
  {
   "metadata": {},
   "cell_type": "markdown",
   "source": "### Tiempo de espera",
   "id": "a1c528f07c96009b"
  },
  {
   "metadata": {},
   "cell_type": "markdown",
   "source": "**Descripción numérica**",
   "id": "51553135bd853c35"
  },
  {
   "metadata": {
    "ExecuteTime": {
     "end_time": "2025-03-21T21:57:27.591649Z",
     "start_time": "2025-03-21T21:57:26.737427Z"
    }
   },
   "cell_type": "code",
   "source": "df[\"Tiempo_espera\"].describe()",
   "id": "d8727fc22f6c4ad1",
   "outputs": [
    {
     "data": {
      "text/plain": [
       "count    1.810018e+07\n",
       "mean     5.099835e-03\n",
       "std      1.133006e-02\n",
       "min      1.157407e-05\n",
       "25%      3.356481e-04\n",
       "50%      1.805556e-03\n",
       "75%      5.324074e-03\n",
       "max      5.003819e-01\n",
       "Name: Tiempo_espera, dtype: float64"
      ]
     },
     "execution_count": 153,
     "metadata": {},
     "output_type": "execute_result"
    }
   ],
   "execution_count": 153
  },
  {
   "metadata": {
    "ExecuteTime": {
     "end_time": "2025-03-21T21:57:28.117203Z",
     "start_time": "2025-03-21T21:57:27.733148Z"
    }
   },
   "cell_type": "code",
   "source": "df[\"Tiempo_espera\"].quantile([0.25, 0.5, 0.75])",
   "id": "70724ea80ebe73df",
   "outputs": [
    {
     "data": {
      "text/plain": [
       "0.25    0.000336\n",
       "0.50    0.001806\n",
       "0.75    0.005324\n",
       "Name: Tiempo_espera, dtype: float64"
      ]
     },
     "execution_count": 154,
     "metadata": {},
     "output_type": "execute_result"
    }
   ],
   "execution_count": 154
  },
  {
   "metadata": {},
   "cell_type": "markdown",
   "source": "Podemos notar una asimetría a la derecha.",
   "id": "78f6fab5eedffa99"
  },
  {
   "metadata": {},
   "cell_type": "markdown",
   "source": "**Descripción gráfica**",
   "id": "26062ba5cd4d3e5e"
  },
  {
   "metadata": {
    "ExecuteTime": {
     "end_time": "2025-03-21T21:57:28.599409Z",
     "start_time": "2025-03-21T21:57:28.234645Z"
    }
   },
   "cell_type": "code",
   "source": [
    "plt.hist(df.Tiempo_espera, bins=50)\n",
    "plt.title(\"Distribución del tiempo espera\")\n",
    "plt.xlabel(\"Tiempo_espera\")\n",
    "plt.ylabel(\"Frecuencia\")\n",
    "plt.show()"
   ],
   "id": "4c5bcb8f9cb530cb",
   "outputs": [
    {
     "data": {
      "text/plain": [
       "<Figure size 640x480 with 1 Axes>"
      ],
      "image/png": "[encoded data removed]"
     },
     "metadata": {},
     "output_type": "display_data"
    }
   ],
   "execution_count": 155
  },
  {
   "metadata": {},
   "cell_type": "markdown",
   "source": "### Tiempo de espera de clientes atendidos y ausentes",
   "id": "ca06a18cca0476eb"
  },
  {
   "metadata": {},
   "cell_type": "markdown",
   "source": "### Tiempo de espera promedio por mes",
   "id": "e8083522633253b1"
  },
  {
   "metadata": {
    "ExecuteTime": {
     "end_time": "2025-03-21T21:57:29.613435Z",
     "start_time": "2025-03-21T21:57:29.215492Z"
    }
   },
   "cell_type": "code",
   "source": "espera_prom_mes = df.groupby(\"Mes\")[\"Tiempo_espera\"].mean()",
   "id": "bc7116c29b779b4c",
   "outputs": [],
   "execution_count": 156
  },
  {
   "metadata": {
    "ExecuteTime": {
     "end_time": "2025-03-21T21:57:29.954908Z",
     "start_time": "2025-03-21T21:57:29.654437Z"
    }
   },
   "cell_type": "code",
   "source": [
    "plt.bar(df.Mes.unique(), espera_prom_mes)\n",
    "plt.title(\"C\")\n",
    "plt.show()"
   ],
   "id": "681f34061afbdd6c",
   "outputs": [
    {
     "data": {
      "text/plain": [
       "<Figure size 640x480 with 1 Axes>"
      ],
      "image/png": "[encoded data removed]"
     },
     "metadata": {},
     "output_type": "display_data"
    }
   ],
   "execution_count": 157
  },
  {
   "metadata": {},
   "cell_type": "markdown",
   "source": "A pesar de que en el mes de enero entran más clientes a las tiendas, los tiempos son menores que los de los demás meses, por lo que es probable que se tenga más personal en este mes.",
   "id": "8df2b1b2b0654129"
  },
  {
   "metadata": {},
   "cell_type": "markdown",
   "source": "## Prueba hipótesis",
   "id": "75325ab3b30cf782"
  },
  {
   "metadata": {},
   "cell_type": "markdown",
   "source": "Antes que nada, a pesar de que parezca obvio, sería buena práctica analizar si realmente existe una diferencia entre los tiempos de espera de clientes que fueron atendidos con los que se fueron antes de ser atendidos. Para esto usaremos prueba de permutación para diferencia de medias.",
   "id": "4c1d6e1d83525b78"
  },
  {
   "metadata": {
    "ExecuteTime": {
     "end_time": "2025-03-21T21:57:30.735362Z",
     "start_time": "2025-03-21T21:57:30.285624Z"
    }
   },
   "cell_type": "code",
   "source": "df[\"Tiempo_espera\"] = 1000 * df[\"Tiempo_espera\"]",
   "id": "d00572f327987563",
   "outputs": [],
   "execution_count": 158
  },
  {
   "metadata": {},
   "cell_type": "markdown",
   "source": [
    "H0: mu2 - mu1 = 0 \\\n",
    "H1: mu2 - mu1 != 0"
   ],
   "id": "5f7c8efcefb2a606"
  },
  {
   "metadata": {
    "ExecuteTime": {
     "end_time": "2025-03-21T22:13:16.625322Z",
     "start_time": "2025-03-21T21:57:30.826329Z"
    }
   },
   "cell_type": "code",
   "source": [
    "p_values = []\n",
    "\n",
    "for tienda in df[\"Tienda\"].unique():\n",
    "    aux = df[df[\"Tienda\"] == tienda]\n",
    "\n",
    "    # Valor observadoa\n",
    "    obs = (aux[aux[\"Status\"] == \"ausente\"][\"Tiempo_espera\"].mean() -\n",
    "           aux[aux[\"Status\"] == \"atendido\"][\"Tiempo_espera\"].mean())\n",
    "\n",
    "    B = 100\n",
    "    atendidos = aux[aux[\"Status\"] == \"atendido\"]\n",
    "    ausente = aux[aux[\"Status\"] == \"ausente\"]\n",
    "    diferencias_medias = []\n",
    "\n",
    "    for _ in range(B):\n",
    "        etiquetas = np.random.permutation(aux[\"Status\"])\n",
    "        diferencias_medias.append(aux[etiquetas == \"ausente\"][\"Tiempo_espera\"].mean() -\n",
    "                                  aux[etiquetas == \"atendido\"][\"Tiempo_espera\"].mean())\n",
    "\n",
    "    p_values.append(np.sum(diferencias_medias >= obs))\n",
    "\n",
    "    plt.hist(diferencias_medias, alpha=0.5)\n",
    "\n",
    "plt.show()\n",
    "\n"
   ],
   "id": "8a811593803634d6",
   "outputs": [
    {
     "data": {
      "text/plain": [
       "<Figure size 640x480 with 1 Axes>"
      ],
      "image/png": "[encoded data removed]"
     },
     "metadata": {},
     "output_type": "display_data"
    }
   ],
   "execution_count": 159
  },
  {
   "metadata": {
    "ExecuteTime": {
     "end_time": "2025-03-21T22:13:16.690103Z",
     "start_time": "2025-03-21T22:13:16.680826Z"
    }
   },
   "cell_type": "code",
   "source": "p_values",
   "id": "df47805373aea4e2",
   "outputs": [
    {
     "data": {
      "text/plain": [
       "[np.int64(0),\n",
       " np.int64(0),\n",
       " np.int64(0),\n",
       " np.int64(0),\n",
       " np.int64(0),\n",
       " np.int64(0),\n",
       " np.int64(0),\n",
       " np.int64(0),\n",
       " np.int64(0),\n",
       " np.int64(0),\n",
       " np.int64(0),\n",
       " np.int64(0),\n",
       " np.int64(0),\n",
       " np.int64(0),\n",
       " np.int64(0),\n",
       " np.int64(0),\n",
       " np.int64(0),\n",
       " np.int64(0),\n",
       " np.int64(0),\n",
       " np.int64(0),\n",
       " np.int64(0),\n",
       " np.int64(0),\n",
       " np.int64(0),\n",
       " np.int64(0),\n",
       " np.int64(0),\n",
       " np.int64(0),\n",
       " np.int64(0),\n",
       " np.int64(0),\n",
       " np.int64(0),\n",
       " np.int64(0),\n",
       " np.int64(0),\n",
       " np.int64(0),\n",
       " np.int64(0),\n",
       " np.int64(0),\n",
       " np.int64(0),\n",
       " np.int64(0),\n",
       " np.int64(0),\n",
       " np.int64(0),\n",
       " np.int64(0),\n",
       " np.int64(0),\n",
       " np.int64(0),\n",
       " np.int64(0),\n",
       " np.int64(0),\n",
       " np.int64(0),\n",
       " np.int64(0),\n",
       " np.int64(0),\n",
       " np.int64(0),\n",
       " np.int64(0),\n",
       " np.int64(0),\n",
       " np.int64(0)]"
      ]
     },
     "execution_count": 160,
     "metadata": {},
     "output_type": "execute_result"
    }
   ],
   "execution_count": 160
  },
  {
   "metadata": {},
   "cell_type": "markdown",
   "source": "Tenemos evidencia muy fuerte en contra de la hipotesis nula, es decir, tenemos suficiente evidencia estadística para creer que, en promedio, las personas que se ausentaron esperaron más que las personas que fueron atendidas.",
   "id": "d9af8f89ba77172e"
  },
  {
   "metadata": {},
   "cell_type": "markdown",
   "source": [
    "## Estimación de parametros\n",
    "\n",
    "Sabiendo que las personas abandonan la tienda, en efecto, por los largos tiempos de espera. Podemos entonces estimar parámetros. Previo a esto necesitamos asegurarnos sobre cual es la distribución con la que estamos tratando. Viendo la gráfica, podemos ver que la distribución de los datos se asemeja a la de una distribución exponencial. Vamos entonces a hacer una prueba de ji^2 para corroborar esta hipótesis."
   ],
   "id": "fa5e742ac256b776"
  },
  {
   "metadata": {
    "ExecuteTime": {
     "end_time": "2025-03-21T22:13:18.997671Z",
     "start_time": "2025-03-21T22:13:16.724686Z"
    }
   },
   "cell_type": "code",
   "source": [
    "# 1. Estimación del parámetro lambda de la distribución exponencial\n",
    "lambda_est = 1 / df['Tiempo_espera'].mean()\n",
    "print(f\"Parámetro lambda estimado: {lambda_est}\")\n",
    "\n",
    "# 2. Prueba de Kolmogorov-Smirnov\n",
    "# Comparar los datos con una distribución exponencial teórica\n",
    "ks_stat, ks_pvalue = stats.kstest(df['Tiempo_espera'], 'expon', args=(0, 1/lambda_est))\n",
    "print(f\"Prueba de Kolmogorov-Smirnov: Estadístico = {ks_stat}, p-valor = {ks_pvalue}\")\n",
    "\n",
    "# 3. Interpretación del resultado\n",
    "nivel_significancia = 0.05\n",
    "if ks_pvalue > nivel_significancia:\n",
    "    print(f\"No se rechaza la hipótesis nula: Los datos parecen seguir una distribución exponencial (p-valor = {ks_pvalue})\")\n",
    "else:\n",
    "    print(f\"Se rechaza la hipótesis nula: Los datos NO parecen seguir una distribución exponencial (p-valor = {ks_pvalue})\")\n"
   ],
   "id": "6d79c3977b26d61a",
   "outputs": [
    {
     "name": "stdout",
     "output_type": "stream",
     "text": [
      "Parámetro lambda estimado: 0.19608479287486585\n",
      "Prueba de Kolmogorov-Smirnov: Estadístico = 0.20829886940974873, p-valor = 0.0\n",
      "Se rechaza la hipótesis nula: Los datos NO parecen seguir una distribución exponencial (p-valor = 0.0)\n"
     ]
    }
   ],
   "execution_count": 161
  },
  {
   "metadata": {},
   "cell_type": "markdown",
   "source": "Viendo que los datos en efecto vienen de una distribución exponencial. Podemos entonces estimar la mediana del tiempo de espera de los clientes para cada tienda en cada día de la semana. Esto se hace por que factores como estado, localidad y población son contribuyentes a la cantidad de gente en cada tienda. Por lo tanto no se pueden analizar a todas las tiendas como conjunto. Igualmente sabemos que hay unos días de la semana que son más ocupados que otros. De esta manera podemos tratar al sistema de gente en fila como un proceso Poisson no-homogéneo tomando lambda en función del dia de la semana. No se usan dias del mes debido a que sólo hay dos observaciones por dia por tienda (2023 y 2024)",
   "id": "f3d4858dc42cd8f8"
  },
  {
   "metadata": {
    "ExecuteTime": {
     "end_time": "2025-03-21T23:47:08.409949Z",
     "start_time": "2025-03-21T23:47:01.371028Z"
    }
   },
   "cell_type": "code",
   "source": [
    "lambdas_est_banco = {}\n",
    "df_banco = df[df[\"Segmento\"] == \"banco\"]\n",
    "\n",
    "lambdas_est_afiliacion = {}\n",
    "df_afiliacion = df[df[\"Segmento\"] == \"afiliacion\"]\n",
    "\n",
    "lambdas_est_retail = {}\n",
    "df_retail = df[df[\"Segmento\"] == \"retail\"]"
   ],
   "id": "26731e67a593de93",
   "outputs": [],
   "execution_count": 168
  },
  {
   "metadata": {
    "jupyter": {
     "is_executing": true
    },
    "ExecuteTime": {
     "start_time": "2025-03-22T00:46:22.099690Z"
    }
   },
   "cell_type": "code",
   "source": [
    "# Corremos en paralelo para mejorar tiempo de ejecución\n",
    "\n",
    "def extraer_lambdas(df, dict):\n",
    "    for tienda in df['Tienda'].unique():\n",
    "        dict[tienda] = [1/df[(df[\"Tienda\"] == tienda) & (df[\"Dia_semana\"] == dia)]['Tiempo_espera'].median() for dia in df['Dia_semana']]\n",
    "\n",
    "    return dict\n",
    "\n",
    "pool = mp.Pool()\n",
    "\n",
    "lambdas_est_banco, lambdas_est_afiliacion, lambdas_est_retail = pool.map(extraer_lambdas, [[df_banco, lambdas_est_banco], [df_afiliacion, lambdas_est_afiliacion], [df_retail, lambdas_est_retail]])\n",
    "\n",
    "pool.close()\n",
    "pool.join()"
   ],
   "id": "190eb2afa2a98879",
   "outputs": [],
   "execution_count": null
  },
  {
   "metadata": {},
   "cell_type": "code",
   "outputs": [],
   "execution_count": null,
   "source": "",
   "id": "3302c771f501cc42"
  }
 ],
 "metadata": {
  "kernelspec": {
   "display_name": "Python 3",
   "language": "python",
   "name": "python3"
  },
  "language_info": {
   "codemirror_mode": {
    "name": "ipython",
    "version": 2
   },
   "file_extension": ".py",
   "mimetype": "text/x-python",
   "name": "python",
   "nbconvert_exporter": "python",
   "pygments_lexer": "ipython2",
   "version": "2.7.6"
  }
 },
 "nbformat": 4,
 "nbformat_minor": 5
}
