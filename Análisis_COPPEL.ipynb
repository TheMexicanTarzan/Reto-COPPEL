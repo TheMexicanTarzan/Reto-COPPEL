{
 "cells": [
  {
   "metadata": {},
   "cell_type": "markdown",
   "source": "# Reto Coppel\n",
   "id": "492edb0b3322d582"
  },
  {
   "metadata": {},
   "cell_type": "markdown",
   "source": "## Importación de librerías",
   "id": "2aa4734f37fbc135"
  },
  {
   "metadata": {
    "collapsed": true,
    "ExecuteTime": {
     "end_time": "2025-03-14T18:57:16.718232Z",
     "start_time": "2025-03-14T18:57:16.712077Z"
    }
   },
   "cell_type": "code",
   "source": [
    "from pyspark.sql import SparkSession\n",
    "from pyspark.sql.functions import col, lit,isnan, when, count, sum"
   ],
   "id": "initial_id",
   "outputs": [],
   "execution_count": 23
  },
  {
   "metadata": {},
   "cell_type": "markdown",
   "source": "## Conexión al servidor",
   "id": "babed1c6b5fc940e"
  },
  {
   "metadata": {
    "ExecuteTime": {
     "end_time": "2025-03-14T18:15:56.202727Z",
     "start_time": "2025-03-14T18:15:55.932407Z"
    }
   },
   "cell_type": "code",
   "source": "spark = SparkSession.builder.master(\"local[*]\").getOrCreate()",
   "id": "6989b015c73ff8f4",
   "outputs": [],
   "execution_count": 4
  },
  {
   "metadata": {},
   "cell_type": "markdown",
   "source": "## Carga de datos",
   "id": "faf0c8c5a77b1dd"
  },
  {
   "metadata": {
    "ExecuteTime": {
     "end_time": "2025-03-14T18:22:19.512822Z",
     "start_time": "2025-03-14T18:21:51.039076Z"
    }
   },
   "cell_type": "code",
   "source": "df = spark.read.csv(\"../dataset.csv\", header=True, inferSchema=True)",
   "id": "9cc70be7fe924906",
   "outputs": [],
   "execution_count": 7
  },
  {
   "metadata": {},
   "cell_type": "markdown",
   "source": "## Inspección",
   "id": "c45283892b736ae9"
  },
  {
   "metadata": {
    "ExecuteTime": {
     "end_time": "2025-03-14T18:30:14.637825Z",
     "start_time": "2025-03-14T18:30:14.494463Z"
    }
   },
   "cell_type": "code",
   "source": "df.show(5)",
   "id": "ae58f1cac9a00797",
   "outputs": [
    {
     "name": "stdout",
     "output_type": "stream",
     "text": [
      "+------+----------+--------+------------------+------------------+------------------+------+--------+--------+----------------+\n",
      "|   _c0|     Fecha|Segmento|      hora_llegada|      hora_llamado|       hora_salida|  caja|  tienda|  status|          estado|\n",
      "+------+----------+--------+------------------+------------------+------------------+------+--------+--------+----------------+\n",
      "|821243|2023-01-01|  retail|0.5034652777777778|0.5034768518518519|0.5035810185185186|caja_a|Tienda_A|Atendido|Ciudad de México|\n",
      "|821244|2023-01-01|  retail|0.5035810185185186|0.5036157407407408|0.5111736111111111|caja_a|Tienda_A|Atendido|Ciudad de México|\n",
      "|821245|2023-01-01|  retail|0.5037893518518518| 0.503800925925926|0.5051203703703704|caja_b|Tienda_A|Atendido|Ciudad de México|\n",
      "|821246|2023-01-01|  retail|0.5038472222222222|0.5051319444444444|0.5093333333333333|caja_b|Tienda_A|Atendido|Ciudad de México|\n",
      "|821247|2023-01-01|  retail|0.5038935185185185|0.5080717592592593|0.5099814814814815|caja_c|Tienda_A|Atendido|Ciudad de México|\n",
      "+------+----------+--------+------------------+------------------+------------------+------+--------+--------+----------------+\n",
      "only showing top 5 rows\n",
      "\n"
     ]
    }
   ],
   "execution_count": 13
  },
  {
   "metadata": {
    "ExecuteTime": {
     "end_time": "2025-03-14T18:30:21.134215Z",
     "start_time": "2025-03-14T18:30:15.416575Z"
    }
   },
   "cell_type": "code",
   "source": "print((df.count(), len(df.columns)))",
   "id": "bd308fe254c6943a",
   "outputs": [
    {
     "name": "stdout",
     "output_type": "stream",
     "text": [
      "(18510772, 10)\n"
     ]
    }
   ],
   "execution_count": 14
  },
  {
   "metadata": {
    "ExecuteTime": {
     "end_time": "2025-03-14T18:32:57.709787Z",
     "start_time": "2025-03-14T18:32:57.701303Z"
    }
   },
   "cell_type": "code",
   "source": "df.printSchema()",
   "id": "f29f0bd9c4581521",
   "outputs": [
    {
     "name": "stdout",
     "output_type": "stream",
     "text": [
      "root\n",
      " |-- _c0: integer (nullable = true)\n",
      " |-- Fecha: date (nullable = true)\n",
      " |-- Segmento: string (nullable = true)\n",
      " |-- hora_llegada: double (nullable = true)\n",
      " |-- hora_llamado: double (nullable = true)\n",
      " |-- hora_salida: double (nullable = true)\n",
      " |-- caja: string (nullable = true)\n",
      " |-- tienda: string (nullable = true)\n",
      " |-- status: string (nullable = true)\n",
      " |-- estado: string (nullable = true)\n",
      "\n"
     ]
    }
   ],
   "execution_count": 15
  },
  {
   "metadata": {
    "jupyter": {
     "is_executing": true
    },
    "ExecuteTime": {
     "start_time": "2025-03-14T18:57:36.445181Z"
    }
   },
   "cell_type": "code",
   "source": "df.agg(*[sum(col(column).isNull().cast(\"int\")).alias(column) for column in df.columns]).show()",
   "id": "74b0212d6209e1e2",
   "outputs": [],
   "execution_count": null
  },
  {
   "metadata": {},
   "cell_type": "code",
   "outputs": [],
   "execution_count": null,
   "source": "",
   "id": "351683f0929b5901"
  }
 ],
 "metadata": {
  "kernelspec": {
   "display_name": "Python 3",
   "language": "python",
   "name": "python3"
  },
  "language_info": {
   "codemirror_mode": {
    "name": "ipython",
    "version": 2
   },
   "file_extension": ".py",
   "mimetype": "text/x-python",
   "name": "python",
   "nbconvert_exporter": "python",
   "pygments_lexer": "ipython2",
   "version": "2.7.6"
  }
 },
 "nbformat": 4,
 "nbformat_minor": 5
}
