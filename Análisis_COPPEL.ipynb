{
 "cells": [
  {
   "metadata": {},
   "cell_type": "markdown",
   "source": "# Reto Coppel\n",
   "id": "492edb0b3322d582"
  },
  {
   "metadata": {},
   "cell_type": "markdown",
   "source": "## Importación de librerías",
   "id": "2aa4734f37fbc135"
  },
  {
   "metadata": {
    "collapsed": true,
    "ExecuteTime": {
     "end_time": "2025-03-22T08:17:03.664108Z",
     "start_time": "2025-03-22T08:17:02.479384Z"
    }
   },
   "cell_type": "code",
   "source": [
    "import psycopg2\n",
    "import pandas as pd\n",
    "import numpy as np\n",
    "import matplotlib.pyplot as plt\n",
    "from scipy.stats import boxcox, expon, weibull_min, gamma, lognorm, pareto, probplot, kstest\n",
    "from distfit import distfit"
   ],
   "id": "initial_id",
   "outputs": [],
   "execution_count": 433
  },
  {
   "metadata": {},
   "cell_type": "markdown",
   "source": "## Carga de datos",
   "id": "faf0c8c5a77b1dd"
  },
  {
   "metadata": {
    "ExecuteTime": {
     "end_time": "2025-03-22T01:56:38.303610Z",
     "start_time": "2025-03-22T01:56:02.353077Z"
    }
   },
   "cell_type": "code",
   "source": "retail = pd.read_csv(\"../dataset.csv\")",
   "id": "ce29e124ef728f8e",
   "outputs": [],
   "execution_count": 48
  },
  {
   "metadata": {},
   "cell_type": "markdown",
   "source": "Cambiemos los nombres de los atributos a un mismo formato.",
   "id": "2b09364388f7baa0"
  },
  {
   "metadata": {
    "ExecuteTime": {
     "end_time": "2025-03-22T01:59:28.374695Z",
     "start_time": "2025-03-22T01:59:28.369513Z"
    }
   },
   "cell_type": "code",
   "source": "retail.columns = retail.columns.str.capitalize()",
   "id": "1e232a82dfb262c5",
   "outputs": [],
   "execution_count": 49
  },
  {
   "metadata": {},
   "cell_type": "markdown",
   "source": "Trabajaremos solo con los datos de retail debido a los recursos computacionales limitados y a que es el segmento más problemático.",
   "id": "950d1717b20c05df"
  },
  {
   "metadata": {
    "ExecuteTime": {
     "end_time": "2025-03-22T01:59:32.013150Z",
     "start_time": "2025-03-22T01:59:29.349941Z"
    }
   },
   "cell_type": "code",
   "source": "retail = retail[retail['Segmento'] == \"retail\"]",
   "id": "a5f9fbc21d9d536b",
   "outputs": [],
   "execution_count": 50
  },
  {
   "metadata": {},
   "cell_type": "markdown",
   "source": "## Inspección",
   "id": "c45283892b736ae9"
  },
  {
   "metadata": {
    "ExecuteTime": {
     "end_time": "2025-03-22T01:59:34.537998Z",
     "start_time": "2025-03-22T01:59:34.523367Z"
    }
   },
   "cell_type": "code",
   "source": "retail.head()",
   "id": "ae58f1cac9a00797",
   "outputs": [
    {
     "data": {
      "text/plain": [
       "   Unnamed: 0       Fecha Segmento  Hora_llegada  Hora_llamado  Hora_salida  \\\n",
       "0      821243  2023-01-01   retail      0.503465      0.503477     0.503581   \n",
       "1      821244  2023-01-01   retail      0.503581      0.503616     0.511174   \n",
       "2      821245  2023-01-01   retail      0.503789      0.503801     0.505120   \n",
       "3      821246  2023-01-01   retail      0.503847      0.505132     0.509333   \n",
       "4      821247  2023-01-01   retail      0.503894      0.508072     0.509981   \n",
       "\n",
       "     Caja    Tienda    Status            Estado  \n",
       "0  caja_a  Tienda_A  Atendido  Ciudad de México  \n",
       "1  caja_a  Tienda_A  Atendido  Ciudad de México  \n",
       "2  caja_b  Tienda_A  Atendido  Ciudad de México  \n",
       "3  caja_b  Tienda_A  Atendido  Ciudad de México  \n",
       "4  caja_c  Tienda_A  Atendido  Ciudad de México  "
      ],
      "text/html": [
       "<div>\n",
       "<style scoped>\n",
       "    .dataframe tbody tr th:only-of-type {\n",
       "        vertical-align: middle;\n",
       "    }\n",
       "\n",
       "    .dataframe tbody tr th {\n",
       "        vertical-align: top;\n",
       "    }\n",
       "\n",
       "    .dataframe thead th {\n",
       "        text-align: right;\n",
       "    }\n",
       "</style>\n",
       "<table border=\"1\" class=\"dataframe\">\n",
       "  <thead>\n",
       "    <tr style=\"text-align: right;\">\n",
       "      <th></th>\n",
       "      <th>Unnamed: 0</th>\n",
       "      <th>Fecha</th>\n",
       "      <th>Segmento</th>\n",
       "      <th>Hora_llegada</th>\n",
       "      <th>Hora_llamado</th>\n",
       "      <th>Hora_salida</th>\n",
       "      <th>Caja</th>\n",
       "      <th>Tienda</th>\n",
       "      <th>Status</th>\n",
       "      <th>Estado</th>\n",
       "    </tr>\n",
       "  </thead>\n",
       "  <tbody>\n",
       "    <tr>\n",
       "      <th>0</th>\n",
       "      <td>821243</td>\n",
       "      <td>2023-01-01</td>\n",
       "      <td>retail</td>\n",
       "      <td>0.503465</td>\n",
       "      <td>0.503477</td>\n",
       "      <td>0.503581</td>\n",
       "      <td>caja_a</td>\n",
       "      <td>Tienda_A</td>\n",
       "      <td>Atendido</td>\n",
       "      <td>Ciudad de México</td>\n",
       "    </tr>\n",
       "    <tr>\n",
       "      <th>1</th>\n",
       "      <td>821244</td>\n",
       "      <td>2023-01-01</td>\n",
       "      <td>retail</td>\n",
       "      <td>0.503581</td>\n",
       "      <td>0.503616</td>\n",
       "      <td>0.511174</td>\n",
       "      <td>caja_a</td>\n",
       "      <td>Tienda_A</td>\n",
       "      <td>Atendido</td>\n",
       "      <td>Ciudad de México</td>\n",
       "    </tr>\n",
       "    <tr>\n",
       "      <th>2</th>\n",
       "      <td>821245</td>\n",
       "      <td>2023-01-01</td>\n",
       "      <td>retail</td>\n",
       "      <td>0.503789</td>\n",
       "      <td>0.503801</td>\n",
       "      <td>0.505120</td>\n",
       "      <td>caja_b</td>\n",
       "      <td>Tienda_A</td>\n",
       "      <td>Atendido</td>\n",
       "      <td>Ciudad de México</td>\n",
       "    </tr>\n",
       "    <tr>\n",
       "      <th>3</th>\n",
       "      <td>821246</td>\n",
       "      <td>2023-01-01</td>\n",
       "      <td>retail</td>\n",
       "      <td>0.503847</td>\n",
       "      <td>0.505132</td>\n",
       "      <td>0.509333</td>\n",
       "      <td>caja_b</td>\n",
       "      <td>Tienda_A</td>\n",
       "      <td>Atendido</td>\n",
       "      <td>Ciudad de México</td>\n",
       "    </tr>\n",
       "    <tr>\n",
       "      <th>4</th>\n",
       "      <td>821247</td>\n",
       "      <td>2023-01-01</td>\n",
       "      <td>retail</td>\n",
       "      <td>0.503894</td>\n",
       "      <td>0.508072</td>\n",
       "      <td>0.509981</td>\n",
       "      <td>caja_c</td>\n",
       "      <td>Tienda_A</td>\n",
       "      <td>Atendido</td>\n",
       "      <td>Ciudad de México</td>\n",
       "    </tr>\n",
       "  </tbody>\n",
       "</table>\n",
       "</div>"
      ]
     },
     "execution_count": 51,
     "metadata": {},
     "output_type": "execute_result"
    }
   ],
   "execution_count": 51
  },
  {
   "metadata": {
    "ExecuteTime": {
     "end_time": "2025-03-22T01:59:37.130155Z",
     "start_time": "2025-03-22T01:59:37.123110Z"
    }
   },
   "cell_type": "code",
   "source": "retail.shape",
   "id": "bd308fe254c6943a",
   "outputs": [
    {
     "data": {
      "text/plain": [
       "(9987098, 10)"
      ]
     },
     "execution_count": 52,
     "metadata": {},
     "output_type": "execute_result"
    }
   ],
   "execution_count": 52
  },
  {
   "metadata": {},
   "cell_type": "markdown",
   "source": "### Tipos de datos",
   "id": "19d2fe860762a780"
  },
  {
   "metadata": {
    "ExecuteTime": {
     "end_time": "2025-03-22T01:59:39.098432Z",
     "start_time": "2025-03-22T01:59:39.089914Z"
    }
   },
   "cell_type": "code",
   "source": "retail.dtypes",
   "id": "f29f0bd9c4581521",
   "outputs": [
    {
     "data": {
      "text/plain": [
       "Unnamed: 0        int64\n",
       "Fecha            object\n",
       "Segmento         object\n",
       "Hora_llegada    float64\n",
       "Hora_llamado    float64\n",
       "Hora_salida     float64\n",
       "Caja             object\n",
       "Tienda           object\n",
       "Status           object\n",
       "Estado           object\n",
       "dtype: object"
      ]
     },
     "execution_count": 53,
     "metadata": {},
     "output_type": "execute_result"
    }
   ],
   "execution_count": 53
  },
  {
   "metadata": {},
   "cell_type": "markdown",
   "source": "El tipo de dato de cada atributo corresponde a la naturaleza del atributo excepto *Fecha*.",
   "id": "6cfecebba57f96f8"
  },
  {
   "metadata": {},
   "cell_type": "markdown",
   "source": "### Valores nulos",
   "id": "d6b2a4ecdf882234"
  },
  {
   "metadata": {
    "ExecuteTime": {
     "end_time": "2025-03-22T01:59:45.272878Z",
     "start_time": "2025-03-22T01:59:42.464682Z"
    }
   },
   "cell_type": "code",
   "source": "retail.isnull().sum()",
   "id": "74b0212d6209e1e2",
   "outputs": [
    {
     "data": {
      "text/plain": [
       "Unnamed: 0      0\n",
       "Fecha           0\n",
       "Segmento        0\n",
       "Hora_llegada    0\n",
       "Hora_llamado    0\n",
       "Hora_salida     0\n",
       "Caja            0\n",
       "Tienda          0\n",
       "Status          0\n",
       "Estado          0\n",
       "dtype: int64"
      ]
     },
     "execution_count": 54,
     "metadata": {},
     "output_type": "execute_result"
    }
   ],
   "execution_count": 54
  },
  {
   "metadata": {},
   "cell_type": "markdown",
   "source": "No hay valores nulos.",
   "id": "43fab0601a33cdf1"
  },
  {
   "metadata": {},
   "cell_type": "markdown",
   "source": "### Valores únicos",
   "id": "fe40d281d73d304d"
  },
  {
   "metadata": {
    "ExecuteTime": {
     "end_time": "2025-03-22T01:42:13.755229Z",
     "start_time": "2025-03-22T01:42:13.750085Z"
    }
   },
   "cell_type": "code",
   "source": [
    "def imprimir_datos(datos):\n",
    "    for dato in datos:\n",
    "        print(dato)"
   ],
   "id": "22521f2bed3d7eb2",
   "outputs": [],
   "execution_count": 32
  },
  {
   "metadata": {},
   "cell_type": "markdown",
   "source": "Revisemos que los datos se hayan filtrado correctamente.",
   "id": "cafb7dd71a4157d1"
  },
  {
   "metadata": {
    "ExecuteTime": {
     "end_time": "2025-03-22T01:42:28.327121Z",
     "start_time": "2025-03-22T01:42:27.739568Z"
    }
   },
   "cell_type": "code",
   "source": "imprimir_datos(retail['Segmento'].unique())\n",
   "id": "351683f0929b5901",
   "outputs": [
    {
     "name": "stdout",
     "output_type": "stream",
     "text": [
      "retail\n"
     ]
    }
   ],
   "execution_count": 33
  },
  {
   "metadata": {
    "ExecuteTime": {
     "end_time": "2025-03-22T01:42:43.641411Z",
     "start_time": "2025-03-22T01:42:43.003335Z"
    }
   },
   "cell_type": "code",
   "source": "imprimir_datos(retail['Caja'].unique())",
   "id": "e07879d086ec79ac",
   "outputs": [
    {
     "name": "stdout",
     "output_type": "stream",
     "text": [
      "caja_a\n",
      "caja_b\n",
      "caja_c\n",
      "caja_d\n",
      "caja_e\n",
      "caja_f\n",
      "caja_j\n",
      "caja_h\n",
      "caja_i\n",
      "caja_k\n",
      "caja_l\n",
      "caja_m\n",
      "caja_n\n",
      "ventanilla_b\n",
      "caja_o\n",
      "caja_p\n",
      "caja_q\n",
      "ventanilla_d\n",
      "p_b\n",
      "ventanilla_c\n",
      "p_a\n",
      "p_f\n",
      "p_h\n",
      "ventanilla_a\n",
      "p_m\n",
      "p_e\n",
      "p_g\n",
      "ventanilla_f\n",
      "p_d\n",
      "p_c\n",
      "p_k\n",
      "p_j\n",
      "p_i\n",
      "ventanilla_e\n",
      "ventanilla_g\n",
      "p_n\n",
      "caja_r\n",
      "caja_s\n",
      "caja_t\n",
      "caja_u\n",
      "caja_v\n",
      "Caja_a\n",
      "Caja_b\n",
      "Caja_c\n",
      "Caja_d\n",
      "Caja_e\n",
      "p_t\n",
      "p_u\n",
      "Caja_f\n",
      "p_v\n",
      "ventanilla_m\n",
      "ventanilla_k\n",
      "ventanilla_o\n",
      "ventanilla_l\n",
      "ventanilla_p\n",
      "p_o\n",
      "p_q\n",
      "p_s\n",
      "ventanilla_j\n",
      "ventanilla_i\n",
      "p_p\n",
      "ventanilla_n\n",
      "ventanilla_h\n",
      "ventanilla_s\n",
      "P_b\n",
      "ventanilla_r\n",
      "p_r\n",
      "p_y\n",
      "caja_x\n",
      "p_z\n",
      "P_c\n",
      "P_a\n",
      "p_l\n",
      "a_a\n"
     ]
    }
   ],
   "execution_count": 34
  },
  {
   "metadata": {},
   "cell_type": "markdown",
   "source": "Se tienen 74 cajas distintas que se dividen en tres tipos: caja, ventanilla, p. Hay errores de etiquetado.",
   "id": "3af3d0b0ed8d1082"
  },
  {
   "metadata": {
    "ExecuteTime": {
     "end_time": "2025-03-22T01:43:15.113378Z",
     "start_time": "2025-03-22T01:43:14.460287Z"
    }
   },
   "cell_type": "code",
   "source": "imprimir_datos(retail['Tienda'].unique())",
   "id": "15ee3c656009ede6",
   "outputs": [
    {
     "name": "stdout",
     "output_type": "stream",
     "text": [
      "Tienda_A\n",
      "Tienda_B\n",
      "Tienda_C\n",
      "Tienda_D\n",
      "Tienda_E\n",
      "Tienda_F\n",
      "Tienda_G\n",
      "Tienda_H\n",
      "Tienda_I\n",
      "Tienda_J\n",
      "Tienda_K\n",
      "Tienda_L\n",
      "Tienda_M\n",
      "Tienda_N\n",
      "Tienda_O\n",
      "Tienda_P\n",
      "Tienda_Q\n",
      "Tienda_R\n",
      "Tienda_S\n",
      "Tienda_T\n",
      "Tienda_U\n",
      "Tienda_X\n",
      "Tienda_Y\n",
      "Tienda_Z\n",
      "Tienda_V\n",
      "Tienda_AB\n",
      "Tienda_AC\n",
      "Tienda_AE\n",
      "Tienda_AF\n",
      "Tienda_AG\n",
      "Tienda_AH\n",
      "Tienda_AI\n",
      "Tienda_AJ\n",
      "Tienda_AK\n",
      "Tienda_AA\n",
      "Tienda_AL\n",
      "Tienda_AM\n",
      "Tienda_AN\n",
      "Tienda_AO\n",
      "Tienda_AP\n",
      "Tienda_AQ\n",
      "Tienda_AX\n",
      "Tienda_AD\n",
      "Tienda_AY\n",
      "Tienda_AZ\n",
      "Tienda_BA\n",
      "Tienda_BB\n",
      "Tienda_BC\n",
      "Tienda_BD\n",
      "Tienda_BE\n"
     ]
    }
   ],
   "execution_count": 35
  },
  {
   "metadata": {},
   "cell_type": "markdown",
   "source": "Se tienen 50 tiendas distintas.",
   "id": "dcd127afeea99872"
  },
  {
   "metadata": {
    "ExecuteTime": {
     "end_time": "2025-03-22T01:43:49.681547Z",
     "start_time": "2025-03-22T01:43:48.430190Z"
    }
   },
   "cell_type": "code",
   "source": "imprimir_datos(retail['Status'].unique())",
   "id": "c8f3cd1dde55f380",
   "outputs": [
    {
     "name": "stdout",
     "output_type": "stream",
     "text": [
      "Atendido\n",
      "Ausente\n"
     ]
    }
   ],
   "execution_count": 36
  },
  {
   "metadata": {
    "ExecuteTime": {
     "end_time": "2025-03-22T01:44:05.713618Z",
     "start_time": "2025-03-22T01:44:04.732391Z"
    }
   },
   "cell_type": "code",
   "source": "imprimir_datos(retail['Estado'].unique())",
   "id": "567bec241dd85f37",
   "outputs": [
    {
     "name": "stdout",
     "output_type": "stream",
     "text": [
      "Ciudad de México\n",
      "Quintana Roo\n",
      "Sonora\n",
      "Sinaloa\n",
      "Veracruz de Ignacio de la Llave\n",
      "Chiapas\n",
      "Puebla\n",
      "Tabasco\n",
      "Durango\n",
      "Yucatán\n",
      "Guanajuato\n",
      "Chihuahua\n",
      "Zacatecas\n",
      "México\n",
      "Oaxaca\n",
      "Morelos\n",
      "Nuevo León\n",
      "Querétaro\n",
      "Michoacán de Ocampo\n",
      "Guerrero\n",
      "Baja California\n",
      "Baja California Sur\n",
      "Coahuila de Zaragoza\n"
     ]
    }
   ],
   "execution_count": 37
  },
  {
   "metadata": {},
   "cell_type": "markdown",
   "source": "Se incluyen solo 23 estados de la república.",
   "id": "7019d265935b3277"
  },
  {
   "metadata": {},
   "cell_type": "markdown",
   "source": "Comentario: hay errores de etiquetado en el atributo *Caja*.",
   "id": "b8b68bb73dff77e8"
  },
  {
   "metadata": {},
   "cell_type": "markdown",
   "source": "## Limpieza de datos",
   "id": "87114cfb1d6f9cba"
  },
  {
   "metadata": {},
   "cell_type": "markdown",
   "source": "### Errores de tipo de dato",
   "id": "c4f08dd5b448efc1"
  },
  {
   "metadata": {
    "ExecuteTime": {
     "end_time": "2025-03-22T01:59:50.899215Z",
     "start_time": "2025-03-22T01:59:49.562622Z"
    }
   },
   "cell_type": "code",
   "source": "retail['Fecha'] = pd.to_datetime(retail['Fecha'])",
   "id": "b2490c7380df77d",
   "outputs": [],
   "execution_count": 55
  },
  {
   "metadata": {},
   "cell_type": "markdown",
   "source": "### Errores de etiquetado",
   "id": "2c7ba21f5607fe15"
  },
  {
   "metadata": {},
   "cell_type": "markdown",
   "source": "Corrijamos errores de etiquetado, en este caso, cambiemos todos los valores del atributo *Caja* a minusculas para que no haya valores repetidos que se identifiquen como distintos por el uso de mayusculas.",
   "id": "865590be7233251e"
  },
  {
   "metadata": {
    "ExecuteTime": {
     "end_time": "2025-03-22T02:00:34.223563Z",
     "start_time": "2025-03-22T02:00:32.220716Z"
    }
   },
   "cell_type": "code",
   "source": "retail['retail'] = retail['Caja'].str.lower()",
   "id": "83e3e64d5c36d643",
   "outputs": [],
   "execution_count": 57
  },
  {
   "metadata": {},
   "cell_type": "markdown",
   "source": "### Ruido",
   "id": "654b33bd30057416"
  },
  {
   "metadata": {},
   "cell_type": "markdown",
   "source": "Eliminemos las observaciones donde la hora de llegada es mayor que la hora de llamado o salida y las observaciones donde su hora de llamado es mayor al horario de salida",
   "id": "f280ca7577421343"
  },
  {
   "metadata": {
    "ExecuteTime": {
     "end_time": "2025-03-22T02:00:36.064984Z",
     "start_time": "2025-03-22T02:00:34.828221Z"
    }
   },
   "cell_type": "code",
   "source": [
    "retail = retail[(retail['Hora_llegada'] < retail['Hora_llamado']) &\n",
    "        (retail['Hora_llegada'] < retail['Hora_salida']) &\n",
    "        (retail['Hora_llamado'] < retail['Hora_salida'])]\n",
    "retail.shape[0]"
   ],
   "id": "173a0c0a77349910",
   "outputs": [
    {
     "data": {
      "text/plain": [
       "9734454"
      ]
     },
     "execution_count": 58,
     "metadata": {},
     "output_type": "execute_result"
    }
   ],
   "execution_count": 58
  },
  {
   "metadata": {},
   "cell_type": "markdown",
   "source": "Se eliminaron 250,000 observaciones, aproximadamente.",
   "id": "4f2cfca27107195f"
  },
  {
   "metadata": {},
   "cell_type": "markdown",
   "source": "## Creación de nuevas columnas",
   "id": "4802cb160e6d3e91"
  },
  {
   "metadata": {},
   "cell_type": "markdown",
   "source": "Separemos el atributo compuesto *Fecha* en tres atributos: *Dia*, *Mes* y *Anio*.",
   "id": "fef8a932ecf5f8d4"
  },
  {
   "metadata": {
    "ExecuteTime": {
     "end_time": "2025-03-22T02:00:46.351854Z",
     "start_time": "2025-03-22T02:00:43.852249Z"
    }
   },
   "cell_type": "code",
   "source": [
    "\n",
    "retail['Anio'] = retail['Fecha'].dt.year  # Extraer el año\n",
    "retail['Mes'] = retail['Fecha'].dt.month  # Extraer el mes\n",
    "retail['Dia'] = retail['Fecha'].dt.day\n"
   ],
   "id": "e1fbefa67c8266d4",
   "outputs": [],
   "execution_count": 59
  },
  {
   "metadata": {
    "ExecuteTime": {
     "end_time": "2025-03-22T02:01:26.446921Z",
     "start_time": "2025-03-22T02:01:26.333680Z"
    }
   },
   "cell_type": "code",
   "source": "imprimir_datos(retail['Anio'].unique())",
   "id": "a6e2e9a93c12fed",
   "outputs": [
    {
     "name": "stdout",
     "output_type": "stream",
     "text": [
      "2023\n",
      "2024\n"
     ]
    }
   ],
   "execution_count": 61
  },
  {
   "metadata": {
    "ExecuteTime": {
     "end_time": "2025-03-22T02:01:57.919742Z",
     "start_time": "2025-03-22T02:01:57.817998Z"
    }
   },
   "cell_type": "code",
   "source": "imprimir_datos(retail['Mes'].unique())",
   "id": "9a5b7c212e270a9e",
   "outputs": [
    {
     "name": "stdout",
     "output_type": "stream",
     "text": [
      "1\n",
      "2\n",
      "3\n",
      "4\n",
      "5\n",
      "6\n",
      "7\n",
      "8\n",
      "9\n",
      "10\n",
      "11\n",
      "12\n"
     ]
    }
   ],
   "execution_count": 63
  },
  {
   "metadata": {
    "ExecuteTime": {
     "end_time": "2025-03-22T02:02:18.116632Z",
     "start_time": "2025-03-22T02:02:18.022008Z"
    }
   },
   "cell_type": "code",
   "source": "imprimir_datos(retail['Dia'].unique())",
   "id": "fe5363c9c9920a57",
   "outputs": [
    {
     "name": "stdout",
     "output_type": "stream",
     "text": [
      "1\n",
      "2\n",
      "3\n",
      "4\n",
      "5\n",
      "6\n",
      "7\n",
      "8\n",
      "9\n",
      "10\n",
      "11\n",
      "12\n",
      "13\n",
      "14\n",
      "15\n",
      "16\n",
      "17\n",
      "18\n",
      "19\n",
      "20\n",
      "21\n",
      "22\n",
      "23\n",
      "24\n",
      "25\n",
      "26\n",
      "27\n",
      "28\n",
      "29\n",
      "30\n",
      "31\n"
     ]
    }
   ],
   "execution_count": 64
  },
  {
   "metadata": {
    "ExecuteTime": {
     "end_time": "2025-03-22T02:03:19.393068Z",
     "start_time": "2025-03-22T02:03:18.477265Z"
    }
   },
   "cell_type": "code",
   "source": "retail['Dia_semana'] = retail['Fecha'].dt.dayofweek",
   "id": "5384677a37bef1fd",
   "outputs": [],
   "execution_count": 65
  },
  {
   "metadata": {
    "ExecuteTime": {
     "end_time": "2025-03-22T02:03:41.938458Z",
     "start_time": "2025-03-22T02:03:41.779385Z"
    }
   },
   "cell_type": "code",
   "source": "imprimir_datos(retail['Dia_semana'].unique())",
   "id": "b0ae3139fa2177c9",
   "outputs": [
    {
     "name": "stdout",
     "output_type": "stream",
     "text": [
      "6\n",
      "0\n",
      "1\n",
      "2\n",
      "3\n",
      "4\n",
      "5\n"
     ]
    }
   ],
   "execution_count": 66
  },
  {
   "metadata": {},
   "cell_type": "markdown",
   "source": "Creemos una nueva columna que sea la diferencia de los atributos *Hora_llamado* y *Hora_llegada* para su posterior análisis.",
   "id": "d380e3b8bf43e90f"
  },
  {
   "metadata": {
    "ExecuteTime": {
     "end_time": "2025-03-22T02:14:37.493761Z",
     "start_time": "2025-03-22T02:14:37.418905Z"
    }
   },
   "cell_type": "code",
   "source": "retail['Tiempo_espera'] = retail['Hora_llamado'] - retail['Hora_llegada']",
   "id": "d9734ef90f7b72dd",
   "outputs": [],
   "execution_count": 85
  },
  {
   "metadata": {
    "ExecuteTime": {
     "end_time": "2025-03-22T02:14:38.300388Z",
     "start_time": "2025-03-22T02:14:38.282838Z"
    }
   },
   "cell_type": "code",
   "source": "retail.head()",
   "id": "30c84f304f3c09fa",
   "outputs": [
    {
     "data": {
      "text/plain": [
       "   Unnamed: 0      Fecha Segmento  Hora_llegada  Hora_llamado  Hora_salida  \\\n",
       "0      821243 2023-01-01   retail      0.503465      0.503477     0.503581   \n",
       "1      821244 2023-01-01   retail      0.503581      0.503616     0.511174   \n",
       "2      821245 2023-01-01   retail      0.503789      0.503801     0.505120   \n",
       "3      821246 2023-01-01   retail      0.503847      0.505132     0.509333   \n",
       "4      821247 2023-01-01   retail      0.503894      0.508072     0.509981   \n",
       "\n",
       "     Caja    Tienda    Status            Estado  retail  Anio  Mes  Dia  \\\n",
       "0  caja_a  Tienda_A  Atendido  Ciudad de México  caja_a  2023    1    1   \n",
       "1  caja_a  Tienda_A  Atendido  Ciudad de México  caja_a  2023    1    1   \n",
       "2  caja_b  Tienda_A  Atendido  Ciudad de México  caja_b  2023    1    1   \n",
       "3  caja_b  Tienda_A  Atendido  Ciudad de México  caja_b  2023    1    1   \n",
       "4  caja_c  Tienda_A  Atendido  Ciudad de México  caja_c  2023    1    1   \n",
       "\n",
       "   Dia_semana  Tiempo_espera  \n",
       "0           6       0.000012  \n",
       "1           6       0.000035  \n",
       "2           6       0.000012  \n",
       "3           6       0.001285  \n",
       "4           6       0.004178  "
      ],
      "text/html": [
       "<div>\n",
       "<style scoped>\n",
       "    .dataframe tbody tr th:only-of-type {\n",
       "        vertical-align: middle;\n",
       "    }\n",
       "\n",
       "    .dataframe tbody tr th {\n",
       "        vertical-align: top;\n",
       "    }\n",
       "\n",
       "    .dataframe thead th {\n",
       "        text-align: right;\n",
       "    }\n",
       "</style>\n",
       "<table border=\"1\" class=\"dataframe\">\n",
       "  <thead>\n",
       "    <tr style=\"text-align: right;\">\n",
       "      <th></th>\n",
       "      <th>Unnamed: 0</th>\n",
       "      <th>Fecha</th>\n",
       "      <th>Segmento</th>\n",
       "      <th>Hora_llegada</th>\n",
       "      <th>Hora_llamado</th>\n",
       "      <th>Hora_salida</th>\n",
       "      <th>Caja</th>\n",
       "      <th>Tienda</th>\n",
       "      <th>Status</th>\n",
       "      <th>Estado</th>\n",
       "      <th>retail</th>\n",
       "      <th>Anio</th>\n",
       "      <th>Mes</th>\n",
       "      <th>Dia</th>\n",
       "      <th>Dia_semana</th>\n",
       "      <th>Tiempo_espera</th>\n",
       "    </tr>\n",
       "  </thead>\n",
       "  <tbody>\n",
       "    <tr>\n",
       "      <th>0</th>\n",
       "      <td>821243</td>\n",
       "      <td>2023-01-01</td>\n",
       "      <td>retail</td>\n",
       "      <td>0.503465</td>\n",
       "      <td>0.503477</td>\n",
       "      <td>0.503581</td>\n",
       "      <td>caja_a</td>\n",
       "      <td>Tienda_A</td>\n",
       "      <td>Atendido</td>\n",
       "      <td>Ciudad de México</td>\n",
       "      <td>caja_a</td>\n",
       "      <td>2023</td>\n",
       "      <td>1</td>\n",
       "      <td>1</td>\n",
       "      <td>6</td>\n",
       "      <td>0.000012</td>\n",
       "    </tr>\n",
       "    <tr>\n",
       "      <th>1</th>\n",
       "      <td>821244</td>\n",
       "      <td>2023-01-01</td>\n",
       "      <td>retail</td>\n",
       "      <td>0.503581</td>\n",
       "      <td>0.503616</td>\n",
       "      <td>0.511174</td>\n",
       "      <td>caja_a</td>\n",
       "      <td>Tienda_A</td>\n",
       "      <td>Atendido</td>\n",
       "      <td>Ciudad de México</td>\n",
       "      <td>caja_a</td>\n",
       "      <td>2023</td>\n",
       "      <td>1</td>\n",
       "      <td>1</td>\n",
       "      <td>6</td>\n",
       "      <td>0.000035</td>\n",
       "    </tr>\n",
       "    <tr>\n",
       "      <th>2</th>\n",
       "      <td>821245</td>\n",
       "      <td>2023-01-01</td>\n",
       "      <td>retail</td>\n",
       "      <td>0.503789</td>\n",
       "      <td>0.503801</td>\n",
       "      <td>0.505120</td>\n",
       "      <td>caja_b</td>\n",
       "      <td>Tienda_A</td>\n",
       "      <td>Atendido</td>\n",
       "      <td>Ciudad de México</td>\n",
       "      <td>caja_b</td>\n",
       "      <td>2023</td>\n",
       "      <td>1</td>\n",
       "      <td>1</td>\n",
       "      <td>6</td>\n",
       "      <td>0.000012</td>\n",
       "    </tr>\n",
       "    <tr>\n",
       "      <th>3</th>\n",
       "      <td>821246</td>\n",
       "      <td>2023-01-01</td>\n",
       "      <td>retail</td>\n",
       "      <td>0.503847</td>\n",
       "      <td>0.505132</td>\n",
       "      <td>0.509333</td>\n",
       "      <td>caja_b</td>\n",
       "      <td>Tienda_A</td>\n",
       "      <td>Atendido</td>\n",
       "      <td>Ciudad de México</td>\n",
       "      <td>caja_b</td>\n",
       "      <td>2023</td>\n",
       "      <td>1</td>\n",
       "      <td>1</td>\n",
       "      <td>6</td>\n",
       "      <td>0.001285</td>\n",
       "    </tr>\n",
       "    <tr>\n",
       "      <th>4</th>\n",
       "      <td>821247</td>\n",
       "      <td>2023-01-01</td>\n",
       "      <td>retail</td>\n",
       "      <td>0.503894</td>\n",
       "      <td>0.508072</td>\n",
       "      <td>0.509981</td>\n",
       "      <td>caja_c</td>\n",
       "      <td>Tienda_A</td>\n",
       "      <td>Atendido</td>\n",
       "      <td>Ciudad de México</td>\n",
       "      <td>caja_c</td>\n",
       "      <td>2023</td>\n",
       "      <td>1</td>\n",
       "      <td>1</td>\n",
       "      <td>6</td>\n",
       "      <td>0.004178</td>\n",
       "    </tr>\n",
       "  </tbody>\n",
       "</table>\n",
       "</div>"
      ]
     },
     "execution_count": 86,
     "metadata": {},
     "output_type": "execute_result"
    }
   ],
   "execution_count": 86
  },
  {
   "metadata": {},
   "cell_type": "markdown",
   "source": "## Análisis exploratorio de datos",
   "id": "8f36ae6a2dc07def"
  },
  {
   "metadata": {},
   "cell_type": "markdown",
   "source": "Hagamos un análisis exploratorio por tienda.",
   "id": "6c16fad8971072f"
  },
  {
   "metadata": {
    "ExecuteTime": {
     "end_time": "2025-03-22T02:14:47.414834Z",
     "start_time": "2025-03-22T02:14:43.511232Z"
    }
   },
   "cell_type": "code",
   "source": [
    "retail_por_tienda = dict()\n",
    "count = 0\n",
    "for tienda in retail['Tienda'].unique():\n",
    "    retail_por_tienda[tienda] = retail[retail['Tienda'] == tienda]"
   ],
   "id": "722d138fe2be6f60",
   "outputs": [],
   "execution_count": 87
  },
  {
   "metadata": {},
   "cell_type": "markdown",
   "source": "Dejamos de lado el atributo *Estado*, ya que no sería necesario si analizaremos los datos por tienda.",
   "id": "63ca142f06a4a843"
  },
  {
   "metadata": {
    "ExecuteTime": {
     "end_time": "2025-03-22T05:56:50.975457Z",
     "start_time": "2025-03-22T05:56:50.966974Z"
    }
   },
   "cell_type": "code",
   "source": [
    "def EDA(retail_por_tienda):\n",
    "    for tienda, conjunto_datos in retail_por_tienda.items():\n",
    "        print(tienda)\n",
    "        print(\"Tiempos de espera\")\n",
    "        print(conjunto_datos['Tiempo_espera'].describe())\n",
    "        plt.hist(conjunto_datos.Tiempo_espera, bins=20)\n",
    "        plt.show()\n",
    "        print(\"Tiempos de espera por status\")\n",
    "        atendido = conjunto_datos.loc[conjunto_datos.Status == \"Atendido\", \"Tiempo_espera\"]\n",
    "        ausente = conjunto_datos.loc[conjunto_datos.Status == \"Ausente\", \"Tiempo_espera\"]\n",
    "        print(atendido.describe())\n",
    "        print(ausente.describe())\n",
    "        plt.hist(atendido, bins=50, density=True)\n",
    "        plt.hist(ausente, bins=50, density=True, alpha=0.75)\n",
    "        plt.show()\n",
    "        print(\"---------------------------------------\")\n"
   ],
   "id": "b62f2c32483cd055",
   "outputs": [],
   "execution_count": 178
  },
  {
   "metadata": {
    "ExecuteTime": {
     "end_time": "2025-03-22T05:56:54.855117Z",
     "start_time": "2025-03-22T05:56:52.894938Z"
    }
   },
   "cell_type": "code",
   "source": "EDA(retail_por_tienda)",
   "id": "5da674b2b5640b4f",
   "outputs": [
    {
     "name": "stdout",
     "output_type": "stream",
     "text": [
      "Tienda_A\n",
      "Tiempos de espera\n",
      "count    275357.000000\n",
      "mean          0.002768\n",
      "std           0.004437\n",
      "min           0.000012\n",
      "25%           0.000463\n",
      "50%           0.001655\n",
      "75%           0.003530\n",
      "max           0.330394\n",
      "Name: Tiempo_espera, dtype: float64\n"
     ]
    },
    {
     "data": {
      "text/plain": [
       "<Figure size 640x480 with 1 Axes>"
      ],
      "image/png": "[encoded data removed]"
     },
     "metadata": {},
     "output_type": "display_data"
    },
    {
     "name": "stdout",
     "output_type": "stream",
     "text": [
      "Tiempos de espera por status\n",
      "count    264454.000000\n",
      "mean          0.002665\n",
      "std           0.003948\n",
      "min           0.000012\n",
      "25%           0.000440\n",
      "50%           0.001609\n",
      "75%           0.003438\n",
      "max           0.154525\n",
      "Name: Tiempo_espera, dtype: float64\n",
      "count    10903.000000\n",
      "mean         0.005261\n",
      "std          0.010620\n",
      "min          0.000012\n",
      "25%          0.001204\n",
      "50%          0.002789\n",
      "75%          0.005694\n",
      "max          0.330394\n",
      "Name: Tiempo_espera, dtype: float64\n"
     ]
    },
    {
     "data": {
      "text/plain": [
       "<Figure size 640x480 with 1 Axes>"
      ],
      "image/png": "[encoded data removed]"
     },
     "metadata": {},
     "output_type": "display_data"
    },
    {
     "name": "stdout",
     "output_type": "stream",
     "text": [
      "---------------------------------------\n",
      "Tienda_B\n",
      "Tiempos de espera\n",
      "count    222114.000000\n",
      "mean          0.001381\n",
      "std           0.003299\n",
      "min           0.000012\n",
      "25%           0.000046\n",
      "50%           0.000532\n",
      "75%           0.001690\n",
      "max           0.237060\n",
      "Name: Tiempo_espera, dtype: float64\n"
     ]
    },
    {
     "data": {
      "text/plain": [
       "<Figure size 640x480 with 1 Axes>"
      ],
      "image/png": "[encoded data removed]"
     },
     "metadata": {},
     "output_type": "display_data"
    },
    {
     "name": "stdout",
     "output_type": "stream",
     "text": [
      "Tiempos de espera por status\n",
      "count    218686.000000\n",
      "mean          0.001346\n",
      "std           0.003102\n",
      "min           0.000012\n",
      "25%           0.000046\n",
      "50%           0.000521\n",
      "75%           0.001667\n",
      "max           0.237060\n",
      "Name: Tiempo_espera, dtype: float64\n",
      "count    3428.000000\n",
      "mean        0.003626\n",
      "std         0.009295\n",
      "min         0.000012\n",
      "25%         0.000440\n",
      "50%         0.001447\n",
      "75%         0.003623\n",
      "max         0.212755\n",
      "Name: Tiempo_espera, dtype: float64\n"
     ]
    },
    {
     "data": {
      "text/plain": [
       "<Figure size 640x480 with 1 Axes>"
      ],
      "image/png": "[encoded data removed]"
     },
     "metadata": {},
     "output_type": "display_data"
    },
    {
     "name": "stdout",
     "output_type": "stream",
     "text": [
      "---------------------------------------\n",
      "Tienda_C\n",
      "Tiempos de espera\n",
      "count    84107.000000\n",
      "mean         0.002873\n",
      "std          0.012436\n",
      "min          0.000012\n",
      "25%          0.000093\n",
      "50%          0.001019\n",
      "75%          0.002731\n",
      "max          0.355556\n",
      "Name: Tiempo_espera, dtype: float64\n"
     ]
    },
    {
     "data": {
      "text/plain": [
       "<Figure size 640x480 with 1 Axes>"
      ],
      "image/png": "[encoded data removed]"
     },
     "metadata": {},
     "output_type": "display_data"
    },
    {
     "name": "stdout",
     "output_type": "stream",
     "text": [
      "Tiempos de espera por status\n",
      "count    69402.000000\n",
      "mean         0.002762\n",
      "std          0.013332\n",
      "min          0.000012\n",
      "25%          0.000058\n",
      "50%          0.000880\n",
      "75%          0.002512\n",
      "max          0.355556\n",
      "Name: Tiempo_espera, dtype: float64\n",
      "count    14705.000000\n",
      "mean         0.003394\n",
      "std          0.006729\n",
      "min          0.000012\n",
      "25%          0.000440\n",
      "50%          0.001782\n",
      "75%          0.003889\n",
      "max          0.140660\n",
      "Name: Tiempo_espera, dtype: float64\n"
     ]
    },
    {
     "data": {
      "text/plain": [
       "<Figure size 640x480 with 1 Axes>"
      ],
      "image/png": "[encoded data removed]"
     },
     "metadata": {},
     "output_type": "display_data"
    },
    {
     "name": "stdout",
     "output_type": "stream",
     "text": [
      "---------------------------------------\n",
      "Tienda_D\n",
      "Tiempos de espera\n",
      "count    131898.000000\n",
      "mean          0.001552\n",
      "std           0.004854\n",
      "min           0.000012\n",
      "25%           0.000046\n",
      "50%           0.000451\n",
      "75%           0.001771\n",
      "max           0.225208\n",
      "Name: Tiempo_espera, dtype: float64\n"
     ]
    },
    {
     "data": {
      "text/plain": [
       "<Figure size 640x480 with 1 Axes>"
      ],
      "image/png": "[encoded data removed]"
     },
     "metadata": {},
     "output_type": "display_data"
    },
    {
     "name": "stdout",
     "output_type": "stream",
     "text": [
      "Tiempos de espera por status\n",
      "count    127924.000000\n",
      "mean          0.001463\n",
      "std           0.004535\n",
      "min           0.000012\n",
      "25%           0.000046\n",
      "50%           0.000428\n",
      "75%           0.001725\n",
      "max           0.180590\n",
      "Name: Tiempo_espera, dtype: float64\n",
      "count    3974.000000\n",
      "mean        0.004406\n",
      "std         0.010571\n",
      "min         0.000012\n",
      "25%         0.000162\n",
      "50%         0.001354\n",
      "75%         0.003877\n",
      "max         0.225208\n",
      "Name: Tiempo_espera, dtype: float64\n"
     ]
    },
    {
     "data": {
      "text/plain": [
       "<Figure size 640x480 with 1 Axes>"
      ],
      "image/png": "[encoded data removed]"
     },
     "metadata": {},
     "output_type": "display_data"
    },
    {
     "name": "stdout",
     "output_type": "stream",
     "text": [
      "---------------------------------------\n"
     ]
    }
   ],
   "execution_count": 179
  },
  {
   "metadata": {},
   "cell_type": "code",
   "outputs": [],
   "execution_count": null,
   "source": "",
   "id": "2e13d5943df3850b"
  },
  {
   "metadata": {},
   "cell_type": "markdown",
   "source": "## Prueba hipótesis",
   "id": "75325ab3b30cf782"
  },
  {
   "metadata": {},
   "cell_type": "markdown",
   "source": "Antes que nada, a pesar de que parezca obvio, sería buena práctica analizar si realmente existe una diferencia entre los tiempos de espera de clientes que fueron atendidos con los que se fueron antes de ser atendidos. Para esto usaremos prueba de permutación para diferencia de medianas.",
   "id": "4c1d6e1d83525b78"
  },
  {
   "metadata": {},
   "cell_type": "markdown",
   "source": [
    "H0: mediana2 - mediana1 = 0 \\\n",
    "H1: mediana2 - mediana1 != 0"
   ],
   "id": "5f7c8efcefb2a606"
  },
  {
   "metadata": {
    "ExecuteTime": {
     "end_time": "2025-03-22T03:09:34.605486Z",
     "start_time": "2025-03-22T03:09:12.653818Z"
    }
   },
   "cell_type": "code",
   "source": [
    "valores_p = []\n",
    "for tienda, conjunto_datos in retail_por_tienda.items():\n",
    "    B = 100\n",
    "    obs = (conjunto_datos[conjunto_datos['Status'] == 'Ausente']['Tiempo_espera'].median() -\n",
    "           conjunto_datos[conjunto_datos['Status'] == 'Atendido']['Tiempo_espera'].median())\n",
    "    diferencias_medianas = []\n",
    "\n",
    "    for _ in range(B):\n",
    "        etiquetas = np.random.permutation(conjunto_datos[\"Status\"])\n",
    "        diferencias_medianas.append(conjunto_datos[etiquetas == \"Ausente\"][\"Tiempo_espera\"].median() -\n",
    "                                  conjunto_datos[etiquetas == \"Atendido\"][\"Tiempo_espera\"].median())\n",
    "\n",
    "    valores_p.append(((np.sum(np.array(diferencias_medianas) >= obs)) + 1) / (B + 1))\n"
   ],
   "id": "80ed674a42144019",
   "outputs": [
    {
     "name": "stdout",
     "output_type": "stream",
     "text": [
      "-0.0006018518518471627\n",
      "-0.00019097222222214105\n",
      "0.00010995370370336932\n",
      "5.208333333231452e-05\n"
     ]
    }
   ],
   "execution_count": 146
  },
  {
   "metadata": {},
   "cell_type": "markdown",
   "source": "Un nivel de significancia de 5% parece razonable al no haber una necesidad de ser conservador.",
   "id": "159f7aa6ba66c1ca"
  },
  {
   "metadata": {
    "ExecuteTime": {
     "end_time": "2025-03-22T03:12:46.510188Z",
     "start_time": "2025-03-22T03:12:46.503067Z"
    }
   },
   "cell_type": "code",
   "source": "print(np.sum(np.array(valores_p) <= 0.05))",
   "id": "63092e23e343032",
   "outputs": [
    {
     "name": "stdout",
     "output_type": "stream",
     "text": [
      "4\n"
     ]
    }
   ],
   "execution_count": 147
  },
  {
   "metadata": {},
   "cell_type": "markdown",
   "source": "En todos los casos, tenemos evidencia muy fuerte en contra de la hipotesis nula, es decir, tenemos suficiente evidencia estadística para creer que, la mediana de los tiempos de espera de las personas que se ausentaron es mayor que el de las personas que fueron atendidas.",
   "id": "d9af8f89ba77172e"
  },
  {
   "metadata": {},
   "cell_type": "markdown",
   "source": "## Estimar parámetros y distribución",
   "id": "a6d0a666b9372c73"
  },
  {
   "metadata": {
    "ExecuteTime": {
     "end_time": "2025-03-22T08:10:17.717582Z",
     "start_time": "2025-03-22T08:10:16.714478Z"
    }
   },
   "cell_type": "code",
   "source": "muestra = retail['Tiempo_espera'].sample(frac=0.1)",
   "id": "51a7f2fc8202e9a8",
   "outputs": [],
   "execution_count": 429
  },
  {
   "metadata": {
    "ExecuteTime": {
     "end_time": "2025-03-22T08:10:17.734047Z",
     "start_time": "2025-03-22T08:10:17.724871Z"
    }
   },
   "cell_type": "code",
   "source": "datos_transformados = np.sqrt(muestra)",
   "id": "19bbe6328449ab13",
   "outputs": [],
   "execution_count": 430
  },
  {
   "metadata": {},
   "cell_type": "markdown",
   "source": "### Exponencial",
   "id": "f3ec67d5136e7d36"
  },
  {
   "metadata": {
    "ExecuteTime": {
     "end_time": "2025-03-22T08:10:25.287782Z",
     "start_time": "2025-03-22T08:10:25.279825Z"
    }
   },
   "cell_type": "code",
   "source": [
    "params_expon = expon.fit(muestra, floc=0)\n",
    "print(params_expon)"
   ],
   "id": "5f183d9826430537",
   "outputs": [
    {
     "name": "stdout",
     "output_type": "stream",
     "text": [
      "(0.0, 0.04367585859355411)\n"
     ]
    }
   ],
   "execution_count": 431
  },
  {
   "metadata": {
    "ExecuteTime": {
     "end_time": "2025-03-22T08:10:29.700776Z",
     "start_time": "2025-03-22T08:10:26.885140Z"
    }
   },
   "cell_type": "code",
   "source": [
    "probplot(muestra, dist='expon', sparams=params_expon, plot=plt)\n",
    "plt.title(\"Gráfico Q-Q para distribución exponencial\")\n",
    "plt.show()"
   ],
   "id": "aac6862e3a2c2472",
   "outputs": [
    {
     "data": {
      "text/plain": [
       "<Figure size 640x480 with 1 Axes>"
      ],
      "image/png": "[encoded data removed]"
     },
     "metadata": {},
     "output_type": "display_data"
    }
   ],
   "execution_count": 432
  },
  {
   "metadata": {
    "ExecuteTime": {
     "end_time": "2025-03-22T08:02:07.397793Z",
     "start_time": "2025-03-22T08:02:07.231784Z"
    }
   },
   "cell_type": "code",
   "source": [
    "resultado = kstest(muestra, 'expon', args=params_expon)\n",
    "print(f\"Valor p: {resultado.pvalue}\")"
   ],
   "id": "ef741f6ea7e02c78",
   "outputs": [
    {
     "name": "stdout",
     "output_type": "stream",
     "text": [
      "Valor p: 0.0\n"
     ]
    }
   ],
   "execution_count": 394
  },
  {
   "metadata": {},
   "cell_type": "markdown",
   "source": "### Weibull",
   "id": "5fc9d0b135ccb2fd"
  },
  {
   "metadata": {
    "ExecuteTime": {
     "end_time": "2025-03-22T07:54:29.324525Z",
     "start_time": "2025-03-22T07:54:20.403148Z"
    }
   },
   "cell_type": "code",
   "source": [
    "params_weibull = weibull_min.fit(muestra, floc=0)\n",
    "print(params_weibull)"
   ],
   "id": "dc6144995d202cc",
   "outputs": [
    {
     "name": "stdout",
     "output_type": "stream",
     "text": [
      "(np.float64(0.7951930641917795), 0, np.float64(0.001397401903845371))\n"
     ]
    }
   ],
   "execution_count": 356
  },
  {
   "metadata": {
    "ExecuteTime": {
     "end_time": "2025-03-22T07:54:32.280854Z",
     "start_time": "2025-03-22T07:54:29.367864Z"
    }
   },
   "cell_type": "code",
   "source": [
    "probplot(muestra, dist='weibull_min', sparams=params_weibull, plot=plt)\n",
    "plt.title(\"Gráfico Q-Q para distribución Weibull\")\n",
    "plt.show()"
   ],
   "id": "f5f998bfd505f87b",
   "outputs": [
    {
     "data": {
      "text/plain": [
       "<Figure size 640x480 with 1 Axes>"
      ],
      "image/png": "[encoded data removed]"
     },
     "metadata": {},
     "output_type": "display_data"
    }
   ],
   "execution_count": 357
  },
  {
   "metadata": {},
   "cell_type": "markdown",
   "source": "### Gamma",
   "id": "6c7cc766579127cf"
  },
  {
   "metadata": {
    "ExecuteTime": {
     "end_time": "2025-03-22T07:36:10.430477Z",
     "start_time": "2025-03-22T07:36:10.409577Z"
    }
   },
   "cell_type": "code",
   "source": [
    "params_gamma = gamma.fit(muestra, floc=0)\n",
    "print(params_gamma)"
   ],
   "id": "7817edf6410ddf35",
   "outputs": [
    {
     "name": "stdout",
     "output_type": "stream",
     "text": [
      "(0.46937750197570693, 0, np.float64(0.006885442726804437))\n"
     ]
    }
   ],
   "execution_count": 325
  },
  {
   "metadata": {
    "ExecuteTime": {
     "end_time": "2025-03-22T07:54:36.494069Z",
     "start_time": "2025-03-22T07:54:32.380155Z"
    }
   },
   "cell_type": "code",
   "source": [
    "probplot(muestra, dist='gamma', sparams=params_gamma, plot=plt)\n",
    "plt.title(\"Gráfico Q-Q para distribución gamma\")\n",
    "plt.show()"
   ],
   "id": "25225479c616dd3a",
   "outputs": [
    {
     "data": {
      "text/plain": [
       "<Figure size 640x480 with 1 Axes>"
      ],
      "image/png": "[encoded data removed]"
     },
     "metadata": {},
     "output_type": "display_data"
    }
   ],
   "execution_count": 358
  },
  {
   "metadata": {
    "ExecuteTime": {
     "end_time": "2025-03-22T07:04:14.666520Z",
     "start_time": "2025-03-22T07:04:14.170874Z"
    }
   },
   "cell_type": "code",
   "source": [
    "resultado = kstest(muestra, 'gamma', args=params_gamma)\n",
    "print(f\"Valor p: {resultado.pvalue}\")"
   ],
   "id": "16a55054ebb5dcb2",
   "outputs": [
    {
     "name": "stdout",
     "output_type": "stream",
     "text": [
      "Valor p: 0.0\n"
     ]
    }
   ],
   "execution_count": 292
  },
  {
   "metadata": {},
   "cell_type": "markdown",
   "source": "### Lognorm",
   "id": "31f3686fc9334999"
  },
  {
   "metadata": {
    "ExecuteTime": {
     "end_time": "2025-03-22T07:37:39.285699Z",
     "start_time": "2025-03-22T07:37:39.255334Z"
    }
   },
   "cell_type": "code",
   "source": [
    "params_lognorm = lognorm.fit(muestra, floc=0)\n",
    "print(params_lognorm)"
   ],
   "id": "d743667a2106767b",
   "outputs": [
    {
     "name": "stdout",
     "output_type": "stream",
     "text": [
      "(np.float64(2.065714393657877), 0, np.float64(0.0008239846631764641))\n"
     ]
    }
   ],
   "execution_count": 329
  },
  {
   "metadata": {
    "ExecuteTime": {
     "end_time": "2025-03-22T07:37:52.456978Z",
     "start_time": "2025-03-22T07:37:49.563437Z"
    }
   },
   "cell_type": "code",
   "source": [
    "probplot(muestra, dist='lognorm', sparams=params_lognorm, plot=plt)\n",
    "plt.title(\"Gráfico Q-Q para distribución lognorm\")\n",
    "plt.show()"
   ],
   "id": "4ca98013e6c0bd8b",
   "outputs": [
    {
     "data": {
      "text/plain": [
       "<Figure size 640x480 with 1 Axes>"
      ],
      "image/png": "[encoded data removed]"
     },
     "metadata": {},
     "output_type": "display_data"
    }
   ],
   "execution_count": 330
  },
  {
   "metadata": {
    "ExecuteTime": {
     "end_time": "2025-03-22T06:55:23.900027Z",
     "start_time": "2025-03-22T06:55:23.736233Z"
    }
   },
   "cell_type": "code",
   "source": [
    "resultado = kstest(muestra, 'pareto', args=params)\n",
    "print(f\"Valor p: {resultado.pvalue}\")"
   ],
   "id": "48c8c1629ef51cd1",
   "outputs": [
    {
     "name": "stdout",
     "output_type": "stream",
     "text": [
      "Valor p: 0.0\n"
     ]
    }
   ],
   "execution_count": 282
  },
  {
   "metadata": {},
   "cell_type": "markdown",
   "source": "### Pareto",
   "id": "a0297b0585a605c7"
  },
  {
   "metadata": {
    "ExecuteTime": {
     "end_time": "2025-03-22T07:40:43.957619Z",
     "start_time": "2025-03-22T07:40:43.927660Z"
    }
   },
   "cell_type": "code",
   "source": [
    "params_pareto = lognorm.fit(muestra, floc=0)\n",
    "print(params_pareto)"
   ],
   "id": "2f3a5abd1c4aa2d",
   "outputs": [
    {
     "name": "stdout",
     "output_type": "stream",
     "text": [
      "(np.float64(2.065714393657877), 0, np.float64(0.0008239846631764641))\n"
     ]
    }
   ],
   "execution_count": 331
  },
  {
   "metadata": {
    "ExecuteTime": {
     "end_time": "2025-03-22T07:41:12.788193Z",
     "start_time": "2025-03-22T07:41:10.022111Z"
    }
   },
   "cell_type": "code",
   "source": [
    "probplot(muestra, dist='pareto', sparams=params_pareto, plot=plt)\n",
    "plt.title(\"Gráfico Q-Q para distribución paretp\")\n",
    "plt.show()"
   ],
   "id": "c3032503116ef075",
   "outputs": [
    {
     "data": {
      "text/plain": [
       "<Figure size 640x480 with 1 Axes>"
      ],
      "image/png": "[encoded data removed]"
     },
     "metadata": {},
     "output_type": "display_data"
    }
   ],
   "execution_count": 332
  },
  {
   "metadata": {},
   "cell_type": "code",
   "outputs": [],
   "execution_count": null,
   "source": "",
   "id": "d98fcd2afecd12f"
  },
  {
   "metadata": {},
   "cell_type": "markdown",
   "source": "### Transformations and distributions",
   "id": "f7d4a35927762298"
  },
  {
   "metadata": {
    "ExecuteTime": {
     "end_time": "2025-03-22T08:34:24.493777Z",
     "start_time": "2025-03-22T08:26:59.935923Z"
    }
   },
   "cell_type": "code",
   "source": [
    "dfit = distfit()\n",
    "dfit.fit_transform(muestra)\n"
   ],
   "id": "f9f78e6c5ef7f7d0",
   "outputs": [
    {
     "name": "stderr",
     "output_type": "stream",
     "text": [
      "[distfit] >INFO> fit\n",
      "[distfit] >INFO> transform\n",
      "[distfit] >INFO> [norm      ] [0.01 sec] [RSS: 8.71007e+06] [loc=0.003 scale=0.007]\n",
      "[distfit] >INFO> [expon     ] [0.00 sec] [RSS: 6.71723e+06] [loc=0.000 scale=0.003]\n",
      "[distfit] >INFO> [pareto    ] [1.30 sec] [RSS: 5.05259e+06] [loc=-0.001 scale=0.001]\n",
      "[distfit] >INFO> [dweibull  ] [62.2 sec] [RSS: 2.69503e+06] [loc=0.000 scale=0.002]\n",
      "[distfit] >INFO> [t         ] [150. sec] [RSS: 7.57967e+06] [loc=0.001 scale=0.001]\n",
      "[distfit] >INFO> [genextreme] [96.8 sec] [RSS: 2.63885e+06] [loc=0.000 scale=0.001]\n",
      "[distfit] >INFO> [gamma     ] [31.6 sec] [RSS: 6.19542e+06] [loc=0.000 scale=1.262]\n",
      "[distfit] >INFO> [lognorm   ] [4.19 sec] [RSS: 2.36499e+06] [loc=0.000 scale=0.000]\n",
      "[distfit] >INFO> [beta      ] [72.3 sec] [RSS: 3.88041e+06] [loc=0.000 scale=0.760]\n",
      "[distfit] >INFO> [uniform   ] [0.00 sec] [RSS: 9.67418e+06] [loc=0.000 scale=0.404]\n",
      "[distfit] >INFO> [loggamma  ] [24.9 sec] [RSS: 8.79912e+06] [loc=-1.637 scale=0.241]\n",
      "[distfit] >INFO> [norm      ] [444. sec] [RSS: 8.71007e+06] [loc=0.003 scale=0.007]\n",
      "[distfit] >INFO> [expon     ] [444. sec] [RSS: 6.71723e+06] [loc=0.000 scale=0.003]\n",
      "[distfit] >INFO> [pareto    ] [444. sec] [RSS: 5.05259e+06] [loc=-0.001 scale=0.001]\n",
      "[distfit] >INFO> [dweibull  ] [443. sec] [RSS: 2.69503e+06] [loc=0.000 scale=0.002]\n",
      "[distfit] >INFO> [t         ] [380. sec] [RSS: 7.57967e+06] [loc=0.001 scale=0.001]\n",
      "[distfit] >INFO> [genextreme] [230. sec] [RSS: 2.63885e+06] [loc=0.000 scale=0.001]\n",
      "[distfit] >INFO> [gamma     ] [133. sec] [RSS: 6.19542e+06] [loc=0.000 scale=1.262]\n",
      "[distfit] >INFO> [lognorm   ] [101. sec] [RSS: 2.36499e+06] [loc=0.000 scale=0.000]\n",
      "[distfit] >INFO> [beta      ] [97.3 sec] [RSS: 3.88041e+06] [loc=0.000 scale=0.760]\n",
      "[distfit] >INFO> [uniform   ] [25.0 sec] [RSS: 9.67418e+06] [loc=0.000 scale=0.404]\n",
      "[distfit] >INFO> [loggamma  ] [25.0 sec] [RSS: 8.79912e+06] [loc=-1.637 scale=0.241]\n",
      "[distfit] >INFO> Compute confidence intervals [parametric]\n"
     ]
    },
    {
     "name": "stdout",
     "output_type": "stream",
     "text": [
      "<distfit.distfit.distfit object at 0x000001C6566D5310>\n"
     ]
    }
   ],
   "execution_count": 438
  },
  {
   "metadata": {
    "ExecuteTime": {
     "end_time": "2025-03-22T08:35:58.617497Z",
     "start_time": "2025-03-22T08:35:58.612399Z"
    }
   },
   "cell_type": "code",
   "source": "print(dfit.model)",
   "id": "8bc829a9e04364bd",
   "outputs": [
    {
     "name": "stdout",
     "output_type": "stream",
     "text": [
      "{'name': 'lognorm', 'score': 2364991.731905962, 'loc': 1.1574074073983363e-05, 'scale': 0.00021268554982929188, 'arg': (np.float64(6.895064783706321),), 'params': (np.float64(6.895064783706321), np.float64(1.1574074073983363e-05), np.float64(0.00021268554982929188)), 'model': <scipy.stats._distn_infrastructure.rv_continuous_frozen object at 0x000001C65668F460>, 'bootstrap_score': 0, 'bootstrap_pass': None, 'color': '#e41a1c', 'CII_min_alpha': np.float64(1.157659896460714e-05), 'CII_max_alpha': np.float64(17.915695794296337)}\n"
     ]
    }
   ],
   "execution_count": 442
  },
  {
   "metadata": {
    "ExecuteTime": {
     "end_time": "2025-03-22T08:23:43.484202Z",
     "start_time": "2025-03-22T08:23:32.885731Z"
    }
   },
   "cell_type": "code",
   "source": "dfit.plot()",
   "id": "f2de4f80176026fd",
   "outputs": [
    {
     "name": "stderr",
     "output_type": "stream",
     "text": [
      "[distfit] >INFO> Create pdf plot for the parametric method.\n",
      "[distfit] >INFO> Estimated distribution: Lognorm(loc:0.000012, scale:0.000213)\n"
     ]
    },
    {
     "data": {
      "text/plain": [
       "(<Figure size 2000x1500 with 1 Axes>,\n",
       " <Axes: title={'center': '\\nlognorm(s=6.89506, loc=1.15741e-05, scale=0.000212686)'}, xlabel='Values', ylabel='Frequency'>)"
      ]
     },
     "execution_count": 436,
     "metadata": {},
     "output_type": "execute_result"
    },
    {
     "data": {
      "text/plain": [
       "<Figure size 2000x1500 with 1 Axes>"
      ],
      "image/png": "[encoded data removed]"
     },
     "metadata": {},
     "output_type": "display_data"
    }
   ],
   "execution_count": 436
  },
  {
   "metadata": {
    "ExecuteTime": {
     "end_time": "2025-03-22T08:38:09.407386Z",
     "start_time": "2025-03-22T08:38:05.302829Z"
    }
   },
   "cell_type": "code",
   "source": [
    "probplot(muestra, dist='lognorm', sparams=dfit.model['params'], plot=plt)\n",
    "plt.title(\"Gráfico Q-Q para distribución lognorm\")\n",
    "plt.show()"
   ],
   "id": "8214cf6b6738bd3e",
   "outputs": [
    {
     "data": {
      "text/plain": [
       "<Figure size 640x480 with 1 Axes>"
      ],
      "image/png": "[encoded data removed]"
     },
     "metadata": {},
     "output_type": "display_data"
    }
   ],
   "execution_count": 445
  },
  {
   "metadata": {},
   "cell_type": "markdown",
   "source": "Comentario: no se encontro una distribución que se ajuste correctamente a los datos.",
   "id": "67823057bca073c9"
  },
  {
   "metadata": {},
   "cell_type": "markdown",
   "source": "Intentemos aproximar la distribución por medio de normales",
   "id": "8fea2df59f80232b"
  }
 ],
 "metadata": {
  "kernelspec": {
   "display_name": "Python 3",
   "language": "python",
   "name": "python3"
  },
  "language_info": {
   "codemirror_mode": {
    "name": "ipython",
    "version": 2
   },
   "file_extension": ".py",
   "mimetype": "text/x-python",
   "name": "python",
   "nbconvert_exporter": "python",
   "pygments_lexer": "ipython2",
   "version": "2.7.6"
  }
 },
 "nbformat": 4,
 "nbformat_minor": 5
}
