{
 "cells": [
  {
   "metadata": {},
   "cell_type": "markdown",
   "source": "# Reto Coppel\n",
   "id": "492edb0b3322d582"
  },
  {
   "metadata": {},
   "cell_type": "markdown",
   "source": "## Importación de librerías",
   "id": "2aa4734f37fbc135"
  },
  {
   "metadata": {
    "collapsed": true,
    "ExecuteTime": {
     "end_time": "2025-03-17T04:28:26.804667Z",
     "start_time": "2025-03-17T04:28:26.797513Z"
    }
   },
   "cell_type": "code",
   "source": [
    "from pyspark.sql import SparkSession\n",
    "from pyspark.sql.functions import (col, lit,\n",
    "                                   isnan, when, count, sum, countDistinct,\n",
    "                                   year, month, day, dayofweek,\n",
    "                                   lower)\n",
    "import pandas as pd\n",
    "import numpy as np\n",
    "import matplotlib.pyplot as plt\n",
    "from scipy.stats import chi2"
   ],
   "id": "initial_id",
   "outputs": [],
   "execution_count": 80
  },
  {
   "metadata": {},
   "cell_type": "markdown",
   "source": "## Conexión al servidor",
   "id": "babed1c6b5fc940e"
  },
  {
   "metadata": {
    "ExecuteTime": {
     "end_time": "2025-03-17T03:28:28.050334Z",
     "start_time": "2025-03-17T03:28:28.028236Z"
    }
   },
   "cell_type": "code",
   "source": "spark = SparkSession.builder.master(\"local[*]\").getOrCreate()",
   "id": "6989b015c73ff8f4",
   "outputs": [],
   "execution_count": 31
  },
  {
   "metadata": {},
   "cell_type": "markdown",
   "source": "## Carga de datos",
   "id": "faf0c8c5a77b1dd"
  },
  {
   "metadata": {
    "ExecuteTime": {
     "end_time": "2025-03-17T03:28:54.288593Z",
     "start_time": "2025-03-17T03:28:28.416627Z"
    }
   },
   "cell_type": "code",
   "source": [
    "df = spark.read.csv(\"../dataset.csv\", header=True, inferSchema=True)\n",
    "for col_name in df.columns:\n",
    "    df = df.withColumnRenamed(col_name, col_name.capitalize())"
   ],
   "id": "9cc70be7fe924906",
   "outputs": [],
   "execution_count": 32
  },
  {
   "metadata": {},
   "cell_type": "markdown",
   "source": "## Inspección",
   "id": "c45283892b736ae9"
  },
  {
   "metadata": {
    "ExecuteTime": {
     "end_time": "2025-03-17T03:28:54.535334Z",
     "start_time": "2025-03-17T03:28:54.301563Z"
    }
   },
   "cell_type": "code",
   "source": "df.show(5)",
   "id": "ae58f1cac9a00797",
   "outputs": [
    {
     "name": "stdout",
     "output_type": "stream",
     "text": [
      "+------+----------+--------+------------------+------------------+------------------+------+--------+--------+----------------+\n",
      "|   _c0|     Fecha|Segmento|      Hora_llegada|      Hora_llamado|       Hora_salida|  Caja|  Tienda|  Status|          Estado|\n",
      "+------+----------+--------+------------------+------------------+------------------+------+--------+--------+----------------+\n",
      "|821243|2023-01-01|  retail|0.5034652777777778|0.5034768518518519|0.5035810185185186|caja_a|Tienda_A|Atendido|Ciudad de México|\n",
      "|821244|2023-01-01|  retail|0.5035810185185186|0.5036157407407408|0.5111736111111111|caja_a|Tienda_A|Atendido|Ciudad de México|\n",
      "|821245|2023-01-01|  retail|0.5037893518518518| 0.503800925925926|0.5051203703703704|caja_b|Tienda_A|Atendido|Ciudad de México|\n",
      "|821246|2023-01-01|  retail|0.5038472222222222|0.5051319444444444|0.5093333333333333|caja_b|Tienda_A|Atendido|Ciudad de México|\n",
      "|821247|2023-01-01|  retail|0.5038935185185185|0.5080717592592593|0.5099814814814815|caja_c|Tienda_A|Atendido|Ciudad de México|\n",
      "+------+----------+--------+------------------+------------------+------------------+------+--------+--------+----------------+\n",
      "only showing top 5 rows\n",
      "\n"
     ]
    }
   ],
   "execution_count": 33
  },
  {
   "metadata": {
    "ExecuteTime": {
     "end_time": "2025-03-17T03:28:58.641241Z",
     "start_time": "2025-03-17T03:28:54.568705Z"
    }
   },
   "cell_type": "code",
   "source": "print((df.count(), len(df.columns)))",
   "id": "bd308fe254c6943a",
   "outputs": [
    {
     "name": "stdout",
     "output_type": "stream",
     "text": [
      "(18510772, 10)\n"
     ]
    }
   ],
   "execution_count": 34
  },
  {
   "metadata": {},
   "cell_type": "markdown",
   "source": "### Tipos de datos",
   "id": "19d2fe860762a780"
  },
  {
   "metadata": {
    "ExecuteTime": {
     "end_time": "2025-03-17T03:28:58.681943Z",
     "start_time": "2025-03-17T03:28:58.674260Z"
    }
   },
   "cell_type": "code",
   "source": "df.printSchema()",
   "id": "f29f0bd9c4581521",
   "outputs": [
    {
     "name": "stdout",
     "output_type": "stream",
     "text": [
      "root\n",
      " |-- _c0: integer (nullable = true)\n",
      " |-- Fecha: date (nullable = true)\n",
      " |-- Segmento: string (nullable = true)\n",
      " |-- Hora_llegada: double (nullable = true)\n",
      " |-- Hora_llamado: double (nullable = true)\n",
      " |-- Hora_salida: double (nullable = true)\n",
      " |-- Caja: string (nullable = true)\n",
      " |-- Tienda: string (nullable = true)\n",
      " |-- Status: string (nullable = true)\n",
      " |-- Estado: string (nullable = true)\n",
      "\n"
     ]
    }
   ],
   "execution_count": 35
  },
  {
   "metadata": {},
   "cell_type": "markdown",
   "source": "El tipo de dato de cada atributo corresponde a la naturaleza del atributo.",
   "id": "6cfecebba57f96f8"
  },
  {
   "metadata": {},
   "cell_type": "markdown",
   "source": "### Valores nulos",
   "id": "d6b2a4ecdf882234"
  },
  {
   "metadata": {
    "ExecuteTime": {
     "end_time": "2025-03-17T03:29:23.043752Z",
     "start_time": "2025-03-17T03:28:58.729897Z"
    }
   },
   "cell_type": "code",
   "source": "df.agg(*[sum(col(column).isNull().cast(\"int\")).alias(column) for column in df.columns]).show()",
   "id": "74b0212d6209e1e2",
   "outputs": [
    {
     "name": "stdout",
     "output_type": "stream",
     "text": [
      "+---+-----+--------+------------+------------+-----------+----+------+------+------+\n",
      "|_c0|Fecha|Segmento|Hora_llegada|Hora_llamado|Hora_salida|Caja|Tienda|Status|Estado|\n",
      "+---+-----+--------+------------+------------+-----------+----+------+------+------+\n",
      "|  0|    0|       0|           0|           0|          0|   0|     0|     0|     0|\n",
      "+---+-----+--------+------------+------------+-----------+----+------+------+------+\n",
      "\n"
     ]
    }
   ],
   "execution_count": 36
  },
  {
   "metadata": {},
   "cell_type": "markdown",
   "source": "No hay valores nulos.",
   "id": "43fab0601a33cdf1"
  },
  {
   "metadata": {},
   "cell_type": "markdown",
   "source": "### Valores únicos",
   "id": "fe40d281d73d304d"
  },
  {
   "metadata": {
    "ExecuteTime": {
     "end_time": "2025-03-17T03:29:37.503859Z",
     "start_time": "2025-03-17T03:29:23.080809Z"
    }
   },
   "cell_type": "code",
   "source": "df.select(col(\"Segmento\")).distinct().show()",
   "id": "351683f0929b5901",
   "outputs": [
    {
     "name": "stdout",
     "output_type": "stream",
     "text": [
      "+----------+\n",
      "|  Segmento|\n",
      "+----------+\n",
      "|     banco|\n",
      "|    retail|\n",
      "|afiliacion|\n",
      "+----------+\n",
      "\n"
     ]
    }
   ],
   "execution_count": 37
  },
  {
   "metadata": {},
   "cell_type": "markdown",
   "source": [
    "Hay tres tipos de segmento que corresponden a los siguientes tipos: \\\n",
    "Banco: Bancoppel \\\n",
    "Retail: Coppel \\\n",
    "Afiliación: Promotoría"
   ],
   "id": "f888559d390eb08"
  },
  {
   "metadata": {
    "ExecuteTime": {
     "end_time": "2025-03-17T03:29:53.899250Z",
     "start_time": "2025-03-17T03:29:37.542254Z"
    }
   },
   "cell_type": "code",
   "source": "df.select(col(\"Caja\")).distinct().show(df.count())",
   "id": "e07879d086ec79ac",
   "outputs": [
    {
     "name": "stdout",
     "output_type": "stream",
     "text": [
      "+------------+\n",
      "|        Caja|\n",
      "+------------+\n",
      "|      caja_j|\n",
      "|         p_d|\n",
      "|      caja_p|\n",
      "|      caja_f|\n",
      "|         p_h|\n",
      "|      caja_l|\n",
      "|ventanilla_c|\n",
      "|ventanilla_g|\n",
      "|         p_l|\n",
      "|      caja_q|\n",
      "|         p_p|\n",
      "|         p_m|\n",
      "|      caja_n|\n",
      "|         p_k|\n",
      "|      caja_i|\n",
      "|         p_e|\n",
      "|      caja_b|\n",
      "|         p_g|\n",
      "|         p_b|\n",
      "|ventanilla_b|\n",
      "|         p_f|\n",
      "|         p_a|\n",
      "|ventanilla_a|\n",
      "|         p_o|\n",
      "|      caja_d|\n",
      "|      caja_e|\n",
      "|ventanilla_e|\n",
      "|         p_j|\n",
      "|      caja_k|\n",
      "|         p_n|\n",
      "|      caja_a|\n",
      "|         p_c|\n",
      "|      caja_m|\n",
      "|      caja_o|\n",
      "|      caja_h|\n",
      "|ventanilla_f|\n",
      "|      caja_c|\n",
      "|ventanilla_d|\n",
      "|         p_i|\n",
      "|         a_a|\n",
      "|         a_b|\n",
      "|         p_r|\n",
      "|         p_q|\n",
      "|      caja_r|\n",
      "|      caja_t|\n",
      "|         p_s|\n",
      "|      caja_s|\n",
      "|ventanilla_i|\n",
      "|ventanilla_n|\n",
      "|ventanilla_m|\n",
      "|         p_v|\n",
      "|         p_y|\n",
      "|ventanilla_l|\n",
      "|      Caja_d|\n",
      "|      caja_v|\n",
      "|         p_u|\n",
      "|      Caja_f|\n",
      "|      Caja_b|\n",
      "|         p_z|\n",
      "|         P_a|\n",
      "|         p_t|\n",
      "|ventanilla_h|\n",
      "|ventanilla_o|\n",
      "|      Caja_e|\n",
      "|      Caja_a|\n",
      "|      caja_u|\n",
      "|ventanilla_k|\n",
      "|ventanilla_j|\n",
      "|         P_b|\n",
      "|ventanilla_p|\n",
      "|      Caja_c|\n",
      "|ventanilla_q|\n",
      "|ventanilla_r|\n",
      "|ventanilla_s|\n",
      "|         P_c|\n",
      "|      caja_x|\n",
      "|         P_d|\n",
      "+------------+\n",
      "\n"
     ]
    }
   ],
   "execution_count": 38
  },
  {
   "metadata": {},
   "cell_type": "markdown",
   "source": "Se tienen 77 cajas distintas que se dividen en tres tipos: caja, ventanilla, p. Hay errores de etiquetado.",
   "id": "3af3d0b0ed8d1082"
  },
  {
   "metadata": {
    "ExecuteTime": {
     "end_time": "2025-03-17T03:30:12.955266Z",
     "start_time": "2025-03-17T03:29:53.927181Z"
    }
   },
   "cell_type": "code",
   "source": "df.groupBy([\"Segmento\", \"Caja\"]).agg(countDistinct(\"Caja\").alias(\"Cajas_distintas\")).show(df.count())",
   "id": "d8d96a89d249738d",
   "outputs": [
    {
     "name": "stdout",
     "output_type": "stream",
     "text": [
      "+----------+------------+---------------+\n",
      "|  Segmento|        Caja|Cajas_distintas|\n",
      "+----------+------------+---------------+\n",
      "|     banco|ventanilla_b|              1|\n",
      "|    retail|      caja_k|              1|\n",
      "|    retail|      caja_a|              1|\n",
      "|     banco|      caja_l|              1|\n",
      "|afiliacion|         p_a|              1|\n",
      "|     banco|      caja_k|              1|\n",
      "|     banco|         p_f|              1|\n",
      "|afiliacion|ventanilla_f|              1|\n",
      "|     banco|      caja_d|              1|\n",
      "|    retail|ventanilla_a|              1|\n",
      "|afiliacion|      caja_n|              1|\n",
      "|afiliacion|      caja_a|              1|\n",
      "|afiliacion|         p_o|              1|\n",
      "|    retail|      caja_d|              1|\n",
      "|afiliacion|         p_c|              1|\n",
      "|    retail|         p_k|              1|\n",
      "|     banco|      caja_b|              1|\n",
      "|    retail|      caja_i|              1|\n",
      "|     banco|      caja_o|              1|\n",
      "|afiliacion|      caja_h|              1|\n",
      "|     banco|         p_b|              1|\n",
      "|afiliacion|         p_e|              1|\n",
      "|     banco|      caja_p|              1|\n",
      "|     banco|         p_c|              1|\n",
      "|afiliacion|         p_j|              1|\n",
      "|    retail|      caja_h|              1|\n",
      "|    retail|         p_f|              1|\n",
      "|afiliacion|      caja_d|              1|\n",
      "|     banco|      caja_f|              1|\n",
      "|afiliacion|      caja_o|              1|\n",
      "|afiliacion|         p_n|              1|\n",
      "|    retail|         p_c|              1|\n",
      "|    retail|         p_m|              1|\n",
      "|     banco|      caja_e|              1|\n",
      "|     banco|ventanilla_g|              1|\n",
      "|afiliacion|         p_k|              1|\n",
      "|    retail|         p_e|              1|\n",
      "|     banco|      caja_c|              1|\n",
      "|     banco|         p_m|              1|\n",
      "|afiliacion|      caja_m|              1|\n",
      "|     banco|      caja_m|              1|\n",
      "|     banco|ventanilla_e|              1|\n",
      "|afiliacion|         p_l|              1|\n",
      "|    retail|      caja_f|              1|\n",
      "|afiliacion|      caja_b|              1|\n",
      "|     banco|      caja_j|              1|\n",
      "|     banco|         p_g|              1|\n",
      "|     banco|         p_a|              1|\n",
      "|     banco|         p_h|              1|\n",
      "|    retail|      caja_c|              1|\n",
      "|afiliacion|         p_p|              1|\n",
      "|     banco|         p_i|              1|\n",
      "|afiliacion|ventanilla_d|              1|\n",
      "|    retail|         p_h|              1|\n",
      "|    retail|      caja_b|              1|\n",
      "|    retail|         p_g|              1|\n",
      "|afiliacion|         p_d|              1|\n",
      "|    retail|      caja_n|              1|\n",
      "|    retail|      caja_e|              1|\n",
      "|afiliacion|         p_g|              1|\n",
      "|    retail|      caja_q|              1|\n",
      "|afiliacion|         p_h|              1|\n",
      "|     banco|         p_d|              1|\n",
      "|    retail|      caja_m|              1|\n",
      "|     banco|ventanilla_c|              1|\n",
      "|    retail|ventanilla_b|              1|\n",
      "|     banco|         p_e|              1|\n",
      "|    retail|      caja_p|              1|\n",
      "|     banco|      caja_n|              1|\n",
      "|    retail|      caja_o|              1|\n",
      "|afiliacion|      caja_e|              1|\n",
      "|     banco|         p_k|              1|\n",
      "|     banco|ventanilla_d|              1|\n",
      "|     banco|      caja_a|              1|\n",
      "|     banco|      caja_q|              1|\n",
      "|    retail|         p_i|              1|\n",
      "|afiliacion|ventanilla_c|              1|\n",
      "|     banco|      caja_i|              1|\n",
      "|     banco|ventanilla_a|              1|\n",
      "|    retail|ventanilla_d|              1|\n",
      "|afiliacion|         p_i|              1|\n",
      "|afiliacion|      caja_i|              1|\n",
      "|afiliacion|         p_f|              1|\n",
      "|afiliacion|ventanilla_e|              1|\n",
      "|    retail|         p_b|              1|\n",
      "|    retail|         p_a|              1|\n",
      "|afiliacion|ventanilla_b|              1|\n",
      "|afiliacion|      caja_f|              1|\n",
      "|    retail|         p_j|              1|\n",
      "|    retail|      caja_j|              1|\n",
      "|    retail|ventanilla_e|              1|\n",
      "|afiliacion|         p_b|              1|\n",
      "|afiliacion|         p_m|              1|\n",
      "|afiliacion|ventanilla_a|              1|\n",
      "|    retail|         p_d|              1|\n",
      "|     banco|ventanilla_f|              1|\n",
      "|    retail|ventanilla_f|              1|\n",
      "|    retail|      caja_l|              1|\n",
      "|afiliacion|      caja_c|              1|\n",
      "|afiliacion|      caja_j|              1|\n",
      "|    retail|ventanilla_c|              1|\n",
      "|     banco|      caja_h|              1|\n",
      "|     banco|         a_b|              1|\n",
      "|    retail|ventanilla_g|              1|\n",
      "|     banco|         a_a|              1|\n",
      "|    retail|         p_n|              1|\n",
      "|     banco|         p_j|              1|\n",
      "|afiliacion|      caja_k|              1|\n",
      "|afiliacion|         p_q|              1|\n",
      "|afiliacion|         p_r|              1|\n",
      "|     banco|      caja_s|              1|\n",
      "|    retail|      caja_r|              1|\n",
      "|     banco|      caja_r|              1|\n",
      "|afiliacion|      caja_q|              1|\n",
      "|afiliacion|         p_s|              1|\n",
      "|    retail|      caja_s|              1|\n",
      "|    retail|      caja_t|              1|\n",
      "|     banco|      Caja_b|              1|\n",
      "|    retail|ventanilla_l|              1|\n",
      "|    retail|      Caja_b|              1|\n",
      "|    retail|ventanilla_o|              1|\n",
      "|    retail|ventanilla_k|              1|\n",
      "|     banco|      caja_u|              1|\n",
      "|    retail|         p_v|              1|\n",
      "|    retail|ventanilla_m|              1|\n",
      "|afiliacion|         p_v|              1|\n",
      "|     banco|         p_o|              1|\n",
      "|    retail|      Caja_a|              1|\n",
      "|     banco|         p_v|              1|\n",
      "|     banco|ventanilla_h|              1|\n",
      "|    retail|      caja_v|              1|\n",
      "|    retail|         p_o|              1|\n",
      "|afiliacion|         p_t|              1|\n",
      "|    retail|      Caja_c|              1|\n",
      "|afiliacion|         p_y|              1|\n",
      "|     banco|         p_t|              1|\n",
      "|afiliacion|         p_u|              1|\n",
      "|afiliacion|         P_a|              1|\n",
      "|    retail|      Caja_d|              1|\n",
      "|     banco|ventanilla_j|              1|\n",
      "|afiliacion|         P_b|              1|\n",
      "|     banco|      Caja_f|              1|\n",
      "|    retail|      Caja_f|              1|\n",
      "|     banco|ventanilla_m|              1|\n",
      "|    retail|ventanilla_p|              1|\n",
      "|    retail|         p_u|              1|\n",
      "|afiliacion|ventanilla_h|              1|\n",
      "|     banco|         p_n|              1|\n",
      "|     banco|ventanilla_i|              1|\n",
      "|     banco|ventanilla_p|              1|\n",
      "|     banco|      caja_v|              1|\n",
      "|     banco|         p_u|              1|\n",
      "|     banco|      Caja_d|              1|\n",
      "|     banco|ventanilla_k|              1|\n",
      "|     banco|ventanilla_l|              1|\n",
      "|    retail|      Caja_e|              1|\n",
      "|     banco|ventanilla_o|              1|\n",
      "|     banco|      Caja_a|              1|\n",
      "|     banco|ventanilla_q|              1|\n",
      "|afiliacion|         p_z|              1|\n",
      "|     banco|ventanilla_n|              1|\n",
      "|    retail|      caja_u|              1|\n",
      "|    retail|         p_t|              1|\n",
      "|     banco|      Caja_e|              1|\n",
      "|     banco|      Caja_c|              1|\n",
      "|    retail|ventanilla_n|              1|\n",
      "|     banco|         p_p|              1|\n",
      "|    retail|         p_s|              1|\n",
      "|    retail|ventanilla_j|              1|\n",
      "|     banco|      caja_t|              1|\n",
      "|     banco|         p_q|              1|\n",
      "|    retail|         p_q|              1|\n",
      "|afiliacion|ventanilla_o|              1|\n",
      "|     banco|ventanilla_r|              1|\n",
      "|    retail|ventanilla_i|              1|\n",
      "|     banco|         P_a|              1|\n",
      "|     banco|ventanilla_s|              1|\n",
      "|    retail|         p_p|              1|\n",
      "|afiliacion|ventanilla_l|              1|\n",
      "|    retail|ventanilla_s|              1|\n",
      "|    retail|ventanilla_h|              1|\n",
      "|afiliacion|         P_c|              1|\n",
      "|     banco|         p_z|              1|\n",
      "|afiliacion|ventanilla_r|              1|\n",
      "|afiliacion|ventanilla_j|              1|\n",
      "|     banco|         P_c|              1|\n",
      "|afiliacion|ventanilla_n|              1|\n",
      "|afiliacion|      caja_p|              1|\n",
      "|     banco|         p_r|              1|\n",
      "|     banco|         p_y|              1|\n",
      "|afiliacion|ventanilla_i|              1|\n",
      "|     banco|         P_b|              1|\n",
      "|     banco|         p_s|              1|\n",
      "|    retail|         p_y|              1|\n",
      "|    retail|         p_r|              1|\n",
      "|afiliacion|      caja_s|              1|\n",
      "|    retail|ventanilla_r|              1|\n",
      "|    retail|         P_b|              1|\n",
      "|    retail|      caja_x|              1|\n",
      "|    retail|         P_c|              1|\n",
      "|afiliacion|      caja_l|              1|\n",
      "|    retail|         p_z|              1|\n",
      "|    retail|         P_a|              1|\n",
      "|afiliacion|      caja_t|              1|\n",
      "|afiliacion|      caja_v|              1|\n",
      "|     banco|         p_l|              1|\n",
      "|afiliacion|      caja_r|              1|\n",
      "|    retail|         p_l|              1|\n",
      "|    retail|         a_a|              1|\n",
      "|afiliacion|      caja_u|              1|\n",
      "|afiliacion|         P_d|              1|\n",
      "+----------+------------+---------------+\n",
      "\n"
     ]
    }
   ],
   "execution_count": 39
  },
  {
   "metadata": {},
   "cell_type": "markdown",
   "source": "Cada segmento tiene diferentes cajas.",
   "id": "c54fc5548433e491"
  },
  {
   "metadata": {
    "ExecuteTime": {
     "end_time": "2025-03-17T03:30:26.865837Z",
     "start_time": "2025-03-17T03:30:12.974311Z"
    }
   },
   "cell_type": "code",
   "source": "df.groupBy(\"Segmento\").agg(countDistinct(\"Caja\").alias(\"Cajas_distintas\")).show()",
   "id": "1d91e49917aec73d",
   "outputs": [
    {
     "name": "stdout",
     "output_type": "stream",
     "text": [
      "+----------+---------------+\n",
      "|  Segmento|Cajas_distintas|\n",
      "+----------+---------------+\n",
      "|     banco|             75|\n",
      "|    retail|             74|\n",
      "|afiliacion|             62|\n",
      "+----------+---------------+\n",
      "\n"
     ]
    }
   ],
   "execution_count": 40
  },
  {
   "metadata": {
    "ExecuteTime": {
     "end_time": "2025-03-17T03:30:41.546050Z",
     "start_time": "2025-03-17T03:30:26.924432Z"
    }
   },
   "cell_type": "code",
   "source": "df.select(col(\"Tienda\")).distinct().show(df.count())",
   "id": "15ee3c656009ede6",
   "outputs": [
    {
     "name": "stdout",
     "output_type": "stream",
     "text": [
      "+---------+\n",
      "|   Tienda|\n",
      "+---------+\n",
      "| Tienda_G|\n",
      "|Tienda_AE|\n",
      "|Tienda_AI|\n",
      "|Tienda_AD|\n",
      "|Tienda_AH|\n",
      "| Tienda_M|\n",
      "| Tienda_U|\n",
      "| Tienda_L|\n",
      "|Tienda_AX|\n",
      "|Tienda_BD|\n",
      "|Tienda_AG|\n",
      "| Tienda_D|\n",
      "|Tienda_AB|\n",
      "|Tienda_AK|\n",
      "|Tienda_AF|\n",
      "|Tienda_AJ|\n",
      "|Tienda_AM|\n",
      "| Tienda_P|\n",
      "| Tienda_R|\n",
      "| Tienda_V|\n",
      "| Tienda_O|\n",
      "| Tienda_I|\n",
      "| Tienda_N|\n",
      "| Tienda_A|\n",
      "| Tienda_B|\n",
      "|Tienda_BB|\n",
      "|Tienda_AA|\n",
      "| Tienda_S|\n",
      "|Tienda_AN|\n",
      "|Tienda_AP|\n",
      "| Tienda_X|\n",
      "| Tienda_Z|\n",
      "| Tienda_E|\n",
      "|Tienda_AO|\n",
      "|Tienda_BE|\n",
      "|Tienda_AY|\n",
      "| Tienda_T|\n",
      "|Tienda_AC|\n",
      "|Tienda_BC|\n",
      "| Tienda_J|\n",
      "|Tienda_AL|\n",
      "| Tienda_Q|\n",
      "| Tienda_H|\n",
      "|Tienda_BA|\n",
      "|Tienda_AZ|\n",
      "| Tienda_Y|\n",
      "| Tienda_F|\n",
      "| Tienda_K|\n",
      "|Tienda_AQ|\n",
      "| Tienda_C|\n",
      "+---------+\n",
      "\n"
     ]
    }
   ],
   "execution_count": 41
  },
  {
   "metadata": {},
   "cell_type": "markdown",
   "source": "Se tienen 50 tiendas distintas.",
   "id": "dcd127afeea99872"
  },
  {
   "metadata": {
    "ExecuteTime": {
     "end_time": "2025-03-17T03:30:52.401851Z",
     "start_time": "2025-03-17T03:30:41.578652Z"
    }
   },
   "cell_type": "code",
   "source": "df.select(col(\"Status\")).distinct().show()",
   "id": "c8f3cd1dde55f380",
   "outputs": [
    {
     "name": "stdout",
     "output_type": "stream",
     "text": [
      "+--------+\n",
      "|  Status|\n",
      "+--------+\n",
      "| Ausente|\n",
      "|Atendido|\n",
      "+--------+\n",
      "\n"
     ]
    }
   ],
   "execution_count": 42
  },
  {
   "metadata": {
    "ExecuteTime": {
     "end_time": "2025-03-17T03:31:07.260387Z",
     "start_time": "2025-03-17T03:30:52.456711Z"
    }
   },
   "cell_type": "code",
   "source": "df.select(col(\"Estado\")).distinct().show(df.count())",
   "id": "567bec241dd85f37",
   "outputs": [
    {
     "name": "stdout",
     "output_type": "stream",
     "text": [
      "+--------------------+\n",
      "|              Estado|\n",
      "+--------------------+\n",
      "|    Ciudad de México|\n",
      "|             Sinaloa|\n",
      "| Michoacán de Ocampo|\n",
      "|             Durango|\n",
      "|            Guerrero|\n",
      "|             Chiapas|\n",
      "|          Guanajuato|\n",
      "|Coahuila de Zaragoza|\n",
      "|           Chihuahua|\n",
      "|             Morelos|\n",
      "|Veracruz de Ignac...|\n",
      "|             Yucatán|\n",
      "|             Tabasco|\n",
      "|              Oaxaca|\n",
      "| Baja California Sur|\n",
      "|              Puebla|\n",
      "|          Nuevo León|\n",
      "|           Zacatecas|\n",
      "|           Querétaro|\n",
      "|        Quintana Roo|\n",
      "|              Sonora|\n",
      "|              México|\n",
      "|     Baja California|\n",
      "+--------------------+\n",
      "\n"
     ]
    }
   ],
   "execution_count": 43
  },
  {
   "metadata": {},
   "cell_type": "markdown",
   "source": "Se incluyen solo 23 estados de la república.",
   "id": "7019d265935b3277"
  },
  {
   "metadata": {},
   "cell_type": "markdown",
   "source": "Hay errores de etiquetado en el atributo *Caja*.",
   "id": "b8b68bb73dff77e8"
  },
  {
   "metadata": {},
   "cell_type": "markdown",
   "source": "## Limpieza de datos",
   "id": "87114cfb1d6f9cba"
  },
  {
   "metadata": {},
   "cell_type": "markdown",
   "source": "### Errores de etiquetado",
   "id": "2c7ba21f5607fe15"
  },
  {
   "metadata": {},
   "cell_type": "markdown",
   "source": "Corrijamos errores de etiquetado, en este caso, cambiemos todos los valores del atributo *Caja* a minusculas para que no haya valores repetidos que se identifiquen como distintos por el uso de mayusculas.",
   "id": "865590be7233251e"
  },
  {
   "metadata": {
    "ExecuteTime": {
     "end_time": "2025-03-17T03:31:19.066952Z",
     "start_time": "2025-03-17T03:31:07.295634Z"
    }
   },
   "cell_type": "code",
   "source": [
    "df = df.withColumn(\"Caja\", lower(col(\"Caja\")))\n",
    "df.select(col(\"Caja\")).distinct().show()"
   ],
   "id": "83e3e64d5c36d643",
   "outputs": [
    {
     "name": "stdout",
     "output_type": "stream",
     "text": [
      "+------------+\n",
      "|        Caja|\n",
      "+------------+\n",
      "|      caja_j|\n",
      "|         p_d|\n",
      "|      caja_p|\n",
      "|      caja_f|\n",
      "|         p_h|\n",
      "|      caja_l|\n",
      "|ventanilla_c|\n",
      "|ventanilla_g|\n",
      "|         p_l|\n",
      "|      caja_q|\n",
      "|         p_p|\n",
      "|         p_m|\n",
      "|      caja_n|\n",
      "|         p_k|\n",
      "|      caja_i|\n",
      "|         p_e|\n",
      "|      caja_b|\n",
      "|         p_g|\n",
      "|         p_b|\n",
      "|ventanilla_b|\n",
      "+------------+\n",
      "only showing top 20 rows\n",
      "\n"
     ]
    }
   ],
   "execution_count": 44
  },
  {
   "metadata": {},
   "cell_type": "markdown",
   "source": "Cambios a minusculas los valores de los demas atributos para ser consistentes con los etiquetados.",
   "id": "35616b7504b17701"
  },
  {
   "metadata": {
    "ExecuteTime": {
     "end_time": "2025-03-17T03:38:32.226928Z",
     "start_time": "2025-03-17T03:38:04.199978Z"
    }
   },
   "cell_type": "code",
   "source": [
    "df = df.withColumn(\"Tienda\", lower(col(\"Tienda\")))\n",
    "df.select(col(\"Tienda\")).distinct().show()"
   ],
   "id": "7c949a24c2eb6546",
   "outputs": [
    {
     "name": "stdout",
     "output_type": "stream",
     "text": [
      "+---------+\n",
      "|   Tienda|\n",
      "+---------+\n",
      "|tienda_ax|\n",
      "|tienda_aq|\n",
      "|tienda_bb|\n",
      "|tienda_ac|\n",
      "| tienda_f|\n",
      "| tienda_g|\n",
      "|tienda_bc|\n",
      "| tienda_t|\n",
      "| tienda_v|\n",
      "| tienda_x|\n",
      "| tienda_z|\n",
      "|tienda_ah|\n",
      "| tienda_l|\n",
      "| tienda_n|\n",
      "|tienda_af|\n",
      "| tienda_m|\n",
      "| tienda_p|\n",
      "|tienda_ao|\n",
      "| tienda_a|\n",
      "|tienda_ak|\n",
      "+---------+\n",
      "only showing top 20 rows\n",
      "\n"
     ]
    }
   ],
   "execution_count": 54
  },
  {
   "metadata": {
    "ExecuteTime": {
     "end_time": "2025-03-17T03:39:03.380561Z",
     "start_time": "2025-03-17T03:38:44.317443Z"
    }
   },
   "cell_type": "code",
   "source": [
    "df = df.withColumn(\"Status\", lower(col(\"Status\")))\n",
    "df.select(col(\"Status\")).distinct().show()"
   ],
   "id": "ebe2e31636878b2b",
   "outputs": [
    {
     "name": "stdout",
     "output_type": "stream",
     "text": [
      "+--------+\n",
      "|  Status|\n",
      "+--------+\n",
      "|atendido|\n",
      "| ausente|\n",
      "+--------+\n",
      "\n"
     ]
    }
   ],
   "execution_count": 55
  },
  {
   "metadata": {},
   "cell_type": "markdown",
   "source": "### Ruido",
   "id": "654b33bd30057416"
  },
  {
   "metadata": {},
   "cell_type": "markdown",
   "source": "Eliminemos las observaciones donde la hora de llegada es mayor que la hora de llamado o salida y las observaciones donde su hora de llamado es mayor al horario de salida",
   "id": "f280ca7577421343"
  },
  {
   "metadata": {
    "ExecuteTime": {
     "end_time": "2025-03-17T03:31:34.092161Z",
     "start_time": "2025-03-17T03:31:19.106811Z"
    }
   },
   "cell_type": "code",
   "source": [
    "df = df.filter((col(\"Hora_llegada\") < col(\"Hora_llamado\")) &\n",
    "          (col(\"Hora_llegada\") < col(\"Hora_salida\")) &\n",
    "          (col(\"Hora_llamado\") < col(\"Hora_salida\")))\n",
    "print((df.count(), len(df.columns)))"
   ],
   "id": "9e42d5cafac0b617",
   "outputs": [
    {
     "name": "stdout",
     "output_type": "stream",
     "text": [
      "(18100185, 10)\n"
     ]
    }
   ],
   "execution_count": 45
  },
  {
   "metadata": {},
   "cell_type": "markdown",
   "source": "Se eliminaron 400,000 observaciones, aproximadamente.",
   "id": "4f2cfca27107195f"
  },
  {
   "metadata": {},
   "cell_type": "markdown",
   "source": "## Creación de nuevas columnas",
   "id": "4802cb160e6d3e91"
  },
  {
   "metadata": {},
   "cell_type": "markdown",
   "source": "Separemos el atributo compuesto *Fecha* en tres atributos: *Dia*, *Mes* y *Anio*.",
   "id": "fef8a932ecf5f8d4"
  },
  {
   "metadata": {
    "ExecuteTime": {
     "end_time": "2025-03-17T03:31:34.420965Z",
     "start_time": "2025-03-17T03:31:34.109635Z"
    }
   },
   "cell_type": "code",
   "source": [
    "df = df.withColumn(\"Anio\", year(col(\"Fecha\")))\n",
    "df = df.withColumn(\"Mes\", month(col(\"Fecha\")))\n",
    "df = df.withColumn(\"Dia\", day(col(\"Fecha\")))\n",
    "df.show(5)"
   ],
   "id": "e1fbefa67c8266d4",
   "outputs": [
    {
     "name": "stdout",
     "output_type": "stream",
     "text": [
      "+------+----------+--------+------------------+------------------+------------------+------+--------+--------+----------------+----+---+---+\n",
      "|   _c0|     Fecha|Segmento|      Hora_llegada|      Hora_llamado|       Hora_salida|  Caja|  Tienda|  Status|          Estado|Anio|Mes|Dia|\n",
      "+------+----------+--------+------------------+------------------+------------------+------+--------+--------+----------------+----+---+---+\n",
      "|821243|2023-01-01|  retail|0.5034652777777778|0.5034768518518519|0.5035810185185186|caja_a|Tienda_A|Atendido|Ciudad de México|2023|  1|  1|\n",
      "|821244|2023-01-01|  retail|0.5035810185185186|0.5036157407407408|0.5111736111111111|caja_a|Tienda_A|Atendido|Ciudad de México|2023|  1|  1|\n",
      "|821245|2023-01-01|  retail|0.5037893518518518| 0.503800925925926|0.5051203703703704|caja_b|Tienda_A|Atendido|Ciudad de México|2023|  1|  1|\n",
      "|821246|2023-01-01|  retail|0.5038472222222222|0.5051319444444444|0.5093333333333333|caja_b|Tienda_A|Atendido|Ciudad de México|2023|  1|  1|\n",
      "|821247|2023-01-01|  retail|0.5038935185185185|0.5080717592592593|0.5099814814814815|caja_c|Tienda_A|Atendido|Ciudad de México|2023|  1|  1|\n",
      "+------+----------+--------+------------------+------------------+------------------+------+--------+--------+----------------+----+---+---+\n",
      "only showing top 5 rows\n",
      "\n"
     ]
    }
   ],
   "execution_count": 46
  },
  {
   "metadata": {
    "ExecuteTime": {
     "end_time": "2025-03-17T03:31:54.913998Z",
     "start_time": "2025-03-17T03:31:34.484447Z"
    }
   },
   "cell_type": "code",
   "source": "df.select(col(\"Anio\")).distinct().show()",
   "id": "a6e2e9a93c12fed",
   "outputs": [
    {
     "name": "stdout",
     "output_type": "stream",
     "text": [
      "+----+\n",
      "|Anio|\n",
      "+----+\n",
      "|2023|\n",
      "|2024|\n",
      "+----+\n",
      "\n"
     ]
    }
   ],
   "execution_count": 47
  },
  {
   "metadata": {
    "ExecuteTime": {
     "end_time": "2025-03-17T03:32:14.338539Z",
     "start_time": "2025-03-17T03:31:54.947127Z"
    }
   },
   "cell_type": "code",
   "source": "df.select(col(\"Mes\")).distinct().show()",
   "id": "9a5b7c212e270a9e",
   "outputs": [
    {
     "name": "stdout",
     "output_type": "stream",
     "text": [
      "+---+\n",
      "|Mes|\n",
      "+---+\n",
      "|  1|\n",
      "|  2|\n",
      "|  3|\n",
      "|  4|\n",
      "|  5|\n",
      "|  6|\n",
      "|  7|\n",
      "|  8|\n",
      "|  9|\n",
      "| 10|\n",
      "| 11|\n",
      "| 12|\n",
      "+---+\n",
      "\n"
     ]
    }
   ],
   "execution_count": 48
  },
  {
   "metadata": {
    "ExecuteTime": {
     "end_time": "2025-03-17T03:32:33.459432Z",
     "start_time": "2025-03-17T03:32:14.347521Z"
    }
   },
   "cell_type": "code",
   "source": "df.select(col(\"Dia\")).distinct().orderBy(col(\"Dia\")).show(31)",
   "id": "fe5363c9c9920a57",
   "outputs": [
    {
     "name": "stdout",
     "output_type": "stream",
     "text": [
      "+---+\n",
      "|Dia|\n",
      "+---+\n",
      "|  1|\n",
      "|  2|\n",
      "|  3|\n",
      "|  4|\n",
      "|  5|\n",
      "|  6|\n",
      "|  7|\n",
      "|  8|\n",
      "|  9|\n",
      "| 10|\n",
      "| 11|\n",
      "| 12|\n",
      "| 13|\n",
      "| 14|\n",
      "| 15|\n",
      "| 16|\n",
      "| 17|\n",
      "| 18|\n",
      "| 19|\n",
      "| 20|\n",
      "| 21|\n",
      "| 22|\n",
      "| 23|\n",
      "| 24|\n",
      "| 25|\n",
      "| 26|\n",
      "| 27|\n",
      "| 28|\n",
      "| 29|\n",
      "| 30|\n",
      "| 31|\n",
      "+---+\n",
      "\n"
     ]
    }
   ],
   "execution_count": 49
  },
  {
   "metadata": {
    "ExecuteTime": {
     "end_time": "2025-03-17T03:32:33.698829Z",
     "start_time": "2025-03-17T03:32:33.491557Z"
    }
   },
   "cell_type": "code",
   "source": [
    "df = df.withColumn(\"Dia_semana\", dayofweek(col(\"Fecha\")))\n",
    "df.show(5)"
   ],
   "id": "5384677a37bef1fd",
   "outputs": [
    {
     "name": "stdout",
     "output_type": "stream",
     "text": [
      "+------+----------+--------+------------------+------------------+------------------+------+--------+--------+----------------+----+---+---+----------+\n",
      "|   _c0|     Fecha|Segmento|      Hora_llegada|      Hora_llamado|       Hora_salida|  Caja|  Tienda|  Status|          Estado|Anio|Mes|Dia|Dia_semana|\n",
      "+------+----------+--------+------------------+------------------+------------------+------+--------+--------+----------------+----+---+---+----------+\n",
      "|821243|2023-01-01|  retail|0.5034652777777778|0.5034768518518519|0.5035810185185186|caja_a|Tienda_A|Atendido|Ciudad de México|2023|  1|  1|         1|\n",
      "|821244|2023-01-01|  retail|0.5035810185185186|0.5036157407407408|0.5111736111111111|caja_a|Tienda_A|Atendido|Ciudad de México|2023|  1|  1|         1|\n",
      "|821245|2023-01-01|  retail|0.5037893518518518| 0.503800925925926|0.5051203703703704|caja_b|Tienda_A|Atendido|Ciudad de México|2023|  1|  1|         1|\n",
      "|821246|2023-01-01|  retail|0.5038472222222222|0.5051319444444444|0.5093333333333333|caja_b|Tienda_A|Atendido|Ciudad de México|2023|  1|  1|         1|\n",
      "|821247|2023-01-01|  retail|0.5038935185185185|0.5080717592592593|0.5099814814814815|caja_c|Tienda_A|Atendido|Ciudad de México|2023|  1|  1|         1|\n",
      "+------+----------+--------+------------------+------------------+------------------+------+--------+--------+----------------+----+---+---+----------+\n",
      "only showing top 5 rows\n",
      "\n"
     ]
    }
   ],
   "execution_count": 50
  },
  {
   "metadata": {
    "ExecuteTime": {
     "end_time": "2025-03-17T03:34:01.453480Z",
     "start_time": "2025-03-17T03:33:42.767168Z"
    }
   },
   "cell_type": "code",
   "source": "df.select(col(\"Dia_semana\")).distinct().orderBy(col(\"Dia_semana\")).show()",
   "id": "b0ae3139fa2177c9",
   "outputs": [
    {
     "name": "stdout",
     "output_type": "stream",
     "text": [
      "+----------+\n",
      "|Dia_semana|\n",
      "+----------+\n",
      "|         1|\n",
      "|         2|\n",
      "|         3|\n",
      "|         4|\n",
      "|         5|\n",
      "|         6|\n",
      "|         7|\n",
      "+----------+\n",
      "\n"
     ]
    }
   ],
   "execution_count": 53
  },
  {
   "metadata": {},
   "cell_type": "markdown",
   "source": "Creemos una nueva columna que sea la diferencia de los atributos *Hora_llamado* y *Hora_llegada* para su posterior análisis.",
   "id": "d380e3b8bf43e90f"
  },
  {
   "metadata": {
    "ExecuteTime": {
     "end_time": "2025-03-17T03:45:01.051971Z",
     "start_time": "2025-03-17T03:45:00.585969Z"
    }
   },
   "cell_type": "code",
   "source": [
    "df = df.withColumn(\"Tiempo_espera\", col(\"Hora_llamado\") - col(\"Hora_llegada\"))\n",
    "df.show(5)"
   ],
   "id": "d9734ef90f7b72dd",
   "outputs": [
    {
     "name": "stdout",
     "output_type": "stream",
     "text": [
      "+------+----------+--------+------------------+------------------+------------------+------+--------+--------+----------------+----+---+---+----------+--------------------+\n",
      "|   _c0|     Fecha|Segmento|      Hora_llegada|      Hora_llamado|       Hora_salida|  Caja|  Tienda|  Status|          Estado|Anio|Mes|Dia|Dia_semana|       Tiempo_espera|\n",
      "+------+----------+--------+------------------+------------------+------------------+------+--------+--------+----------------+----+---+---+----------+--------------------+\n",
      "|821243|2023-01-01|  retail|0.5034652777777778|0.5034768518518519|0.5035810185185186|caja_a|tienda_a|atendido|Ciudad de México|2023|  1|  1|         1|1.157407407403887...|\n",
      "|821244|2023-01-01|  retail|0.5035810185185186|0.5036157407407408|0.5111736111111111|caja_a|tienda_a|atendido|Ciudad de México|2023|  1|  1|         1|3.472222222222765E-5|\n",
      "|821245|2023-01-01|  retail|0.5037893518518518| 0.503800925925926|0.5051203703703704|caja_b|tienda_a|atendido|Ciudad de México|2023|  1|  1|         1|1.157407407414989...|\n",
      "|821246|2023-01-01|  retail|0.5038472222222222|0.5051319444444444|0.5093333333333333|caja_b|tienda_a|atendido|Ciudad de México|2023|  1|  1|         1|0.001284722222222201|\n",
      "|821247|2023-01-01|  retail|0.5038935185185185|0.5080717592592593|0.5099814814814815|caja_c|tienda_a|atendido|Ciudad de México|2023|  1|  1|         1|0.004178240740740802|\n",
      "+------+----------+--------+------------------+------------------+------------------+------+--------+--------+----------------+----+---+---+----------+--------------------+\n",
      "only showing top 5 rows\n",
      "\n"
     ]
    }
   ],
   "execution_count": 57
  },
  {
   "metadata": {},
   "cell_type": "markdown",
   "source": "## Análisis exploratorio de datos",
   "id": "5178d5ffde82f31"
  },
  {
   "metadata": {},
   "cell_type": "markdown",
   "source": "Tomemos una muestra estratificada por mes para asegurarnos que incluya observaciones de cada mes. La muestra es necesaria para la eficiencia computacional.",
   "id": "59dbde547d086b2"
  },
  {
   "metadata": {
    "ExecuteTime": {
     "end_time": "2025-03-17T04:52:22.353058Z",
     "start_time": "2025-03-17T04:51:53.119698Z"
    }
   },
   "cell_type": "code",
   "source": [
    "muestra = df.sampleBy(col(\"Mes\"),\n",
    "            fractions={1: 0.01, 2: 0.01, 3: 0.01, 4: 0.01, 5: 0.01, 6: 0.01,\n",
    "                       7: 0.01, 8: 0.01, 9: 0.01, 10: 0.01, 11: 0.01, 12: 0.01},\n",
    "            seed=42).toPandas()\n",
    "print(muestra.shape)"
   ],
   "id": "6d7ed9dfa2f595e6",
   "outputs": [
    {
     "name": "stdout",
     "output_type": "stream",
     "text": [
      "(181601, 15)\n"
     ]
    }
   ],
   "execution_count": 95
  },
  {
   "metadata": {},
   "cell_type": "markdown",
   "source": "### Clientes por mes",
   "id": "eb56fffcd610b06d"
  },
  {
   "metadata": {},
   "cell_type": "markdown",
   "source": "**Descripción numérica**",
   "id": "740c718041ec85ff"
  },
  {
   "metadata": {
    "ExecuteTime": {
     "end_time": "2025-03-17T05:34:00.310879Z",
     "start_time": "2025-03-17T05:33:40.253352Z"
    }
   },
   "cell_type": "code",
   "source": [
    "clientes_por_mes = df.groupby(\"Mes\").count().withColumnRenamed(\"count\", \"Clientes\").toPandas()\n",
    "clientes_por_mes.head(12)"
   ],
   "id": "22915651c06fc988",
   "outputs": [
    {
     "data": {
      "text/plain": [
       "    Mes  Clientes\n",
       "0     1   2302042\n",
       "1     2   1095886\n",
       "2     3   1355283\n",
       "3     4   1280674\n",
       "4     5   1500560\n",
       "5     6   1483479\n",
       "6     7   1604371\n",
       "7     8   1538614\n",
       "8     9   1501441\n",
       "9    10   1454802\n",
       "10   11   1427802\n",
       "11   12   1555231"
      ],
      "text/html": [
       "<div>\n",
       "<style scoped>\n",
       "    .dataframe tbody tr th:only-of-type {\n",
       "        vertical-align: middle;\n",
       "    }\n",
       "\n",
       "    .dataframe tbody tr th {\n",
       "        vertical-align: top;\n",
       "    }\n",
       "\n",
       "    .dataframe thead th {\n",
       "        text-align: right;\n",
       "    }\n",
       "</style>\n",
       "<table border=\"1\" class=\"dataframe\">\n",
       "  <thead>\n",
       "    <tr style=\"text-align: right;\">\n",
       "      <th></th>\n",
       "      <th>Mes</th>\n",
       "      <th>Clientes</th>\n",
       "    </tr>\n",
       "  </thead>\n",
       "  <tbody>\n",
       "    <tr>\n",
       "      <th>0</th>\n",
       "      <td>1</td>\n",
       "      <td>2302042</td>\n",
       "    </tr>\n",
       "    <tr>\n",
       "      <th>1</th>\n",
       "      <td>2</td>\n",
       "      <td>1095886</td>\n",
       "    </tr>\n",
       "    <tr>\n",
       "      <th>2</th>\n",
       "      <td>3</td>\n",
       "      <td>1355283</td>\n",
       "    </tr>\n",
       "    <tr>\n",
       "      <th>3</th>\n",
       "      <td>4</td>\n",
       "      <td>1280674</td>\n",
       "    </tr>\n",
       "    <tr>\n",
       "      <th>4</th>\n",
       "      <td>5</td>\n",
       "      <td>1500560</td>\n",
       "    </tr>\n",
       "    <tr>\n",
       "      <th>5</th>\n",
       "      <td>6</td>\n",
       "      <td>1483479</td>\n",
       "    </tr>\n",
       "    <tr>\n",
       "      <th>6</th>\n",
       "      <td>7</td>\n",
       "      <td>1604371</td>\n",
       "    </tr>\n",
       "    <tr>\n",
       "      <th>7</th>\n",
       "      <td>8</td>\n",
       "      <td>1538614</td>\n",
       "    </tr>\n",
       "    <tr>\n",
       "      <th>8</th>\n",
       "      <td>9</td>\n",
       "      <td>1501441</td>\n",
       "    </tr>\n",
       "    <tr>\n",
       "      <th>9</th>\n",
       "      <td>10</td>\n",
       "      <td>1454802</td>\n",
       "    </tr>\n",
       "    <tr>\n",
       "      <th>10</th>\n",
       "      <td>11</td>\n",
       "      <td>1427802</td>\n",
       "    </tr>\n",
       "    <tr>\n",
       "      <th>11</th>\n",
       "      <td>12</td>\n",
       "      <td>1555231</td>\n",
       "    </tr>\n",
       "  </tbody>\n",
       "</table>\n",
       "</div>"
      ]
     },
     "execution_count": 141,
     "metadata": {},
     "output_type": "execute_result"
    }
   ],
   "execution_count": 141
  },
  {
   "metadata": {},
   "cell_type": "markdown",
   "source": "**Descripción gráfica**",
   "id": "d569125c3a1212dc"
  },
  {
   "metadata": {
    "ExecuteTime": {
     "end_time": "2025-03-17T05:34:08.052298Z",
     "start_time": "2025-03-17T05:34:07.918600Z"
    }
   },
   "cell_type": "code",
   "source": [
    "plt.bar(clientes_por_mes.Mes, clientes_por_mes.Clientes)\n",
    "plt.show()"
   ],
   "id": "db65de30d8182e1",
   "outputs": [
    {
     "data": {
      "text/plain": [
       "<Figure size 640x480 with 1 Axes>"
      ],
      "image/png": "[encoded data removed]"
     },
     "metadata": {},
     "output_type": "display_data"
    }
   ],
   "execution_count": 142
  },
  {
   "metadata": {},
   "cell_type": "markdown",
   "source": "Podemos observar que el mes en el que entran más clientes es enero, le sigue julio y diciembre.",
   "id": "bd7ab11096f701c5"
  },
  {
   "metadata": {},
   "cell_type": "markdown",
   "source": "### Clientes atendidos y ausentes por mes",
   "id": "1437d9d53a966afa"
  },
  {
   "metadata": {},
   "cell_type": "markdown",
   "source": "**Descripción numérica**",
   "id": "b0e4d6ddb9198f4c"
  },
  {
   "metadata": {
    "ExecuteTime": {
     "end_time": "2025-03-17T05:56:18.158299Z",
     "start_time": "2025-03-17T05:55:57.504158Z"
    }
   },
   "cell_type": "code",
   "source": [
    "ausentes_por_mes = df.groupby([\"Mes\", \"Status\"]).count().withColumnRenamed(\"count\", \"Clientes\").toPandas()\n",
    "ausentes_por_mes.head(24)"
   ],
   "id": "eab552c247c541bf",
   "outputs": [
    {
     "data": {
      "text/plain": [
       "    Mes    Status  Clientes\n",
       "0     2   ausente     67151\n",
       "1     2  atendido   1028735\n",
       "2     1   ausente    148615\n",
       "3     1  atendido   2153427\n",
       "4     3  atendido   1268685\n",
       "5     3   ausente     86598\n",
       "6     4   ausente     79974\n",
       "7     4  atendido   1200700\n",
       "8     5   ausente     98806\n",
       "9     5  atendido   1401754\n",
       "10    6  atendido   1372863\n",
       "11    6   ausente    110616\n",
       "12    7   ausente    125435\n",
       "13    7  atendido   1478936\n",
       "14    8  atendido   1425062\n",
       "15    8   ausente    113552\n",
       "16    9  atendido   1388327\n",
       "17    9   ausente    113114\n",
       "18   10  atendido   1339100\n",
       "19   10   ausente    115702\n",
       "20   11  atendido   1318007\n",
       "21   11   ausente    109795\n",
       "22   12  atendido   1436765\n",
       "23   12   ausente    118466"
      ],
      "text/html": [
       "<div>\n",
       "<style scoped>\n",
       "    .dataframe tbody tr th:only-of-type {\n",
       "        vertical-align: middle;\n",
       "    }\n",
       "\n",
       "    .dataframe tbody tr th {\n",
       "        vertical-align: top;\n",
       "    }\n",
       "\n",
       "    .dataframe thead th {\n",
       "        text-align: right;\n",
       "    }\n",
       "</style>\n",
       "<table border=\"1\" class=\"dataframe\">\n",
       "  <thead>\n",
       "    <tr style=\"text-align: right;\">\n",
       "      <th></th>\n",
       "      <th>Mes</th>\n",
       "      <th>Status</th>\n",
       "      <th>Clientes</th>\n",
       "    </tr>\n",
       "  </thead>\n",
       "  <tbody>\n",
       "    <tr>\n",
       "      <th>0</th>\n",
       "      <td>2</td>\n",
       "      <td>ausente</td>\n",
       "      <td>67151</td>\n",
       "    </tr>\n",
       "    <tr>\n",
       "      <th>1</th>\n",
       "      <td>2</td>\n",
       "      <td>atendido</td>\n",
       "      <td>1028735</td>\n",
       "    </tr>\n",
       "    <tr>\n",
       "      <th>2</th>\n",
       "      <td>1</td>\n",
       "      <td>ausente</td>\n",
       "      <td>148615</td>\n",
       "    </tr>\n",
       "    <tr>\n",
       "      <th>3</th>\n",
       "      <td>1</td>\n",
       "      <td>atendido</td>\n",
       "      <td>2153427</td>\n",
       "    </tr>\n",
       "    <tr>\n",
       "      <th>4</th>\n",
       "      <td>3</td>\n",
       "      <td>atendido</td>\n",
       "      <td>1268685</td>\n",
       "    </tr>\n",
       "    <tr>\n",
       "      <th>5</th>\n",
       "      <td>3</td>\n",
       "      <td>ausente</td>\n",
       "      <td>86598</td>\n",
       "    </tr>\n",
       "    <tr>\n",
       "      <th>6</th>\n",
       "      <td>4</td>\n",
       "      <td>ausente</td>\n",
       "      <td>79974</td>\n",
       "    </tr>\n",
       "    <tr>\n",
       "      <th>7</th>\n",
       "      <td>4</td>\n",
       "      <td>atendido</td>\n",
       "      <td>1200700</td>\n",
       "    </tr>\n",
       "    <tr>\n",
       "      <th>8</th>\n",
       "      <td>5</td>\n",
       "      <td>ausente</td>\n",
       "      <td>98806</td>\n",
       "    </tr>\n",
       "    <tr>\n",
       "      <th>9</th>\n",
       "      <td>5</td>\n",
       "      <td>atendido</td>\n",
       "      <td>1401754</td>\n",
       "    </tr>\n",
       "    <tr>\n",
       "      <th>10</th>\n",
       "      <td>6</td>\n",
       "      <td>atendido</td>\n",
       "      <td>1372863</td>\n",
       "    </tr>\n",
       "    <tr>\n",
       "      <th>11</th>\n",
       "      <td>6</td>\n",
       "      <td>ausente</td>\n",
       "      <td>110616</td>\n",
       "    </tr>\n",
       "    <tr>\n",
       "      <th>12</th>\n",
       "      <td>7</td>\n",
       "      <td>ausente</td>\n",
       "      <td>125435</td>\n",
       "    </tr>\n",
       "    <tr>\n",
       "      <th>13</th>\n",
       "      <td>7</td>\n",
       "      <td>atendido</td>\n",
       "      <td>1478936</td>\n",
       "    </tr>\n",
       "    <tr>\n",
       "      <th>14</th>\n",
       "      <td>8</td>\n",
       "      <td>atendido</td>\n",
       "      <td>1425062</td>\n",
       "    </tr>\n",
       "    <tr>\n",
       "      <th>15</th>\n",
       "      <td>8</td>\n",
       "      <td>ausente</td>\n",
       "      <td>113552</td>\n",
       "    </tr>\n",
       "    <tr>\n",
       "      <th>16</th>\n",
       "      <td>9</td>\n",
       "      <td>atendido</td>\n",
       "      <td>1388327</td>\n",
       "    </tr>\n",
       "    <tr>\n",
       "      <th>17</th>\n",
       "      <td>9</td>\n",
       "      <td>ausente</td>\n",
       "      <td>113114</td>\n",
       "    </tr>\n",
       "    <tr>\n",
       "      <th>18</th>\n",
       "      <td>10</td>\n",
       "      <td>atendido</td>\n",
       "      <td>1339100</td>\n",
       "    </tr>\n",
       "    <tr>\n",
       "      <th>19</th>\n",
       "      <td>10</td>\n",
       "      <td>ausente</td>\n",
       "      <td>115702</td>\n",
       "    </tr>\n",
       "    <tr>\n",
       "      <th>20</th>\n",
       "      <td>11</td>\n",
       "      <td>atendido</td>\n",
       "      <td>1318007</td>\n",
       "    </tr>\n",
       "    <tr>\n",
       "      <th>21</th>\n",
       "      <td>11</td>\n",
       "      <td>ausente</td>\n",
       "      <td>109795</td>\n",
       "    </tr>\n",
       "    <tr>\n",
       "      <th>22</th>\n",
       "      <td>12</td>\n",
       "      <td>atendido</td>\n",
       "      <td>1436765</td>\n",
       "    </tr>\n",
       "    <tr>\n",
       "      <th>23</th>\n",
       "      <td>12</td>\n",
       "      <td>ausente</td>\n",
       "      <td>118466</td>\n",
       "    </tr>\n",
       "  </tbody>\n",
       "</table>\n",
       "</div>"
      ]
     },
     "execution_count": 147,
     "metadata": {},
     "output_type": "execute_result"
    }
   ],
   "execution_count": 147
  },
  {
   "metadata": {},
   "cell_type": "markdown",
   "source": "### Tiempo de espera",
   "id": "a1c528f07c96009b"
  },
  {
   "metadata": {},
   "cell_type": "markdown",
   "source": "**Descripción numérica**",
   "id": "51553135bd853c35"
  },
  {
   "metadata": {
    "ExecuteTime": {
     "end_time": "2025-03-17T03:54:31.542795Z",
     "start_time": "2025-03-17T03:54:17.036319Z"
    }
   },
   "cell_type": "code",
   "outputs": [
    {
     "name": "stdout",
     "output_type": "stream",
     "text": [
      "+-------+--------------------+\n",
      "|summary|       Tiempo_espera|\n",
      "+-------+--------------------+\n",
      "|  count|            18100185|\n",
      "|   mean|0.005099834542684433|\n",
      "| stddev|0.011330062165644965|\n",
      "|    min|1.157407407398336...|\n",
      "|    max|  0.5003819444444444|\n",
      "+-------+--------------------+\n",
      "\n"
     ]
    }
   ],
   "execution_count": 63,
   "source": "df.select(col(\"Tiempo_espera\")).describe().show()",
   "id": "d8727fc22f6c4ad1"
  },
  {
   "metadata": {
    "ExecuteTime": {
     "end_time": "2025-03-17T03:55:14.178485Z",
     "start_time": "2025-03-17T03:54:56.593225Z"
    }
   },
   "cell_type": "code",
   "outputs": [
    {
     "data": {
      "text/plain": [
       "[0.0003240740740740877, 0.001782407407407427, 0.005254629629629637]"
      ]
     },
     "execution_count": 64,
     "metadata": {},
     "output_type": "execute_result"
    }
   ],
   "execution_count": 64,
   "source": "df.approxQuantile(\"Tiempo_espera\", [0.25, 0.5, 0.75], 0.01)",
   "id": "70724ea80ebe73df"
  },
  {
   "metadata": {},
   "cell_type": "markdown",
   "source": "Podemos notar una asimetría a la derecha.",
   "id": "78f6fab5eedffa99"
  },
  {
   "metadata": {},
   "cell_type": "markdown",
   "source": "**Descripción gráfica**",
   "id": "26062ba5cd4d3e5e"
  },
  {
   "metadata": {
    "ExecuteTime": {
     "end_time": "2025-03-17T04:56:08.732744Z",
     "start_time": "2025-03-17T04:56:08.456607Z"
    }
   },
   "cell_type": "code",
   "source": [
    "plt.hist(muestra.Tiempo_espera, bins=50)\n",
    "plt.title(\"Distribución del tiempo espera\")\n",
    "plt.xlabel(\"Tiempo_espera\")\n",
    "plt.ylabel(\"Frecuencia\")\n",
    "plt.show()"
   ],
   "id": "4c5bcb8f9cb530cb",
   "outputs": [
    {
     "data": {
      "text/plain": [
       "<Figure size 640x480 with 1 Axes>"
      ],
      "image/png": "[encoded data removed]"
     },
     "metadata": {},
     "output_type": "display_data"
    }
   ],
   "execution_count": 107
  },
  {
   "metadata": {},
   "cell_type": "markdown",
   "source": "### Tiempo de espera de clientes atendidos y ausentes",
   "id": "ca06a18cca0476eb"
  },
  {
   "metadata": {},
   "cell_type": "markdown",
   "source": "### Tiempo de espera promedio por mes",
   "id": "e8083522633253b1"
  },
  {
   "metadata": {
    "ExecuteTime": {
     "end_time": "2025-03-17T05:12:42.984444Z",
     "start_time": "2025-03-17T05:12:42.972269Z"
    }
   },
   "cell_type": "code",
   "source": "espera_prom_mes = muestra.groupby(\"Mes\")[\"Tiempo_espera\"].mean()",
   "id": "bc7116c29b779b4c",
   "outputs": [],
   "execution_count": 127
  },
  {
   "metadata": {
    "ExecuteTime": {
     "end_time": "2025-03-17T05:13:48.802340Z",
     "start_time": "2025-03-17T05:13:48.668450Z"
    }
   },
   "cell_type": "code",
   "source": [
    "plt.bar(muestra.Mes.unique(), espera_prom_mes)\n",
    "plt.title(\"C\")\n",
    "plt.show()"
   ],
   "id": "681f34061afbdd6c",
   "outputs": [
    {
     "data": {
      "text/plain": [
       "<Figure size 640x480 with 1 Axes>"
      ],
      "image/png": "[encoded data removed]"
     },
     "metadata": {},
     "output_type": "display_data"
    }
   ],
   "execution_count": 130
  },
  {
   "metadata": {},
   "cell_type": "markdown",
   "source": "A pesar de que en el mes de enero entran más clientes a las tiendas, los tiempos son menores que los de los demás meses, por lo que es probable que se tenga más personal en este mes.",
   "id": "8df2b1b2b0654129"
  },
  {
   "metadata": {},
   "cell_type": "markdown",
   "source": "## Prueba hipótesis",
   "id": "75325ab3b30cf782"
  },
  {
   "metadata": {},
   "cell_type": "markdown",
   "source": "Antes que nada, a pesar de que parezca obvio, sería buena práctica analizar si realmente existe una diferencia entre los tiempos de espera de clientes que fueron atendidos con los que se fueron antes de ser atendidos. Para esto usaremos prueba de permutación para diferencia de medias.",
   "id": "4c1d6e1d83525b78"
  },
  {
   "metadata": {},
   "cell_type": "markdown",
   "source": "Transformemos los datos para evitar errores numéricos.",
   "id": "67be64ac02a1093f"
  },
  {
   "metadata": {
    "ExecuteTime": {
     "end_time": "2025-03-17T04:56:07.935182Z",
     "start_time": "2025-03-17T04:56:07.928462Z"
    }
   },
   "cell_type": "code",
   "outputs": [],
   "execution_count": 106,
   "source": "muestra[\"Tiempo_espera\"] = 1000 * muestra[\"Tiempo_espera\"]",
   "id": "d00572f327987563"
  },
  {
   "metadata": {},
   "cell_type": "markdown",
   "source": [
    "H0: mu2 - mu1 = 0 \\\n",
    "H1: mu2 - mu1 != 0"
   ],
   "id": "5f7c8efcefb2a606"
  },
  {
   "metadata": {
    "ExecuteTime": {
     "end_time": "2025-03-17T05:00:56.506890Z",
     "start_time": "2025-03-17T05:00:56.382018Z"
    }
   },
   "cell_type": "code",
   "outputs": [
    {
     "data": {
      "text/plain": [
       "679.5725655562512"
      ]
     },
     "execution_count": 116,
     "metadata": {},
     "output_type": "execute_result"
    }
   ],
   "execution_count": 116,
   "source": [
    "# Valor observado\n",
    "obs = (muestra[muestra[\"Status\"] == \"ausente\"][\"Tiempo_espera\"].mean() -\n",
    "       muestra[muestra[\"Status\"] == \"atendido\"][\"Tiempo_espera\"].mean())\n",
    "obs"
   ],
   "id": "dc248f78500acf9d"
  },
  {
   "metadata": {
    "ExecuteTime": {
     "end_time": "2025-03-17T04:57:20.718375Z",
     "start_time": "2025-03-17T04:57:10.098428Z"
    }
   },
   "cell_type": "code",
   "outputs": [],
   "execution_count": 112,
   "source": [
    "B = 100\n",
    "atendidos = muestra[muestra[\"Status\"] == \"atendido\"]\n",
    "ausente = muestra[muestra[\"Status\"] == \"ausente\"]\n",
    "diferencias_medias = []\n",
    "\n",
    "for _ in range(B):\n",
    "    etiquetas = np.random.permutation(muestra[\"Status\"])\n",
    "    diferencias_medias.append(muestra[etiquetas == \"ausente\"][\"Tiempo_espera\"].mean() -\n",
    "                              muestra[etiquetas == \"atendido\"][\"Tiempo_espera\"].mean())"
   ],
   "id": "7f392b829851a74e"
  },
  {
   "metadata": {
    "ExecuteTime": {
     "end_time": "2025-03-17T04:59:31.055060Z",
     "start_time": "2025-03-17T04:59:30.928027Z"
    }
   },
   "cell_type": "code",
   "outputs": [
    {
     "data": {
      "text/plain": [
       "<Figure size 640x480 with 1 Axes>"
      ],
      "image/png": "[encoded data removed]"
     },
     "metadata": {},
     "output_type": "display_data"
    }
   ],
   "execution_count": 115,
   "source": [
    "plt.hist(diferencias_medias)\n",
    "plt.show()"
   ],
   "id": "df47805373aea4e2"
  },
  {
   "metadata": {
    "ExecuteTime": {
     "end_time": "2025-03-17T04:58:07.442170Z",
     "start_time": "2025-03-17T04:58:07.435572Z"
    }
   },
   "cell_type": "code",
   "outputs": [
    {
     "data": {
      "text/plain": [
       "0"
      ]
     },
     "execution_count": 114,
     "metadata": {},
     "output_type": "execute_result"
    }
   ],
   "execution_count": 114,
   "source": "np.sum(diferencias_medias >= obs)",
   "id": "fca54f7fb1be64cf"
  },
  {
   "metadata": {},
   "cell_type": "markdown",
   "source": "Tenemos evidencia muy fuerte en contra de la hipotesis nula, es decir, tenemos suficiente evidencia estadística para creer que, en promedio, las personas que se ausentaron esperaron más que las personas que fueron atendidas.",
   "id": "d9af8f89ba77172e"
  },
  {
   "metadata": {},
   "cell_type": "code",
   "outputs": [],
   "execution_count": null,
   "source": "",
   "id": "63092e23e343032"
  }
 ],
 "metadata": {
  "kernelspec": {
   "display_name": "Python 3",
   "language": "python",
   "name": "python3"
  },
  "language_info": {
   "codemirror_mode": {
    "name": "ipython",
    "version": 2
   },
   "file_extension": ".py",
   "mimetype": "text/x-python",
   "name": "python",
   "nbconvert_exporter": "python",
   "pygments_lexer": "ipython2",
   "version": "2.7.6"
  }
 },
 "nbformat": 4,
 "nbformat_minor": 5
}
