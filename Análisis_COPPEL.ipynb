{
 "cells": [
  {
   "metadata": {},
   "cell_type": "markdown",
   "source": "# Reto Coppel\n",
   "id": "492edb0b3322d582"
  },
  {
   "metadata": {},
   "cell_type": "markdown",
   "source": "## Importación de librerías",
   "id": "2aa4734f37fbc135"
  },
  {
   "metadata": {
    "collapsed": true,
    "ExecuteTime": {
     "end_time": "2025-03-14T20:32:51.237151Z",
     "start_time": "2025-03-14T20:32:51.232510Z"
    }
   },
   "cell_type": "code",
   "source": [
    "from pyspark.sql import SparkSession\n",
    "from pyspark.sql.functions import col, lit,isnan, when, count, sum, countDistinct, year, month, day"
   ],
   "id": "initial_id",
   "outputs": [],
   "execution_count": 75
  },
  {
   "metadata": {},
   "cell_type": "markdown",
   "source": "## Conexión al servidor",
   "id": "babed1c6b5fc940e"
  },
  {
   "metadata": {
    "ExecuteTime": {
     "end_time": "2025-03-14T20:32:51.762892Z",
     "start_time": "2025-03-14T20:32:51.752608Z"
    }
   },
   "cell_type": "code",
   "source": "spark = SparkSession.builder.master(\"local[*]\").getOrCreate()",
   "id": "6989b015c73ff8f4",
   "outputs": [],
   "execution_count": 76
  },
  {
   "metadata": {},
   "cell_type": "markdown",
   "source": "## Carga de datos",
   "id": "faf0c8c5a77b1dd"
  },
  {
   "metadata": {
    "ExecuteTime": {
     "end_time": "2025-03-14T20:33:23.271648Z",
     "start_time": "2025-03-14T20:32:52.032312Z"
    }
   },
   "cell_type": "code",
   "source": [
    "df = spark.read.csv(\"../dataset.csv\", header=True, inferSchema=True)\n",
    "for col_name in df.columns:\n",
    "    df = df.withColumnRenamed(col_name, col_name.capitalize())"
   ],
   "id": "9cc70be7fe924906",
   "outputs": [],
   "execution_count": 77
  },
  {
   "metadata": {},
   "cell_type": "markdown",
   "source": "## Inspección",
   "id": "c45283892b736ae9"
  },
  {
   "metadata": {
    "ExecuteTime": {
     "end_time": "2025-03-14T20:33:23.651046Z",
     "start_time": "2025-03-14T20:33:23.289596Z"
    }
   },
   "cell_type": "code",
   "source": "df.show(5)",
   "id": "ae58f1cac9a00797",
   "outputs": [
    {
     "name": "stdout",
     "output_type": "stream",
     "text": [
      "+------+----------+--------+------------------+------------------+------------------+------+--------+--------+----------------+\n",
      "|   _c0|     Fecha|Segmento|      Hora_llegada|      Hora_llamado|       Hora_salida|  Caja|  Tienda|  Status|          Estado|\n",
      "+------+----------+--------+------------------+------------------+------------------+------+--------+--------+----------------+\n",
      "|821243|2023-01-01|  retail|0.5034652777777778|0.5034768518518519|0.5035810185185186|caja_a|Tienda_A|Atendido|Ciudad de México|\n",
      "|821244|2023-01-01|  retail|0.5035810185185186|0.5036157407407408|0.5111736111111111|caja_a|Tienda_A|Atendido|Ciudad de México|\n",
      "|821245|2023-01-01|  retail|0.5037893518518518| 0.503800925925926|0.5051203703703704|caja_b|Tienda_A|Atendido|Ciudad de México|\n",
      "|821246|2023-01-01|  retail|0.5038472222222222|0.5051319444444444|0.5093333333333333|caja_b|Tienda_A|Atendido|Ciudad de México|\n",
      "|821247|2023-01-01|  retail|0.5038935185185185|0.5080717592592593|0.5099814814814815|caja_c|Tienda_A|Atendido|Ciudad de México|\n",
      "+------+----------+--------+------------------+------------------+------------------+------+--------+--------+----------------+\n",
      "only showing top 5 rows\n",
      "\n"
     ]
    }
   ],
   "execution_count": 78
  },
  {
   "metadata": {
    "ExecuteTime": {
     "end_time": "2025-03-14T20:33:29.040422Z",
     "start_time": "2025-03-14T20:33:23.685502Z"
    }
   },
   "cell_type": "code",
   "source": "print((df.count(), len(df.columns)))",
   "id": "bd308fe254c6943a",
   "outputs": [
    {
     "name": "stdout",
     "output_type": "stream",
     "text": [
      "(18510772, 10)\n"
     ]
    }
   ],
   "execution_count": 79
  },
  {
   "metadata": {},
   "cell_type": "markdown",
   "source": "### Tipos de datos",
   "id": "19d2fe860762a780"
  },
  {
   "metadata": {
    "ExecuteTime": {
     "end_time": "2025-03-14T20:33:29.076423Z",
     "start_time": "2025-03-14T20:33:29.066929Z"
    }
   },
   "cell_type": "code",
   "source": "df.printSchema()",
   "id": "f29f0bd9c4581521",
   "outputs": [
    {
     "name": "stdout",
     "output_type": "stream",
     "text": [
      "root\n",
      " |-- _c0: integer (nullable = true)\n",
      " |-- Fecha: date (nullable = true)\n",
      " |-- Segmento: string (nullable = true)\n",
      " |-- Hora_llegada: double (nullable = true)\n",
      " |-- Hora_llamado: double (nullable = true)\n",
      " |-- Hora_salida: double (nullable = true)\n",
      " |-- Caja: string (nullable = true)\n",
      " |-- Tienda: string (nullable = true)\n",
      " |-- Status: string (nullable = true)\n",
      " |-- Estado: string (nullable = true)\n",
      "\n"
     ]
    }
   ],
   "execution_count": 80
  },
  {
   "metadata": {},
   "cell_type": "markdown",
   "source": "El tipo de dato de cada atributo corresponde a la naturaleza del atributo.",
   "id": "6cfecebba57f96f8"
  },
  {
   "metadata": {},
   "cell_type": "markdown",
   "source": "### Valores nulos",
   "id": "d6b2a4ecdf882234"
  },
  {
   "metadata": {
    "ExecuteTime": {
     "end_time": "2025-03-14T20:33:56.439175Z",
     "start_time": "2025-03-14T20:33:29.111962Z"
    }
   },
   "cell_type": "code",
   "source": "df.agg(*[sum(col(column).isNull().cast(\"int\")).alias(column) for column in df.columns]).show()",
   "id": "74b0212d6209e1e2",
   "outputs": [
    {
     "name": "stdout",
     "output_type": "stream",
     "text": [
      "+---+-----+--------+------------+------------+-----------+----+------+------+------+\n",
      "|_c0|Fecha|Segmento|Hora_llegada|Hora_llamado|Hora_salida|Caja|Tienda|Status|Estado|\n",
      "+---+-----+--------+------------+------------+-----------+----+------+------+------+\n",
      "|  0|    0|       0|           0|           0|          0|   0|     0|     0|     0|\n",
      "+---+-----+--------+------------+------------+-----------+----+------+------+------+\n",
      "\n"
     ]
    }
   ],
   "execution_count": 81
  },
  {
   "metadata": {},
   "cell_type": "markdown",
   "source": "No hay valores nulos.",
   "id": "43fab0601a33cdf1"
  },
  {
   "metadata": {},
   "cell_type": "markdown",
   "source": "### Valores únicos",
   "id": "fe40d281d73d304d"
  },
  {
   "metadata": {
    "ExecuteTime": {
     "end_time": "2025-03-14T20:34:09.566524Z",
     "start_time": "2025-03-14T20:33:56.519722Z"
    }
   },
   "cell_type": "code",
   "source": "df.select(col(\"Segmento\")).distinct().show()",
   "id": "351683f0929b5901",
   "outputs": [
    {
     "name": "stdout",
     "output_type": "stream",
     "text": [
      "+----------+\n",
      "|  Segmento|\n",
      "+----------+\n",
      "|     banco|\n",
      "|    retail|\n",
      "|afiliacion|\n",
      "+----------+\n",
      "\n"
     ]
    }
   ],
   "execution_count": 82
  },
  {
   "metadata": {},
   "cell_type": "markdown",
   "source": [
    "Hay tres tipos de segmento que corresponden a los siguientes tipos: \\\n",
    "Banco: Bancoppel \\\n",
    "Retail: Coppel \\\n",
    "Afiliación: Promotoría"
   ],
   "id": "f888559d390eb08"
  },
  {
   "metadata": {
    "ExecuteTime": {
     "end_time": "2025-03-14T20:34:28.506263Z",
     "start_time": "2025-03-14T20:34:09.618365Z"
    }
   },
   "cell_type": "code",
   "source": "df.select(col(\"Caja\")).distinct().show(df.count())",
   "id": "e07879d086ec79ac",
   "outputs": [
    {
     "name": "stdout",
     "output_type": "stream",
     "text": [
      "+------------+\n",
      "|        Caja|\n",
      "+------------+\n",
      "|      caja_j|\n",
      "|         p_d|\n",
      "|      caja_p|\n",
      "|      caja_f|\n",
      "|         p_h|\n",
      "|      caja_l|\n",
      "|ventanilla_c|\n",
      "|ventanilla_g|\n",
      "|         p_l|\n",
      "|      caja_q|\n",
      "|         p_p|\n",
      "|         p_m|\n",
      "|      caja_n|\n",
      "|         p_k|\n",
      "|      caja_i|\n",
      "|         p_e|\n",
      "|      caja_b|\n",
      "|         p_g|\n",
      "|         p_b|\n",
      "|ventanilla_b|\n",
      "|         p_f|\n",
      "|         p_a|\n",
      "|ventanilla_a|\n",
      "|         p_o|\n",
      "|      caja_d|\n",
      "|      caja_e|\n",
      "|ventanilla_e|\n",
      "|         p_j|\n",
      "|      caja_k|\n",
      "|         p_n|\n",
      "|      caja_a|\n",
      "|         p_c|\n",
      "|      caja_m|\n",
      "|      caja_o|\n",
      "|      caja_h|\n",
      "|ventanilla_f|\n",
      "|      caja_c|\n",
      "|ventanilla_d|\n",
      "|         p_i|\n",
      "|         a_a|\n",
      "|         a_b|\n",
      "|         p_r|\n",
      "|         p_q|\n",
      "|      caja_r|\n",
      "|      caja_t|\n",
      "|         p_s|\n",
      "|      caja_s|\n",
      "|ventanilla_i|\n",
      "|ventanilla_n|\n",
      "|ventanilla_m|\n",
      "|         p_v|\n",
      "|         p_y|\n",
      "|ventanilla_l|\n",
      "|      Caja_d|\n",
      "|      caja_v|\n",
      "|         p_u|\n",
      "|      Caja_f|\n",
      "|      Caja_b|\n",
      "|         p_z|\n",
      "|         P_a|\n",
      "|         p_t|\n",
      "|ventanilla_h|\n",
      "|ventanilla_o|\n",
      "|      Caja_e|\n",
      "|      Caja_a|\n",
      "|      caja_u|\n",
      "|ventanilla_k|\n",
      "|ventanilla_j|\n",
      "|         P_b|\n",
      "|ventanilla_p|\n",
      "|      Caja_c|\n",
      "|ventanilla_q|\n",
      "|ventanilla_r|\n",
      "|ventanilla_s|\n",
      "|         P_c|\n",
      "|      caja_x|\n",
      "|         P_d|\n",
      "+------------+\n",
      "\n"
     ]
    }
   ],
   "execution_count": 83
  },
  {
   "metadata": {},
   "cell_type": "markdown",
   "source": "Se tienen 77 cajas distintas que se dividen en tres tipos: caja, ventanilla, p. Hay errores de etiquetado.",
   "id": "3af3d0b0ed8d1082"
  },
  {
   "metadata": {
    "ExecuteTime": {
     "end_time": "2025-03-14T20:36:35.591819Z",
     "start_time": "2025-03-14T20:36:12.028095Z"
    }
   },
   "cell_type": "code",
   "source": "df.groupBy([\"Segmento\", \"Caja\"]).agg(countDistinct(\"Caja\").alias(\"Cajas_distintas\")).show(df.count())",
   "id": "d8d96a89d249738d",
   "outputs": [
    {
     "name": "stdout",
     "output_type": "stream",
     "text": [
      "+----------+------------+---------------+\n",
      "|  Segmento|        Caja|Cajas_distintas|\n",
      "+----------+------------+---------------+\n",
      "|     banco|ventanilla_b|              1|\n",
      "|    retail|      caja_k|              1|\n",
      "|    retail|      caja_a|              1|\n",
      "|     banco|      caja_l|              1|\n",
      "|afiliacion|         p_a|              1|\n",
      "|     banco|      caja_k|              1|\n",
      "|     banco|         p_f|              1|\n",
      "|afiliacion|ventanilla_f|              1|\n",
      "|     banco|      caja_d|              1|\n",
      "|    retail|ventanilla_a|              1|\n",
      "|afiliacion|      caja_n|              1|\n",
      "|afiliacion|      caja_a|              1|\n",
      "|afiliacion|         p_o|              1|\n",
      "|    retail|      caja_d|              1|\n",
      "|afiliacion|         p_c|              1|\n",
      "|    retail|         p_k|              1|\n",
      "|     banco|      caja_b|              1|\n",
      "|    retail|      caja_i|              1|\n",
      "|     banco|      caja_o|              1|\n",
      "|afiliacion|      caja_h|              1|\n",
      "|     banco|         p_b|              1|\n",
      "|afiliacion|         p_e|              1|\n",
      "|     banco|      caja_p|              1|\n",
      "|     banco|         p_c|              1|\n",
      "|afiliacion|         p_j|              1|\n",
      "|    retail|      caja_h|              1|\n",
      "|    retail|         p_f|              1|\n",
      "|afiliacion|      caja_d|              1|\n",
      "|     banco|      caja_f|              1|\n",
      "|afiliacion|      caja_o|              1|\n",
      "|afiliacion|         p_n|              1|\n",
      "|    retail|         p_c|              1|\n",
      "|    retail|         p_m|              1|\n",
      "|     banco|      caja_e|              1|\n",
      "|     banco|ventanilla_g|              1|\n",
      "|afiliacion|         p_k|              1|\n",
      "|    retail|         p_e|              1|\n",
      "|     banco|      caja_c|              1|\n",
      "|     banco|         p_m|              1|\n",
      "|afiliacion|      caja_m|              1|\n",
      "|     banco|      caja_m|              1|\n",
      "|     banco|ventanilla_e|              1|\n",
      "|afiliacion|         p_l|              1|\n",
      "|    retail|      caja_f|              1|\n",
      "|afiliacion|      caja_b|              1|\n",
      "|     banco|      caja_j|              1|\n",
      "|     banco|         p_g|              1|\n",
      "|     banco|         p_a|              1|\n",
      "|     banco|         p_h|              1|\n",
      "|    retail|      caja_c|              1|\n",
      "|afiliacion|         p_p|              1|\n",
      "|     banco|         p_i|              1|\n",
      "|afiliacion|ventanilla_d|              1|\n",
      "|    retail|         p_h|              1|\n",
      "|    retail|      caja_b|              1|\n",
      "|    retail|         p_g|              1|\n",
      "|afiliacion|         p_d|              1|\n",
      "|    retail|      caja_n|              1|\n",
      "|    retail|      caja_e|              1|\n",
      "|afiliacion|         p_g|              1|\n",
      "|    retail|      caja_q|              1|\n",
      "|afiliacion|         p_h|              1|\n",
      "|     banco|         p_d|              1|\n",
      "|    retail|      caja_m|              1|\n",
      "|     banco|ventanilla_c|              1|\n",
      "|    retail|ventanilla_b|              1|\n",
      "|     banco|         p_e|              1|\n",
      "|    retail|      caja_p|              1|\n",
      "|     banco|      caja_n|              1|\n",
      "|    retail|      caja_o|              1|\n",
      "|afiliacion|      caja_e|              1|\n",
      "|     banco|         p_k|              1|\n",
      "|     banco|ventanilla_d|              1|\n",
      "|     banco|      caja_a|              1|\n",
      "|     banco|      caja_q|              1|\n",
      "|    retail|         p_i|              1|\n",
      "|afiliacion|ventanilla_c|              1|\n",
      "|     banco|      caja_i|              1|\n",
      "|     banco|ventanilla_a|              1|\n",
      "|    retail|ventanilla_d|              1|\n",
      "|afiliacion|         p_i|              1|\n",
      "|afiliacion|      caja_i|              1|\n",
      "|afiliacion|         p_f|              1|\n",
      "|afiliacion|ventanilla_e|              1|\n",
      "|    retail|         p_b|              1|\n",
      "|    retail|         p_a|              1|\n",
      "|afiliacion|ventanilla_b|              1|\n",
      "|afiliacion|      caja_f|              1|\n",
      "|    retail|         p_j|              1|\n",
      "|    retail|      caja_j|              1|\n",
      "|    retail|ventanilla_e|              1|\n",
      "|afiliacion|         p_b|              1|\n",
      "|afiliacion|         p_m|              1|\n",
      "|afiliacion|ventanilla_a|              1|\n",
      "|    retail|         p_d|              1|\n",
      "|     banco|ventanilla_f|              1|\n",
      "|    retail|ventanilla_f|              1|\n",
      "|    retail|      caja_l|              1|\n",
      "|afiliacion|      caja_c|              1|\n",
      "|afiliacion|      caja_j|              1|\n",
      "|    retail|ventanilla_c|              1|\n",
      "|     banco|      caja_h|              1|\n",
      "|     banco|         a_b|              1|\n",
      "|    retail|ventanilla_g|              1|\n",
      "|     banco|         a_a|              1|\n",
      "|    retail|         p_n|              1|\n",
      "|     banco|         p_j|              1|\n",
      "|afiliacion|      caja_k|              1|\n",
      "|afiliacion|         p_q|              1|\n",
      "|afiliacion|         p_r|              1|\n",
      "|     banco|      caja_s|              1|\n",
      "|    retail|      caja_r|              1|\n",
      "|     banco|      caja_r|              1|\n",
      "|afiliacion|      caja_q|              1|\n",
      "|afiliacion|         p_s|              1|\n",
      "|    retail|      caja_s|              1|\n",
      "|    retail|      caja_t|              1|\n",
      "|     banco|      Caja_b|              1|\n",
      "|    retail|ventanilla_l|              1|\n",
      "|    retail|      Caja_b|              1|\n",
      "|    retail|ventanilla_o|              1|\n",
      "|    retail|ventanilla_k|              1|\n",
      "|     banco|      caja_u|              1|\n",
      "|    retail|         p_v|              1|\n",
      "|    retail|ventanilla_m|              1|\n",
      "|afiliacion|         p_v|              1|\n",
      "|     banco|         p_o|              1|\n",
      "|    retail|      Caja_a|              1|\n",
      "|     banco|         p_v|              1|\n",
      "|     banco|ventanilla_h|              1|\n",
      "|    retail|      caja_v|              1|\n",
      "|    retail|         p_o|              1|\n",
      "|afiliacion|         p_t|              1|\n",
      "|    retail|      Caja_c|              1|\n",
      "|afiliacion|         p_y|              1|\n",
      "|     banco|         p_t|              1|\n",
      "|afiliacion|         p_u|              1|\n",
      "|afiliacion|         P_a|              1|\n",
      "|    retail|      Caja_d|              1|\n",
      "|     banco|ventanilla_j|              1|\n",
      "|afiliacion|         P_b|              1|\n",
      "|     banco|      Caja_f|              1|\n",
      "|    retail|      Caja_f|              1|\n",
      "|     banco|ventanilla_m|              1|\n",
      "|    retail|ventanilla_p|              1|\n",
      "|    retail|         p_u|              1|\n",
      "|afiliacion|ventanilla_h|              1|\n",
      "|     banco|         p_n|              1|\n",
      "|     banco|ventanilla_i|              1|\n",
      "|     banco|ventanilla_p|              1|\n",
      "|     banco|      caja_v|              1|\n",
      "|     banco|         p_u|              1|\n",
      "|     banco|      Caja_d|              1|\n",
      "|     banco|ventanilla_k|              1|\n",
      "|     banco|ventanilla_l|              1|\n",
      "|    retail|      Caja_e|              1|\n",
      "|     banco|ventanilla_o|              1|\n",
      "|     banco|      Caja_a|              1|\n",
      "|     banco|ventanilla_q|              1|\n",
      "|afiliacion|         p_z|              1|\n",
      "|     banco|ventanilla_n|              1|\n",
      "|    retail|      caja_u|              1|\n",
      "|    retail|         p_t|              1|\n",
      "|     banco|      Caja_e|              1|\n",
      "|     banco|      Caja_c|              1|\n",
      "|    retail|ventanilla_n|              1|\n",
      "|     banco|         p_p|              1|\n",
      "|    retail|         p_s|              1|\n",
      "|    retail|ventanilla_j|              1|\n",
      "|     banco|      caja_t|              1|\n",
      "|     banco|         p_q|              1|\n",
      "|    retail|         p_q|              1|\n",
      "|afiliacion|ventanilla_o|              1|\n",
      "|     banco|ventanilla_r|              1|\n",
      "|    retail|ventanilla_i|              1|\n",
      "|     banco|         P_a|              1|\n",
      "|     banco|ventanilla_s|              1|\n",
      "|    retail|         p_p|              1|\n",
      "|afiliacion|ventanilla_l|              1|\n",
      "|    retail|ventanilla_s|              1|\n",
      "|    retail|ventanilla_h|              1|\n",
      "|afiliacion|         P_c|              1|\n",
      "|     banco|         p_z|              1|\n",
      "|afiliacion|ventanilla_r|              1|\n",
      "|afiliacion|ventanilla_j|              1|\n",
      "|     banco|         P_c|              1|\n",
      "|afiliacion|ventanilla_n|              1|\n",
      "|afiliacion|      caja_p|              1|\n",
      "|     banco|         p_r|              1|\n",
      "|     banco|         p_y|              1|\n",
      "|afiliacion|ventanilla_i|              1|\n",
      "|     banco|         P_b|              1|\n",
      "|     banco|         p_s|              1|\n",
      "|    retail|         p_y|              1|\n",
      "|    retail|         p_r|              1|\n",
      "|afiliacion|      caja_s|              1|\n",
      "|    retail|ventanilla_r|              1|\n",
      "|    retail|         P_b|              1|\n",
      "|    retail|      caja_x|              1|\n",
      "|    retail|         P_c|              1|\n",
      "|afiliacion|      caja_l|              1|\n",
      "|    retail|         p_z|              1|\n",
      "|    retail|         P_a|              1|\n",
      "|afiliacion|      caja_t|              1|\n",
      "|afiliacion|      caja_v|              1|\n",
      "|     banco|         p_l|              1|\n",
      "|afiliacion|      caja_r|              1|\n",
      "|    retail|         p_l|              1|\n",
      "|    retail|         a_a|              1|\n",
      "|afiliacion|      caja_u|              1|\n",
      "|afiliacion|         P_d|              1|\n",
      "+----------+------------+---------------+\n",
      "\n"
     ]
    }
   ],
   "execution_count": 84
  },
  {
   "metadata": {},
   "cell_type": "markdown",
   "source": "Cada segmento tiene diferentes cajas.",
   "id": "c54fc5548433e491"
  },
  {
   "metadata": {
    "ExecuteTime": {
     "end_time": "2025-03-14T20:37:55.207098Z",
     "start_time": "2025-03-14T20:37:39.029736Z"
    }
   },
   "cell_type": "code",
   "source": "df.groupBy(\"Segmento\").agg(countDistinct(\"Caja\").alias(\"Cajas_distintas\")).show()",
   "id": "1d91e49917aec73d",
   "outputs": [
    {
     "name": "stdout",
     "output_type": "stream",
     "text": [
      "+----------+---------------+\n",
      "|  Segmento|Cajas_distintas|\n",
      "+----------+---------------+\n",
      "|     banco|             75|\n",
      "|    retail|             74|\n",
      "|afiliacion|             62|\n",
      "+----------+---------------+\n",
      "\n"
     ]
    }
   ],
   "execution_count": 85
  },
  {
   "metadata": {
    "ExecuteTime": {
     "end_time": "2025-03-14T20:38:18.973355Z",
     "start_time": "2025-03-14T20:37:59.169254Z"
    }
   },
   "cell_type": "code",
   "source": "df.select(col(\"Tienda\")).distinct().show(df.count())",
   "id": "15ee3c656009ede6",
   "outputs": [
    {
     "name": "stdout",
     "output_type": "stream",
     "text": [
      "+---------+\n",
      "|   Tienda|\n",
      "+---------+\n",
      "| Tienda_G|\n",
      "|Tienda_AE|\n",
      "|Tienda_AI|\n",
      "|Tienda_AD|\n",
      "|Tienda_AH|\n",
      "| Tienda_M|\n",
      "| Tienda_U|\n",
      "| Tienda_L|\n",
      "|Tienda_AX|\n",
      "|Tienda_BD|\n",
      "|Tienda_AG|\n",
      "| Tienda_D|\n",
      "|Tienda_AB|\n",
      "|Tienda_AK|\n",
      "|Tienda_AF|\n",
      "|Tienda_AJ|\n",
      "|Tienda_AM|\n",
      "| Tienda_P|\n",
      "| Tienda_R|\n",
      "| Tienda_V|\n",
      "| Tienda_O|\n",
      "| Tienda_I|\n",
      "| Tienda_N|\n",
      "| Tienda_A|\n",
      "| Tienda_B|\n",
      "|Tienda_BB|\n",
      "|Tienda_AA|\n",
      "| Tienda_S|\n",
      "|Tienda_AN|\n",
      "|Tienda_AP|\n",
      "| Tienda_X|\n",
      "| Tienda_Z|\n",
      "| Tienda_E|\n",
      "|Tienda_AO|\n",
      "|Tienda_BE|\n",
      "|Tienda_AY|\n",
      "| Tienda_T|\n",
      "|Tienda_AC|\n",
      "|Tienda_BC|\n",
      "| Tienda_J|\n",
      "|Tienda_AL|\n",
      "| Tienda_Q|\n",
      "| Tienda_H|\n",
      "|Tienda_BA|\n",
      "|Tienda_AZ|\n",
      "| Tienda_Y|\n",
      "| Tienda_F|\n",
      "| Tienda_K|\n",
      "|Tienda_AQ|\n",
      "| Tienda_C|\n",
      "+---------+\n",
      "\n"
     ]
    }
   ],
   "execution_count": 86
  },
  {
   "metadata": {},
   "cell_type": "markdown",
   "source": "Se tienen 50 tiendas distintas.",
   "id": "dcd127afeea99872"
  },
  {
   "metadata": {
    "ExecuteTime": {
     "end_time": "2025-03-14T19:49:49.128105Z",
     "start_time": "2025-03-14T19:49:35.676746Z"
    }
   },
   "cell_type": "code",
   "source": "df.select(col(\"Status\")).distinct().show()",
   "id": "c8f3cd1dde55f380",
   "outputs": [
    {
     "name": "stdout",
     "output_type": "stream",
     "text": [
      "+--------+\n",
      "|  Status|\n",
      "+--------+\n",
      "| Ausente|\n",
      "|Atendido|\n",
      "+--------+\n",
      "\n"
     ]
    }
   ],
   "execution_count": 52
  },
  {
   "metadata": {
    "ExecuteTime": {
     "end_time": "2025-03-14T20:38:53.688206Z",
     "start_time": "2025-03-14T20:38:36.861626Z"
    }
   },
   "cell_type": "code",
   "source": "df.select(col(\"Estado\")).distinct().show(df.count())",
   "id": "567bec241dd85f37",
   "outputs": [
    {
     "name": "stdout",
     "output_type": "stream",
     "text": [
      "+--------------------+\n",
      "|              Estado|\n",
      "+--------------------+\n",
      "|    Ciudad de México|\n",
      "|             Sinaloa|\n",
      "| Michoacán de Ocampo|\n",
      "|             Durango|\n",
      "|            Guerrero|\n",
      "|             Chiapas|\n",
      "|          Guanajuato|\n",
      "|Coahuila de Zaragoza|\n",
      "|           Chihuahua|\n",
      "|             Morelos|\n",
      "|Veracruz de Ignac...|\n",
      "|             Yucatán|\n",
      "|             Tabasco|\n",
      "|              Oaxaca|\n",
      "| Baja California Sur|\n",
      "|              Puebla|\n",
      "|          Nuevo León|\n",
      "|           Zacatecas|\n",
      "|           Querétaro|\n",
      "|        Quintana Roo|\n",
      "|              Sonora|\n",
      "|              México|\n",
      "|     Baja California|\n",
      "+--------------------+\n",
      "\n"
     ]
    }
   ],
   "execution_count": 87
  },
  {
   "metadata": {},
   "cell_type": "markdown",
   "source": "Se incluyen solo 23 estados de la república.",
   "id": "7019d265935b3277"
  },
  {
   "metadata": {},
   "cell_type": "markdown",
   "source": "Hay errores de etiquetado en el atributo *Caja*.",
   "id": "b8b68bb73dff77e8"
  },
  {
   "metadata": {},
   "cell_type": "markdown",
   "source": "## Limpieza de datos",
   "id": "87114cfb1d6f9cba"
  },
  {
   "metadata": {},
   "cell_type": "markdown",
   "source": "Corregir errores de etiquetado y elimar observaciones donde hora de llegada es mayor que la hora de llamado o salida y las observaciones donde su hora de llamado es mayor al horario de salida.",
   "id": "865590be7233251e"
  },
  {
   "metadata": {},
   "cell_type": "markdown",
   "source": "## Transformación de datos",
   "id": "4802cb160e6d3e91"
  },
  {
   "metadata": {
    "ExecuteTime": {
     "end_time": "2025-03-14T20:25:59.035828Z",
     "start_time": "2025-03-14T20:25:58.642296Z"
    }
   },
   "cell_type": "code",
   "source": [
    "df = df.withColumn(\"Anio\", year(col(\"Fecha\")))\n",
    "df = df.withColumn(\"Mes\", month(col(\"Fecha\")))\n",
    "df = df.withColumn(\"Dia\", day(col(\"Fecha\")))\n",
    "df.show(5)"
   ],
   "id": "e1fbefa67c8266d4",
   "outputs": [
    {
     "name": "stdout",
     "output_type": "stream",
     "text": [
      "+------+----------+--------+------------------+------------------+------------------+------+--------+--------+----------------+----+---+---+\n",
      "|   _c0|     Fecha|Segmento|      Hora_llegada|      Hora_llamado|       Hora_salida|  Caja|  Tienda|  Status|          Estado|Anio|Mes|Dia|\n",
      "+------+----------+--------+------------------+------------------+------------------+------+--------+--------+----------------+----+---+---+\n",
      "|821243|2023-01-01|  retail|0.5034652777777778|0.5034768518518519|0.5035810185185186|caja_a|Tienda_A|Atendido|Ciudad de México|2023|  1|  1|\n",
      "|821244|2023-01-01|  retail|0.5035810185185186|0.5036157407407408|0.5111736111111111|caja_a|Tienda_A|Atendido|Ciudad de México|2023|  1|  1|\n",
      "|821245|2023-01-01|  retail|0.5037893518518518| 0.503800925925926|0.5051203703703704|caja_b|Tienda_A|Atendido|Ciudad de México|2023|  1|  1|\n",
      "|821246|2023-01-01|  retail|0.5038472222222222|0.5051319444444444|0.5093333333333333|caja_b|Tienda_A|Atendido|Ciudad de México|2023|  1|  1|\n",
      "|821247|2023-01-01|  retail|0.5038935185185185|0.5080717592592593|0.5099814814814815|caja_c|Tienda_A|Atendido|Ciudad de México|2023|  1|  1|\n",
      "+------+----------+--------+------------------+------------------+------------------+------+--------+--------+----------------+----+---+---+\n",
      "only showing top 5 rows\n",
      "\n"
     ]
    }
   ],
   "execution_count": 69
  },
  {
   "metadata": {},
   "cell_type": "markdown",
   "source": "## Inspección de las fechas",
   "id": "b7338da4a29d8c57"
  },
  {
   "metadata": {
    "ExecuteTime": {
     "end_time": "2025-03-14T20:28:06.378608Z",
     "start_time": "2025-03-14T20:27:46.809845Z"
    }
   },
   "cell_type": "code",
   "source": "df.select(col(\"Anio\")).distinct().show()",
   "id": "a6e2e9a93c12fed",
   "outputs": [
    {
     "name": "stdout",
     "output_type": "stream",
     "text": [
      "+----+\n",
      "|Anio|\n",
      "+----+\n",
      "|2023|\n",
      "|2024|\n",
      "+----+\n",
      "\n"
     ]
    }
   ],
   "execution_count": 70
  },
  {
   "metadata": {
    "ExecuteTime": {
     "end_time": "2025-03-14T20:28:22.541384Z",
     "start_time": "2025-03-14T20:28:06.416504Z"
    }
   },
   "cell_type": "code",
   "source": "df.select(col(\"Mes\")).distinct().show()",
   "id": "9a5b7c212e270a9e",
   "outputs": [
    {
     "name": "stdout",
     "output_type": "stream",
     "text": [
      "+---+\n",
      "|Mes|\n",
      "+---+\n",
      "|  1|\n",
      "|  2|\n",
      "|  3|\n",
      "|  4|\n",
      "|  5|\n",
      "|  6|\n",
      "|  7|\n",
      "|  8|\n",
      "|  9|\n",
      "| 10|\n",
      "| 11|\n",
      "| 12|\n",
      "+---+\n",
      "\n"
     ]
    }
   ],
   "execution_count": 71
  },
  {
   "metadata": {
    "ExecuteTime": {
     "end_time": "2025-03-14T20:30:55.537954Z",
     "start_time": "2025-03-14T20:30:36.231050Z"
    }
   },
   "cell_type": "code",
   "source": "df.select(col(\"Dia\")).distinct().orderBy(col(\"Dia\")).show(df.count())",
   "id": "fe5363c9c9920a57",
   "outputs": [
    {
     "name": "stdout",
     "output_type": "stream",
     "text": [
      "+---+\n",
      "|Dia|\n",
      "+---+\n",
      "|  1|\n",
      "|  2|\n",
      "|  3|\n",
      "|  4|\n",
      "|  5|\n",
      "|  6|\n",
      "|  7|\n",
      "|  8|\n",
      "|  9|\n",
      "| 10|\n",
      "| 11|\n",
      "| 12|\n",
      "| 13|\n",
      "| 14|\n",
      "| 15|\n",
      "| 16|\n",
      "| 17|\n",
      "| 18|\n",
      "| 19|\n",
      "| 20|\n",
      "| 21|\n",
      "| 22|\n",
      "| 23|\n",
      "| 24|\n",
      "| 25|\n",
      "| 26|\n",
      "| 27|\n",
      "| 28|\n",
      "| 29|\n",
      "| 30|\n",
      "| 31|\n",
      "+---+\n",
      "\n"
     ]
    }
   ],
   "execution_count": 74
  },
  {
   "metadata": {},
   "cell_type": "code",
   "outputs": [],
   "execution_count": null,
   "source": "",
   "id": "7c65ee30f1f18578"
  }
 ],
 "metadata": {
  "kernelspec": {
   "display_name": "Python 3",
   "language": "python",
   "name": "python3"
  },
  "language_info": {
   "codemirror_mode": {
    "name": "ipython",
    "version": 2
   },
   "file_extension": ".py",
   "mimetype": "text/x-python",
   "name": "python",
   "nbconvert_exporter": "python",
   "pygments_lexer": "ipython2",
   "version": "2.7.6"
  }
 },
 "nbformat": 4,
 "nbformat_minor": 5
}
